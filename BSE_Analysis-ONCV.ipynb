{
 "cells": [
  {
   "cell_type": "code",
   "execution_count": 1,
   "metadata": {},
   "outputs": [],
   "source": [
    "# useful to autoreload the module without restarting the kernel\n",
    "%load_ext autoreload\n",
    "%autoreload 2"
   ]
  },
  {
   "cell_type": "code",
   "execution_count": 2,
   "metadata": {},
   "outputs": [],
   "source": [
    "from mppi import InputFiles as I, Calculators as C, Datasets as D, Parsers as P, Utilities as U\n",
    "from mppi.Calculators import Tools\n",
    "from mppi.Datasets import PostProcessing as PP\n",
    "import matplotlib.pyplot as plt\n",
    "import numpy as np\n",
    "import os"
   ]
  },
  {
   "cell_type": "code",
   "execution_count": null,
   "metadata": {},
   "outputs": [],
   "source": [
    "# RunRules for local computations\n",
    "mpi = 4\n",
    "omp = 2\n",
    "\n",
    "rr = C.RunRules(omp_num_threads=omp,mpi=mpi)\n",
    "code = C.QeCalculator(rr)\n",
    "#code.global_options()"
   ]
  },
  {
   "cell_type": "code",
   "execution_count": 3,
   "metadata": {},
   "outputs": [
    {
     "name": "stdout",
     "output_type": "stream",
     "text": [
      "Initialize a Yambo calculator with scheduler slurm\n"
     ]
    },
    {
     "data": {
      "text/plain": [
       "{'scheduler': 'slurm',\n",
       " 'nodes': 1,\n",
       " 'ntasks_per_node': 32,\n",
       " 'cpus_per_task': 1,\n",
       " 'omp_num_threads': 1,\n",
       " 'gpus_per_node': None,\n",
       " 'memory': '125000',\n",
       " 'time': None,\n",
       " 'partition': 'all12h',\n",
       " 'account': None,\n",
       " 'qos': None,\n",
       " 'map_by': None,\n",
       " 'pe': 1,\n",
       " 'rank_by': None,\n",
       " 'executable': 'yambo',\n",
       " 'skip': True,\n",
       " 'clean_restart': True,\n",
       " 'dry_run': False,\n",
       " 'wait_end_run': True,\n",
       " 'activate_BeeOND': True,\n",
       " 'verbose': True,\n",
       " 'fatlog': False}"
      ]
     },
     "execution_count": 3,
     "metadata": {},
     "output_type": "execute_result"
    }
   ],
   "source": [
    "# RunRules for ismhpc\n",
    "# The product of ntasks_per_node*cpus_per_task is equal to 32. \n",
    "# Many mpi are needed for better performances\n",
    "nodes = 1\n",
    "ntasks_per_node = 32 #16\n",
    "cpus_per_task = 1 #2\n",
    "omp_num_threads = 1 #2\n",
    "\n",
    "ntasks = nodes*ntasks_per_node\n",
    "\n",
    "rr = C.RunRules(scheduler='slurm',partition='all12h', #'all12h',\n",
    "                memory='125000',\n",
    "                nodes=nodes,ntasks_per_node=ntasks_per_node,\n",
    "                cpus_per_task=cpus_per_task,\n",
    "                omp_num_threads=omp_num_threads)\n",
    "code = C.YamboCalculator(rr,activate_BeeOND=True) #,reformat=False,clean_restart=False,skip=False,fatlog=True)\n",
    "code.global_options()"
   ]
  },
  {
   "cell_type": "code",
   "execution_count": null,
   "metadata": {},
   "outputs": [],
   "source": [
    "# RunRules for m100\n",
    "nodes = 8 # 16\n",
    "ntasks_per_node = 4\n",
    "cpus_per_task=32\n",
    "omp_num_threads=8\n",
    "gpus_per_node=4\n",
    "pe=8\n",
    "\n",
    "ntasks = nodes*ntasks_per_node\n",
    "\n",
    "rr = C.RunRules(scheduler='slurm',partition='m100_usr_prod',\n",
    "                account='IscrC_PrExIn',\n",
    "                memory='240GB',time='23:59:00',\n",
    "                nodes=nodes,ntasks_per_node=ntasks_per_node,\n",
    "                cpus_per_task=cpus_per_task,omp_num_threads=omp_num_threads,\n",
    "                gpus_per_node=gpus_per_node,pe=pe,\n",
    "                map_by='socket',rank_by='core')\n",
    "code = C.YamboCalculator(rr)\n",
    "code.global_options()"
   ]
  },
  {
   "cell_type": "markdown",
   "metadata": {
    "tags": []
   },
   "source": [
    "# BSE analysis for Stanene monolayer"
   ]
  },
  {
   "cell_type": "markdown",
   "metadata": {},
   "source": [
    "We compute the first excitonic energy and the absorption spectrum of the monolayer Stanene within the BSE framework."
   ]
  },
  {
   "cell_type": "markdown",
   "metadata": {
    "tags": []
   },
   "source": [
    "## Convergence analysis in function of the number of bands"
   ]
  },
  {
   "cell_type": "markdown",
   "metadata": {},
   "source": [
    "We study the convergence of the low energy part of the absorption spectrum.\n",
    "The GW correction are included using a scissor on top of the DFT gap.\n",
    "\n",
    "We perform this analysis for the 18x18x1 k-sampling. We use the RIM_W, the study of the \n",
    "convergence of the exciton binding energy with and without the RIM_W will be performed later."
   ]
  },
  {
   "cell_type": "code",
   "execution_count": 54,
   "metadata": {},
   "outputs": [
    {
     "name": "stdout",
     "output_type": "stream",
     "text": [
      "scissor 0.096\n"
     ]
    }
   ],
   "source": [
    "dft_gap = 0.088\n",
    "gw_gap = 0.184 #\n",
    "scissor = gw_gap-dft_gap # eV\n",
    "print('scissor',scissor)\n",
    "\n",
    "kpoints = 18"
   ]
  },
  {
   "cell_type": "code",
   "execution_count": 56,
   "metadata": {},
   "outputs": [
    {
     "name": "stdout",
     "output_type": "stream",
     "text": [
      "Initialize a Dataset with 1 parallel tasks\n"
     ]
    }
   ],
   "source": [
    "run_dir = 'GW_analysis-ONCV/kpoints_%s-nbnds_500/'%kpoints\n",
    "\n",
    "RandGvec = 200\n",
    "Randqpts = 5e6\n",
    "RandGvecW = 10\n",
    "EXXRLvcs = 40. # Ha\n",
    "EXXRLVcs_units = 'Ha'\n",
    "\n",
    "BSENGBlk = 3.0 # Ha  value of the BSENGBlk variable (it can be reduced w.r.t the NGsBlkXs!)\n",
    "EXXRLvcs = 40. # Ha use this value for the BSENGexx variable\n",
    "FFTGvecs = 30. # Ha\n",
    "elec_field = [1.,0.,0.]\n",
    "BSEBands = [[25,30],[25,32]]\n",
    "BEnRange = [-0.5,1] # eV\n",
    "BEnSteps = 1000\n",
    "BSSNEig = 20 # number of excitonic eigenvalues\n",
    "damping = [0.03,0.03] # eV\n",
    "\n",
    "study = D.Dataset(num_tasks=1,verbose=True,skip=True)\n",
    "study.set_postprocessing_function(PP.yambo_parse_data)\n",
    "\n",
    "inp = I.YamboInput('yambo -r -o b -k sex -y s',folder=run_dir)\n",
    "#inp = I.YamboInput('mpirun -np 1 yambo -r -o b -k sex -y s',folder=run_dir)\n",
    "inp.activate_RIM_W()   \n",
    "inp.set_scalar_variables(CUTGeo='slab z')\n",
    "inp.set_array_variables(RandQpts=Randqpts)\n",
    "inp.set_array_variables(units='RL',RandGvec=RandGvec,RandGvecW=RandGvecW)\n",
    "inp.set_array_variables(units='Ha',BSENGexx=EXXRLvcs,BSENGBlk=BSENGBlk,FFTGvecs=FFTGvecs)\n",
    "inp.set_array_variables(BLongDir=elec_field,KfnQP_E=[scissor,1.,1.])\n",
    "inp.set_array_variables(units='eV',BEnRange=BEnRange,BDmRange=damping)\n",
    "inp.set_scalar_variables(BSEprop= 'abs esrt')\n",
    "inp.set_scalar_variables(DBsIOoff='BS') # turn off the I/O of the BSE kernel\n",
    "inp.set_scalar_variables(BS_CPU='16.2.1',BS_ROLEs= 'k.eh.t')     \n",
    "for bsebands in BSEBands:\n",
    "    idd = 'abs-bse-bsebands_%s_%s-bsengblk_%s'%(bsebands[0],bsebands[1],BSENGBlk)\n",
    "    inp.set_array_variables(BSEBands=bsebands,BEnSteps=BEnSteps,BSSNEig=BSSNEig)\n",
    "    study.append_run(id=idd,input=inp,runner=code,run_dir=run_dir,\n",
    "    jobname=[idd,'ndb_em1d-ngsblkxp_8.0-bndsrnxp_500','ndb_rim_cutoff','ndb_dipoles-nbnds_500'],reformat=False)"
   ]
  },
  {
   "cell_type": "code",
   "execution_count": 57,
   "metadata": {},
   "outputs": [
    {
     "data": {
      "text/plain": [
       "['abs-bse-bsebands_25_30-bsengblk_3.0', 'abs-bse-bsebands_25_32-bsengblk_3.0']"
      ]
     },
     "execution_count": 57,
     "metadata": {},
     "output_type": "execute_result"
    }
   ],
   "source": [
    "study.ids"
   ]
  },
  {
   "cell_type": "code",
   "execution_count": 58,
   "metadata": {},
   "outputs": [],
   "source": [
    "#study.runs[0]"
   ]
  },
  {
   "cell_type": "code",
   "execution_count": 59,
   "metadata": {},
   "outputs": [
    {
     "name": "stdout",
     "output_type": "stream",
     "text": [
      "Run the selection [0, 1] with the parallel task_groups [[0], [1]] \n",
      "\n",
      "Run the task [0] \n",
      "Skip the run of abs-bse-bsebands_25_30-bsengblk_3.0\n",
      "Task [0] ended \n",
      " \n",
      "Run the task [1] \n",
      "Skip the run of abs-bse-bsebands_25_32-bsengblk_3.0\n",
      "Task [1] ended \n",
      " \n"
     ]
    }
   ],
   "source": [
    "results = study.run()"
   ]
  },
  {
   "cell_type": "code",
   "execution_count": 63,
   "metadata": {},
   "outputs": [
    {
     "data": {
      "text/plain": [
       "<matplotlib.legend.Legend at 0x7fe587c6c748>"
      ]
     },
     "execution_count": 63,
     "metadata": {},
     "output_type": "execute_result"
    },
    {
     "data": {
      "image/png": "[encoded data removed]",
      "text/plain": [
       "<Figure size 720x576 with 1 Axes>"
      ]
     },
     "metadata": {
      "needs_background": "light"
     },
     "output_type": "display_data"
    }
   ],
   "source": [
    "fig, ax = plt.subplots(figsize=(10, 8))\n",
    "\n",
    "for ind,b in enumerate(BSEBands):\n",
    "    data = results[ind].data['alpha_q1_slepc_bse']\n",
    "    energy = data['energy']\n",
    "    alpha_im = data['alpha_imag']\n",
    "    alpha_o_im = data['alpha_o_imag']\n",
    "    ax.plot(energy,alpha_im,label='bands_%s-%s'%(b[0],b[1])) \n",
    "    ax.plot(energy,alpha_o_im,linestyle='--',label='ip-bands_%s-%s'%(b[0],b[1])) \n",
    "ax.vlines(gw_gap,-1,800,linestyles='--',color='red',linewidth=2)\n",
    "ax.set_xlim(-0.5,1)\n",
    "#ax.set_ylim(-1e-4,4e-3)\n",
    "ax.set_ylabel('Abs spectrum',size=20)\n",
    "ax.set_xlabel('energy (eV)',size=20)\n",
    "ax.legend(fontsize=14)"
   ]
  },
  {
   "cell_type": "markdown",
   "metadata": {},
   "source": [
    "We observe that also the exciton binding energy is well converged w.r.t. the number of bands"
   ]
  },
  {
   "cell_type": "code",
   "execution_count": 64,
   "metadata": {},
   "outputs": [
    {
     "data": {
      "text/plain": [
       "[array([0.114345, 0.115693, 0.118504, 0.477787, 0.479647, 0.511578,\n",
       "        0.512583, 0.544306, 0.5547  ]),\n",
       " array([0.114167, 0.115673, 0.118485, 0.477604, 0.479527, 0.51005 ,\n",
       "        0.511133, 0.544296, 0.554687])]"
      ]
     },
     "execution_count": 64,
     "metadata": {},
     "output_type": "execute_result"
    }
   ],
   "source": [
    "exc_eng = [results[ind].data['Esort_q1_slepc_bse']['energy'] for ind in range(len(BSEBands))]\n",
    "exc_eng"
   ]
  },
  {
   "cell_type": "code",
   "execution_count": 65,
   "metadata": {},
   "outputs": [
    {
     "data": {
      "text/plain": [
       "[0.069655, 0.06983299999999999]"
      ]
     },
     "execution_count": 65,
     "metadata": {},
     "output_type": "execute_result"
    }
   ],
   "source": [
    "bind_eng = [gw_gap-exc_eng[ind][0] for ind in range(len(BSEBands))]\n",
    "bind_eng"
   ]
  },
  {
   "cell_type": "markdown",
   "metadata": {},
   "source": [
    "## Convergence analysis in function of BSENGBlk"
   ]
  },
  {
   "cell_type": "code",
   "execution_count": 67,
   "metadata": {},
   "outputs": [
    {
     "name": "stdout",
     "output_type": "stream",
     "text": [
      "Initialize a Dataset with 1 parallel tasks\n"
     ]
    }
   ],
   "source": [
    "run_dir = 'GW_analysis-ONCV/kpoints_%s-nbnds_500/'%kpoints\n",
    "\n",
    "RandGvec = 200\n",
    "Randqpts = 5e6\n",
    "RandGvecW = 10\n",
    "EXXRLvcs = 40. # Ha\n",
    "EXXRLVcs_units = 'Ha'\n",
    "\n",
    "BSENGBlk = [3.0,4.0] # Ha  value of the BSENGBlk variable (it can be reduced w.r.t the NGsBlkXs!)\n",
    "EXXRLvcs = 40. # Ha use this value for the BSENGexx variable\n",
    "FFTGvecs = 30. # Ha\n",
    "elec_field = [1.,0.,0.]\n",
    "BSEBands = [25,30]\n",
    "BEnRange = [-0.5,1] # eV\n",
    "BEnSteps = 1000\n",
    "BSSNEig = 20 # number of excitonic eigenvalues\n",
    "damping = [0.03,0.03] # eV\n",
    "\n",
    "study = D.Dataset(num_tasks=1,verbose=True,skip=True)\n",
    "study.set_postprocessing_function(PP.yambo_parse_data)\n",
    "\n",
    "inp = I.YamboInput('yambo -r -o b -k sex -y s',folder=run_dir)\n",
    "#inp = I.YamboInput('mpirun -np 1 yambo -r -o b -k sex -y s',folder=run_dir)\n",
    "inp.activate_RIM_W()   \n",
    "inp.set_scalar_variables(CUTGeo='slab z')\n",
    "inp.set_array_variables(RandQpts=Randqpts)\n",
    "inp.set_array_variables(units='RL',RandGvec=RandGvec,RandGvecW=RandGvecW)\n",
    "inp.set_array_variables(BLongDir=elec_field,KfnQP_E=[scissor,1.,1.])\n",
    "inp.set_array_variables(units='eV',BEnRange=BEnRange,BDmRange=damping)\n",
    "inp.set_scalar_variables(BSEprop= 'abs esrt')\n",
    "inp.set_scalar_variables(DBsIOoff='BS') # turn off the I/O of the BSE kernel\n",
    "inp.set_scalar_variables(BS_CPU='16.2.1',BS_ROLEs= 'k.eh.t')     \n",
    "for bsengblk in BSENGBlk:\n",
    "    idd = 'abs-bse-bsebands_%s_%s-bsengblk_%s'%(BSEBands[0],BSEBands[1],bsengblk)\n",
    "    inp.set_array_variables(BSEBands=BSEBands,BEnSteps=BEnSteps,BSSNEig=BSSNEig)\n",
    "    inp.set_array_variables(units='Ha',BSENGexx=EXXRLvcs,BSENGBlk=bsengblk,FFTGvecs=FFTGvecs)\n",
    "    study.append_run(id=idd,input=inp,runner=code,run_dir=run_dir,\n",
    "    jobname=[idd,'ndb_em1d-ngsblkxp_8.0-bndsrnxp_500','ndb_rim_cutoff','ndb_dipoles-nbnds_500'],reformat=False)"
   ]
  },
  {
   "cell_type": "code",
   "execution_count": 68,
   "metadata": {},
   "outputs": [
    {
     "data": {
      "text/plain": [
       "['abs-bse-bsebands_25_30-bsengblk_3.0', 'abs-bse-bsebands_25_30-bsengblk_4.0']"
      ]
     },
     "execution_count": 68,
     "metadata": {},
     "output_type": "execute_result"
    }
   ],
   "source": [
    "study.ids"
   ]
  },
  {
   "cell_type": "code",
   "execution_count": 69,
   "metadata": {},
   "outputs": [],
   "source": [
    "#study.runs[1]"
   ]
  },
  {
   "cell_type": "code",
   "execution_count": 70,
   "metadata": {},
   "outputs": [
    {
     "name": "stdout",
     "output_type": "stream",
     "text": [
      "Run the selection [0, 1] with the parallel task_groups [[0], [1]] \n",
      "\n",
      "Run the task [0] \n",
      "Skip the run of abs-bse-bsebands_25_30-bsengblk_3.0\n",
      "Task [0] ended \n",
      " \n",
      "Run the task [1] \n",
      "Skip the run of abs-bse-bsebands_25_30-bsengblk_4.0\n",
      "Task [1] ended \n",
      " \n"
     ]
    }
   ],
   "source": [
    "results = study.run()"
   ]
  },
  {
   "cell_type": "code",
   "execution_count": 71,
   "metadata": {},
   "outputs": [
    {
     "data": {
      "text/plain": [
       "<matplotlib.legend.Legend at 0x7fe587bd9cf8>"
      ]
     },
     "execution_count": 71,
     "metadata": {},
     "output_type": "execute_result"
    },
    {
     "data": {
      "image/png": "[encoded data removed]",
      "text/plain": [
       "<Figure size 720x576 with 1 Axes>"
      ]
     },
     "metadata": {
      "needs_background": "light"
     },
     "output_type": "display_data"
    }
   ],
   "source": [
    "fig, ax = plt.subplots(figsize=(10, 8))\n",
    "\n",
    "for ind,b in enumerate(BSENGBlk):\n",
    "    data = results[ind].data['alpha_q1_slepc_bse']\n",
    "    energy = data['energy']\n",
    "    alpha_im = data['alpha_imag']\n",
    "    ax.plot(energy,alpha_im,label='BSENGBlk_%s'%b) \n",
    "ax.vlines(gw_gap,-1,800,linestyles='--',color='red',linewidth=2)\n",
    "ax.set_xlim(-0.5,1)\n",
    "#ax.set_ylim(-1e-4,4e-3)\n",
    "ax.set_ylabel('Abs spectrum',size=20)\n",
    "ax.set_xlabel('energy (eV)',size=20)\n",
    "ax.legend(fontsize=14)"
   ]
  },
  {
   "cell_type": "markdown",
   "metadata": {},
   "source": [
    "We observe that also the exciton binding energy is well converged w.r.t. the number of bands"
   ]
  },
  {
   "cell_type": "code",
   "execution_count": 39,
   "metadata": {},
   "outputs": [
    {
     "data": {
      "text/plain": [
       "[array([0.114345, 0.115693, 0.118504, 0.477787, 0.479647, 0.511578,\n",
       "        0.512583, 0.544306, 0.5547  ]),\n",
       " array([0.11435 , 0.115693, 0.118505, 0.477778, 0.479639, 0.511603,\n",
       "        0.512607, 0.544308, 0.554705])]"
      ]
     },
     "execution_count": 39,
     "metadata": {},
     "output_type": "execute_result"
    }
   ],
   "source": [
    "exc_eng = [results[ind].data['Esort_q1_slepc_bse']['energy'] for ind in range(len(BSENGBlk))]\n",
    "exc_eng"
   ]
  },
  {
   "cell_type": "code",
   "execution_count": 40,
   "metadata": {},
   "outputs": [
    {
     "data": {
      "text/plain": [
       "[0.069655, 0.06965]"
      ]
     },
     "execution_count": 40,
     "metadata": {},
     "output_type": "execute_result"
    }
   ],
   "source": [
    "bind_eng = [gw_gap-exc_eng[ind][0] for ind in range(len(BSENGBlk))]\n",
    "bind_eng"
   ]
  },
  {
   "cell_type": "markdown",
   "metadata": {},
   "source": [
    "## Abs spectrum using the true GW band structure"
   ]
  },
  {
   "cell_type": "code",
   "execution_count": 42,
   "metadata": {},
   "outputs": [],
   "source": [
    "ndbQP = 'pp-allBZ-ngsblkxp_8.0-bndsrnxp_500-gbndrnge_500/ndb.QP'"
   ]
  },
  {
   "cell_type": "code",
   "execution_count": 46,
   "metadata": {},
   "outputs": [
    {
     "name": "stdout",
     "output_type": "stream",
     "text": [
      "Initialize a Dataset with 1 parallel tasks\n"
     ]
    }
   ],
   "source": [
    "run_dir = 'GW_analysis-ONCV/kpoints_%s-nbnds_500/'%kpoints\n",
    "\n",
    "RandGvec = 200\n",
    "Randqpts = 5e6\n",
    "RandGvecW = 10\n",
    "EXXRLvcs = 40. # Ha\n",
    "EXXRLVcs_units = 'Ha'\n",
    "\n",
    "BSENGBlk = 3.0 # Ha  value of the BSENGBlk variable (it can be reduced w.r.t the NGsBlkXs!)\n",
    "EXXRLvcs = 40. # Ha use this value for the BSENGexx variable\n",
    "FFTGvecs = 30. # Ha\n",
    "elec_field = [1.,0.,0.]\n",
    "BSEBands = [25,32]\n",
    "BEnRange = [-0.5,1] # eV\n",
    "BEnSteps = 1000\n",
    "BSSNEig = 20 # number of excitonic eigenvalues\n",
    "damping = [0.03,0.03] # eV\n",
    "\n",
    "study = D.Dataset(num_tasks=1,verbose=True,skip=True)\n",
    "study.set_postprocessing_function(PP.yambo_parse_data)\n",
    "\n",
    "inp = I.YamboInput('yambo -r -o b -k sex -y s',folder=run_dir)\n",
    "#inp = I.YamboInput('mpirun -np 1 yambo -r -o b -k sex -y s',folder=run_dir)\n",
    "inp.activate_RIM_W()   \n",
    "inp.set_scalar_variables(CUTGeo='slab z')\n",
    "inp.set_array_variables(RandQpts=Randqpts)\n",
    "inp.set_array_variables(units='RL',RandGvec=RandGvec,RandGvecW=RandGvecW)\n",
    "inp.set_array_variables(BLongDir=elec_field) #,KfnQP_E=[scissor,1.,1.]\n",
    "inp.set_scalar_variables(KfnQPdb='E < %s'%ndbQP)\n",
    "\n",
    "inp.set_array_variables(units='eV',BEnRange=BEnRange,BDmRange=damping)\n",
    "inp.set_scalar_variables(BSEprop= 'abs esrt')\n",
    "inp.set_scalar_variables(DBsIOoff='BS') # turn off the I/O of the BSE kernel\n",
    "inp.set_scalar_variables(BS_CPU='16.2.1',BS_ROLEs= 'k.eh.t')     \n",
    "\n",
    "idd = 'abs-bse-gw-bsebands_%s_%s-bsengblk_%s'%(BSEBands[0],BSEBands[1],BSENGBlk)\n",
    "inp.set_array_variables(BSEBands=BSEBands,BEnSteps=BEnSteps,BSSNEig=BSSNEig)\n",
    "inp.set_array_variables(units='Ha',BSENGexx=EXXRLvcs,BSENGBlk=BSENGBlk,FFTGvecs=FFTGvecs)\n",
    "study.append_run(id=idd,input=inp,runner=code,run_dir=run_dir,\n",
    "jobname=[idd,'ndb_em1d-ngsblkxp_8.0-bndsrnxp_500','ndb_rim_cutoff','ndb_dipoles-nbnds_500'],reformat=False)"
   ]
  },
  {
   "cell_type": "code",
   "execution_count": 53,
   "metadata": {},
   "outputs": [],
   "source": [
    "#study.runs[0]"
   ]
  },
  {
   "cell_type": "code",
   "execution_count": 48,
   "metadata": {},
   "outputs": [
    {
     "name": "stdout",
     "output_type": "stream",
     "text": [
      "Run the selection [0] with the parallel task_groups [[0]] \n",
      "\n",
      "Run the task [0] \n",
      "run command: mpirun -np 32 yambo -F abs-bse-gw-bsebands_25_32-bsengblk_3.0.in -J \"abs-bse-gw-bsebands_25_32-bsengblk_3.0,ndb_em1d-ngsblkxp_8.0-bndsrnxp_500,ndb_rim_cutoff,ndb_dipoles-nbnds_500\" -C abs-bse-gw-bsebands_25_32-bsengblk_3.0\n",
      "slurm submit:  cd GW_analysis-ONCV/kpoints_18-nbnds_500/ ; sbatch job_abs-bse-gw-bsebands_25_32-bsengblk_3.0.sh\n",
      "computation abs-bse-gw-bsebands_25_32-bsengblk_3.0 is running...\n",
      "computation abs-bse-gw-bsebands_25_32-bsengblk_3.0 ended\n",
      "Run performed in 08m-37s\n",
      "Task [0] ended \n",
      " \n"
     ]
    }
   ],
   "source": [
    "results = study.run()"
   ]
  },
  {
   "cell_type": "code",
   "execution_count": 50,
   "metadata": {},
   "outputs": [
    {
     "data": {
      "text/plain": [
       "<matplotlib.legend.Legend at 0x7fe569b2e6a0>"
      ]
     },
     "execution_count": 50,
     "metadata": {},
     "output_type": "execute_result"
    },
    {
     "data": {
      "image/png": "[encoded data removed]",
      "text/plain": [
       "<Figure size 720x576 with 1 Axes>"
      ]
     },
     "metadata": {
      "needs_background": "light"
     },
     "output_type": "display_data"
    }
   ],
   "source": [
    "fig, ax = plt.subplots(figsize=(10, 8))\n",
    "\n",
    "data = results[0].data['alpha_q1_slepc_bse']\n",
    "energy = data['energy']\n",
    "alpha_im = data['alpha_imag']\n",
    "ax.plot(energy,alpha_im,label='BSE+GW') \n",
    "ax.vlines(gw_gap,-1,800,linestyles='--',color='red',linewidth=2)\n",
    "ax.set_xlim(-0.5,1)\n",
    "ax.set_ylabel('Abs spectrum',size=20)\n",
    "ax.set_xlabel('energy (eV)',size=20)\n",
    "ax.legend(fontsize=14)"
   ]
  },
  {
   "cell_type": "code",
   "execution_count": 51,
   "metadata": {},
   "outputs": [
    {
     "data": {
      "text/plain": [
       "array([0.115213, 0.116287, 0.119093, 0.576244, 0.606878, 0.61707 ,\n",
       "       0.618265, 0.620927])"
      ]
     },
     "execution_count": 51,
     "metadata": {},
     "output_type": "execute_result"
    }
   ],
   "source": [
    "exc_eng = results[0].data['Esort_q1_slepc_bse']['energy']\n",
    "exc_eng"
   ]
  },
  {
   "cell_type": "code",
   "execution_count": 52,
   "metadata": {},
   "outputs": [
    {
     "data": {
      "text/plain": [
       "0.068787"
      ]
     },
     "execution_count": 52,
     "metadata": {},
     "output_type": "execute_result"
    }
   ],
   "source": [
    "bind_eng = gw_gap-exc_eng[0]\n",
    "bind_eng"
   ]
  },
  {
   "cell_type": "markdown",
   "metadata": {},
   "source": [
    "The effect of including the GW correction is a small modification of the peak at 0.6 eV."
   ]
  },
  {
   "cell_type": "markdown",
   "metadata": {},
   "source": [
    "## Convergence analysis in function of the k-points sampling"
   ]
  },
  {
   "cell_type": "markdown",
   "metadata": {},
   "source": [
    "We perform the convergence analysis of the abs spectrum and of the exciton binding energy\n",
    "in function of the k-sampling. We perform this analysis both with and without the RIM_W.\n",
    "\n",
    "At this level we use the bands from 25 to 30 with the scissor correction."
   ]
  },
  {
   "cell_type": "code",
   "execution_count": 4,
   "metadata": {},
   "outputs": [
    {
     "name": "stdout",
     "output_type": "stream",
     "text": [
      "scissor 0.096\n"
     ]
    }
   ],
   "source": [
    "dft_gap = 0.088\n",
    "gw_gap = 0.184 #\n",
    "scissor = gw_gap-dft_gap # eV\n",
    "print('scissor',scissor)\n",
    "\n",
    "kpoints = [18,42,60]"
   ]
  },
  {
   "cell_type": "code",
   "execution_count": 10,
   "metadata": {},
   "outputs": [
    {
     "name": "stdout",
     "output_type": "stream",
     "text": [
      "Initialize a Dataset with 4 parallel tasks\n"
     ]
    }
   ],
   "source": [
    "\n",
    "RandGvec = 200\n",
    "Randqpts = 5e6\n",
    "RandGvecW = 10\n",
    "EXXRLvcs = 40. # Ha\n",
    "EXXRLVcs_units = 'Ha'\n",
    "\n",
    "BSENGBlk = 3.0 # Ha  value of the BSENGBlk variable (it can be reduced w.r.t the NGsBlkXs!)\n",
    "EXXRLvcs = 40. # Ha use this value for the BSENGexx variable\n",
    "FFTGvecs = 30. # Ha\n",
    "elec_field = [1.,0.,0.]\n",
    "BSEBands = [25,30]\n",
    "BEnRange = [-0.5,1] # eV\n",
    "BEnSteps = 1000\n",
    "BSSNEig = 20 # number of excitonic eigenvalues\n",
    "damping = [0.03,0.03] # eV\n",
    "\n",
    "study = D.Dataset(num_tasks=4,verbose=True,skip=True)\n",
    "study.set_postprocessing_function(PP.yambo_parse_data)\n",
    "\n",
    "for k in kpoints:\n",
    "    run_dir = 'GW_analysis-ONCV/kpoints_%s-nbnds_500/'%k\n",
    "    inp = I.YamboInput('yambo -r -o b -k sex -y s',folder=run_dir)\n",
    "    #inp = I.YamboInput('mpirun -np 1 yambo -r -o b -k sex -y s',folder=run_dir)\n",
    "    inp.activate_RIM_W()   \n",
    "    inp.set_scalar_variables(CUTGeo='slab z')\n",
    "    inp.set_array_variables(RandQpts=Randqpts)\n",
    "    inp.set_array_variables(units='RL',RandGvec=RandGvec,RandGvecW=RandGvecW)\n",
    "    inp.set_array_variables(units='Ha',BSENGexx=EXXRLvcs,BSENGBlk=BSENGBlk,FFTGvecs=FFTGvecs)\n",
    "    inp.set_array_variables(BLongDir=elec_field,KfnQP_E=[scissor,1.,1.])\n",
    "    inp.set_array_variables(units='eV',BEnRange=BEnRange,BDmRange=damping)\n",
    "    inp.set_scalar_variables(BSEprop= 'abs esrt')\n",
    "    inp.set_scalar_variables(DBsIOoff='BS') # turn off the I/O of the BSE kernel\n",
    "    inp.set_scalar_variables(BS_CPU='16.2.1',BS_ROLEs= 'k.eh.t')     \n",
    "    idd = 'abs-bse-kpoints_%s'%k\n",
    "    inp.set_array_variables(BSEBands=BSEBands,BEnSteps=BEnSteps,BSSNEig=BSSNEig)\n",
    "    study.append_run(id=idd,input=inp,runner=code,run_dir=run_dir,\n",
    "    jobname=[idd,'ndb_em1d-ngsblkxp_8.0-bndsrnxp_500','ndb_rim_cutoff','ndb_dipoles-nbnds_500'],reformat=False)"
   ]
  },
  {
   "cell_type": "code",
   "execution_count": 11,
   "metadata": {},
   "outputs": [
    {
     "data": {
      "text/plain": [
       "{'label': 'Dataset',\n",
       " 'run_dir': 'GW_analysis-ONCV/kpoints_60-nbnds_500/',\n",
       " 'num_tasks': 4,\n",
       " 'verbose': True,\n",
       " 'skip': True,\n",
       " 'input': {'args': 'yambo -r -o b -k sex -y s',\n",
       "  'folder': 'GW_analysis-ONCV/kpoints_60-nbnds_500/',\n",
       "  'filename': 'yambo.in',\n",
       "  'arguments': ['rim_cut',\n",
       "   'bse',\n",
       "   'optics',\n",
       "   'bss',\n",
       "   'WRbsWF',\n",
       "   'photolum',\n",
       "   'RIM_W'],\n",
       "  'variables': {'DIP_Threads': [0.0, ''],\n",
       "   'X_Threads': [0.0, ''],\n",
       "   'K_Threads': [0.0, ''],\n",
       "   'RandQpts': [5000000.0, ''],\n",
       "   'RandGvec': [200, 'RL'],\n",
       "   'CUTRadius': [0.0, ''],\n",
       "   'CUTCylLen': [0.0, ''],\n",
       "   'CUTwsGvec': [0.7, ''],\n",
       "   'BSENGexx': [40.0, 'Ha'],\n",
       "   'BSENGBlk': [3.0, 'Ha'],\n",
       "   'BEnSteps': [1000, ''],\n",
       "   'BSSNEig': [20, ''],\n",
       "   'BSSEnTarget': [0.0, 'eV'],\n",
       "   'BSSSlepcMaxIt': [0.0, ''],\n",
       "   'CUTGeo': 'slab z',\n",
       "   'BSKmod': 'SEX',\n",
       "   'BSEmod': 'resonant',\n",
       "   'BSSmod': 's',\n",
       "   'BSEprop': 'abs esrt',\n",
       "   'BSEdips': 'none',\n",
       "   'CUTBox': [[0.0, 0.0, 0.0], ''],\n",
       "   'BSEQptR': [[1, 1], ''],\n",
       "   'BSEBands': [[25, 30], ''],\n",
       "   'BEnRange': [[-0.5, 1], 'eV'],\n",
       "   'BDmRange': [[0.03, 0.03], 'eV'],\n",
       "   'BLongDir': [[1.0, 0.0, 0.0], ''],\n",
       "   'RandGvecW': [10, 'RL'],\n",
       "   'FFTGvecs': [30.0, 'Ha'],\n",
       "   'KfnQP_E': [[0.096, 1.0, 1.0], ''],\n",
       "   'DBsIOoff': 'BS',\n",
       "   'BS_CPU': '16.2.1',\n",
       "   'BS_ROLEs': 'k.eh.t'}},\n",
       " 'jobname': ['abs-bse-kpoints_60',\n",
       "  'ndb_em1d-ngsblkxp_8.0-bndsrnxp_500',\n",
       "  'ndb_rim_cutoff',\n",
       "  'ndb_dipoles-nbnds_500'],\n",
       " 'reformat': False,\n",
       " 'name': 'abs-bse-kpoints_60'}"
      ]
     },
     "execution_count": 11,
     "metadata": {},
     "output_type": "execute_result"
    }
   ],
   "source": [
    "study.runs[2]"
   ]
  },
  {
   "cell_type": "code",
   "execution_count": 12,
   "metadata": {},
   "outputs": [
    {
     "name": "stdout",
     "output_type": "stream",
     "text": [
      "Run the selection [0] with the parallel task_groups [[0]] \n",
      "\n",
      "Run the task [0] \n",
      "run command: mpirun -np 32 yambo -F abs-bse-kpoints_18.in -J \"abs-bse-kpoints_18,ndb_em1d-ngsblkxp_8.0-bndsrnxp_500,ndb_rim_cutoff,ndb_dipoles-nbnds_500\" -C abs-bse-kpoints_18\n",
      "slurm submit:  cd GW_analysis-ONCV/kpoints_18-nbnds_500/ ; sbatch job_abs-bse-kpoints_18.sh\n",
      "computation abs-bse-kpoints_18 is running...\n",
      "computation abs-bse-kpoints_18 ended\n",
      "Run performed in 02m-27s\n",
      "Task [0] ended \n",
      " \n"
     ]
    }
   ],
   "source": [
    "results = study.run(selection=[0])"
   ]
  },
  {
   "cell_type": "code",
   "execution_count": 14,
   "metadata": {},
   "outputs": [
    {
     "ename": "KeyError",
     "evalue": "1",
     "output_type": "error",
     "traceback": [
      "\u001b[0;31m---------------------------------------------------------------------------\u001b[0m",
      "\u001b[0;31mKeyError\u001b[0m                                  Traceback (most recent call last)",
      "\u001b[0;32m<ipython-input-14-3009e0d0f704>\u001b[0m in \u001b[0;36m<module>\u001b[0;34m\u001b[0m\n\u001b[1;32m      2\u001b[0m \u001b[0;34m\u001b[0m\u001b[0m\n\u001b[1;32m      3\u001b[0m \u001b[0;32mfor\u001b[0m \u001b[0mind\u001b[0m\u001b[0;34m,\u001b[0m\u001b[0mb\u001b[0m \u001b[0;32min\u001b[0m \u001b[0menumerate\u001b[0m\u001b[0;34m(\u001b[0m\u001b[0mkpoints\u001b[0m\u001b[0;34m)\u001b[0m\u001b[0;34m:\u001b[0m\u001b[0;34m\u001b[0m\u001b[0;34m\u001b[0m\u001b[0m\n\u001b[0;32m----> 4\u001b[0;31m     \u001b[0mdata\u001b[0m \u001b[0;34m=\u001b[0m \u001b[0mresults\u001b[0m\u001b[0;34m[\u001b[0m\u001b[0mind\u001b[0m\u001b[0;34m]\u001b[0m\u001b[0;34m.\u001b[0m\u001b[0mdata\u001b[0m\u001b[0;34m[\u001b[0m\u001b[0;34m'alpha_q1_slepc_bse'\u001b[0m\u001b[0;34m]\u001b[0m\u001b[0;34m\u001b[0m\u001b[0;34m\u001b[0m\u001b[0m\n\u001b[0m\u001b[1;32m      5\u001b[0m     \u001b[0menergy\u001b[0m \u001b[0;34m=\u001b[0m \u001b[0mdata\u001b[0m\u001b[0;34m[\u001b[0m\u001b[0;34m'energy'\u001b[0m\u001b[0;34m]\u001b[0m\u001b[0;34m\u001b[0m\u001b[0;34m\u001b[0m\u001b[0m\n\u001b[1;32m      6\u001b[0m     \u001b[0malpha_im\u001b[0m \u001b[0;34m=\u001b[0m \u001b[0mdata\u001b[0m\u001b[0;34m[\u001b[0m\u001b[0;34m'alpha_imag'\u001b[0m\u001b[0;34m]\u001b[0m\u001b[0;34m\u001b[0m\u001b[0;34m\u001b[0m\u001b[0m\n",
      "\u001b[0;31mKeyError\u001b[0m: 1"
     ]
    },
    {
     "data": {
      "image/png": "[encoded data removed]",
      "text/plain": [
       "<Figure size 720x576 with 1 Axes>"
      ]
     },
     "metadata": {
      "needs_background": "light"
     },
     "output_type": "display_data"
    }
   ],
   "source": [
    "fig, ax = plt.subplots(figsize=(10, 8))\n",
    "\n",
    "for ind,b in enumerate(kpoints):\n",
    "    data = results[ind].data['alpha_q1_slepc_bse']\n",
    "    energy = data['energy']\n",
    "    alpha_im = data['alpha_imag']\n",
    "    ax.plot(energy,alpha_im,label='kpoints_%s'%b) \n",
    "ax.vlines(gw_gap,-1,800,linestyles='--',color='red',linewidth=2)\n",
    "ax.set_xlim(-0.5,1)\n",
    "ax.set_ylabel('Abs spectrum',size=20)\n",
    "ax.set_xlabel('energy (eV)',size=20)\n",
    "ax.legend(fontsize=14)"
   ]
  },
  {
   "cell_type": "code",
   "execution_count": null,
   "metadata": {},
   "outputs": [],
   "source": []
  },
  {
   "cell_type": "code",
   "execution_count": null,
   "metadata": {},
   "outputs": [],
   "source": []
  },
  {
   "cell_type": "code",
   "execution_count": null,
   "metadata": {},
   "outputs": [],
   "source": []
  },
  {
   "cell_type": "code",
   "execution_count": null,
   "metadata": {},
   "outputs": [],
   "source": []
  },
  {
   "cell_type": "code",
   "execution_count": null,
   "metadata": {},
   "outputs": [],
   "source": []
  },
  {
   "cell_type": "code",
   "execution_count": null,
   "metadata": {},
   "outputs": [],
   "source": []
  },
  {
   "cell_type": "code",
   "execution_count": null,
   "metadata": {},
   "outputs": [],
   "source": []
  },
  {
   "cell_type": "code",
   "execution_count": null,
   "metadata": {},
   "outputs": [],
   "source": []
  },
  {
   "cell_type": "code",
   "execution_count": null,
   "metadata": {},
   "outputs": [],
   "source": []
  },
  {
   "cell_type": "code",
   "execution_count": null,
   "metadata": {},
   "outputs": [],
   "source": []
  },
  {
   "cell_type": "code",
   "execution_count": null,
   "metadata": {},
   "outputs": [],
   "source": [
    "#########################################################################"
   ]
  },
  {
   "cell_type": "markdown",
   "metadata": {},
   "source": [
    "First we build and init the run directories and perform link of the ndb database computed\n",
    "in the GW analysis"
   ]
  },
  {
   "cell_type": "code",
   "execution_count": 7,
   "metadata": {},
   "outputs": [
    {
     "name": "stdout",
     "output_type": "stream",
     "text": [
      "SAVE folder DFT_analysis/kpoints_72-nbnds_500.save/SAVE already present. No operations performed.\n",
      "SAVE folder already present in BSE_analysis/kpoints_72-nbnds_500. No operations performed.\n"
     ]
    }
   ],
   "source": [
    "kpoints = [18] #[18,42,60]\n",
    "\n",
    "for k in kpoints:\n",
    "    source_dir = 'DFT_analysis/kpoints_%s-nbnds_500.save'%k\n",
    "    run_dir = 'GW_analysis-ONCV/kpoints_%s-nbnds_500'%k\n",
    "    Tools.init_yambo_run_dir(Tools.make_p2y(source_dir),run_dir=run_dir)"
   ]
  },
  {
   "cell_type": "markdown",
   "metadata": {},
   "source": [
    "We create a link of the folders with the ndb_em1d and with the ndb_rim_cutoff databases created in the _GW_analysis_ in the _BSE_analysis_ folder"
   ]
  },
  {
   "cell_type": "code",
   "execution_count": 11,
   "metadata": {},
   "outputs": [],
   "source": [
    "def find_ndbs(path):\n",
    "    ndbs =  []\n",
    "    files = os.listdir(path)\n",
    "    for f in files:\n",
    "        if 'ndb_em1d' in f or 'ndb_rim' in f : ndbs.append(os.path.abspath(os.path.join(path,f)))\n",
    "    return ndbs\n",
    "\n",
    "def make_link(ndbs,dest):\n",
    "    abs_dest = os.path.abspath(dest)\n",
    "    for ndb in ndbs:\n",
    "        ndb_name = ndb.split('/')[-1]\n",
    "        target = os.path.join(abs_dest,ndb_name)\n",
    "        if not os.path.isdir(target):\n",
    "            print(ndb,target)\n",
    "            os.symlink(ndb,target,target_is_directory=True)"
   ]
  },
  {
   "cell_type": "code",
   "execution_count": 12,
   "metadata": {},
   "outputs": [
    {
     "name": "stdout",
     "output_type": "stream",
     "text": [
      "/m100_work/IscrC_PrExIn/Stanene/GW_analysis/kpoints_72-nbnds_500/ndb_em1d-ngsblkxp_8.0-bndsrnxp_500 /m100_work/IscrC_PrExIn/Stanene/BSE_analysis/kpoints_72-nbnds_500/ndb_em1d-ngsblkxp_8.0-bndsrnxp_500\n",
      "/m100_work/IscrC_PrExIn/Stanene/GW_analysis/kpoints_72-nbnds_500/ndb_rim_cutoff /m100_work/IscrC_PrExIn/Stanene/BSE_analysis/kpoints_72-nbnds_500/ndb_rim_cutoff\n"
     ]
    }
   ],
   "source": [
    "for k in kpoints:\n",
    "    ndbs = find_ndbs('GW_analysis/kpoints_%s-nbnds_500/'%k)\n",
    "    make_link(ndbs,'BSE_analysis/kpoints_%s-nbnds_500/'%k)"
   ]
  },
  {
   "cell_type": "markdown",
   "metadata": {
    "tags": []
   },
   "source": [
    "## BSE convergence analysis"
   ]
  },
  {
   "cell_type": "markdown",
   "metadata": {},
   "source": [
    "We test the optimal BSE parameters by constructing the absorption spectrum. \n",
    "In this way we analyze the effects of the relevant parameters of a BSE calculation\n",
    "and we study the convergence w.r.t to the $k$-points sampling.\n",
    "\n",
    "The analysis is performed on-top of the DFT computations using a scissor to reproduce the \n",
    "GW gap"
   ]
  },
  {
   "cell_type": "code",
   "execution_count": 28,
   "metadata": {},
   "outputs": [
    {
     "name": "stdout",
     "output_type": "stream",
     "text": [
      "scissor 0.09899999999999999\n"
     ]
    }
   ],
   "source": [
    "dft_gap = 0.077\n",
    "gw_gap = 0.176 #\n",
    "scissor = gw_gap-dft_gap # eV\n",
    "print('scissor',scissor)\n",
    "kpoints = [18,42,60]"
   ]
  },
  {
   "cell_type": "markdown",
   "metadata": {},
   "source": [
    "We perform this analysis in the 18x18x1 grid using the slepc solver and we are\n",
    "interested in the first excitonic energy.\n",
    "\n",
    "We have analyzed the convergence of the exciton energy w.r.t the BSENGBlk value and the\n",
    "number of BSEBands. The values reported below ensure convergence."
   ]
  },
  {
   "cell_type": "code",
   "execution_count": 29,
   "metadata": {},
   "outputs": [
    {
     "name": "stdout",
     "output_type": "stream",
     "text": [
      "Initialize a Dataset with 1 parallel tasks\n"
     ]
    }
   ],
   "source": [
    "k = kpoints[2]\n",
    "run_dir = 'BSE_analysis/kpoints_%s-nbnds_500/'%k\n",
    "\n",
    "RandGvec = 200\n",
    "Randqpts = 5e6\n",
    "RandGvecW = 10\n",
    "EXXRLvcs = 40. # Ha\n",
    "EXXRLVcs_units = 'Ha'\n",
    "\n",
    "BSENGBlk = 3.0 # Ha  value of the BSENGBlk variable (it can be reduced w.r.t the NGsBlkXs!)\n",
    "EXXRLvcs = 60. # Ha use this value for the BSENGexx variable\n",
    "FFTGvecs = 30. # Ha\n",
    "elec_field = [1.,0.,0.]\n",
    "BSEBands = [25,30] #,[27,30],[25,32]]\n",
    "BEnRange = [-0.5,1] # eV\n",
    "BEnSteps = 1000\n",
    "BSSNEig = 20 # number of excitonic eigenvalues\n",
    "damping = [0.03,0.03] # eV\n",
    "\n",
    "study = D.Dataset(num_tasks=1,verbose=True,skip=True)\n",
    "study.set_postprocessing_function(PP.yambo_parse_data)\n",
    "\n",
    "#inp = I.YamboInput('yambo -r -o b -k sex -y s',folder=run_dir)\n",
    "#inp = I.YamboInput('mpirun -np 1 yambo -r -o b -k sex -y s',folder=run_dir)\n",
    "inp.activate_RIM_W()   \n",
    "inp.set_scalar_variables(CUTGeo='slab z')\n",
    "inp.set_array_variables(RandQpts=Randqpts)\n",
    "inp.set_array_variables(units='RL',RandGvec=RandGvec,RandGvecW=RandGvecW)\n",
    "inp.set_array_variables(units='Ha',BSENGexx=EXXRLvcs,BSENGBlk=BSENGBlk,FFTGvecs=FFTGvecs)\n",
    "inp.set_array_variables(BLongDir=elec_field,KfnQP_E=[scissor,1.,1.])\n",
    "inp.set_array_variables(BSEBands=BSEBands,BEnSteps=BEnSteps,BSSNEig=BSSNEig)\n",
    "inp.set_array_variables(units='eV',BEnRange=BEnRange,BDmRange=damping)\n",
    "inp.set_scalar_variables(BSEprop= 'abs esrt')\n",
    "#inp.set_scalar_variables(DBsIOoff='BS') # turn off the I/O of the BSE kernel\n",
    "inp.set_scalar_variables(BS_CPU='32.1.1',BS_ROLEs= 'k.eh.t')     \n",
    "#inp['variables']['BS_ROLEs'] = 'k.eh.t' \n",
    "#inp['variables']['BS_CPU'] = '4.8.1' # 2 nodes ismhpc and 8 nodes m100\n",
    "#inp['variables']['BS_CPU'] = '1.8.1' # 2 nodes m100\n",
    "idd = 'bse_slepc_test'\n",
    "study.append_run(id=idd,input=inp,runner=code,run_dir=run_dir,\n",
    "    jobname=[idd,'ndb_em1d-ngsblkxp_8.0-bndsrnxp_500','ndb_rim_cutoff','ndb_dipoles'],reformat=False)"
   ]
  },
  {
   "cell_type": "code",
   "execution_count": 30,
   "metadata": {},
   "outputs": [
    {
     "data": {
      "text/plain": [
       "{'label': 'Dataset',\n",
       " 'run_dir': 'BSE_analysis/kpoints_72-nbnds_500/',\n",
       " 'num_tasks': 1,\n",
       " 'verbose': True,\n",
       " 'skip': True,\n",
       " 'input': {'args': 'mpirun -np 1 yambo -r -o b -k sex -y s',\n",
       "  'folder': 'BSE_analysis/kpoints_72-nbnds_500/',\n",
       "  'filename': 'yambo.in',\n",
       "  'arguments': ['rim_cut',\n",
       "   'bse',\n",
       "   'optics',\n",
       "   'bss',\n",
       "   'WRbsWF',\n",
       "   'photolum',\n",
       "   'RIM_W'],\n",
       "  'variables': {'DIP_Threads': [0.0, ''],\n",
       "   'X_Threads': [0.0, ''],\n",
       "   'K_Threads': [0.0, ''],\n",
       "   'RandQpts': [5000000.0, ''],\n",
       "   'RandGvec': [200, 'RL'],\n",
       "   'CUTRadius': [0.0, ''],\n",
       "   'CUTCylLen': [0.0, ''],\n",
       "   'CUTwsGvec': [0.7, ''],\n",
       "   'BSENGexx': [60.0, 'Ha'],\n",
       "   'BSENGBlk': [3.0, 'Ha'],\n",
       "   'BEnSteps': [1000, ''],\n",
       "   'BSSNEig': [20, ''],\n",
       "   'BSSEnTarget': [0.0, 'eV'],\n",
       "   'BSSSlepcMaxIt': [0.0, ''],\n",
       "   'CUTGeo': 'slab z',\n",
       "   'BSKmod': 'SEX',\n",
       "   'BSEmod': 'resonant',\n",
       "   'BSSmod': 's',\n",
       "   'BSEprop': 'abs esrt',\n",
       "   'BSEdips': 'none',\n",
       "   'CUTBox': [[0.0, 0.0, 0.0], ''],\n",
       "   'BSEQptR': [[1, 1], ''],\n",
       "   'BSEBands': [[25, 30], ''],\n",
       "   'BEnRange': [[-0.5, 1], 'eV'],\n",
       "   'BDmRange': [[0.03, 0.03], 'eV'],\n",
       "   'BLongDir': [[1.0, 0.0, 0.0], ''],\n",
       "   'RandGvecW': [10, 'RL'],\n",
       "   'FFTGvecs': [30.0, 'Ha'],\n",
       "   'KfnQP_E': [[0.09899999999999999, 1.0, 1.0], ''],\n",
       "   'BS_CPU': '32.1.1',\n",
       "   'BS_ROLEs': 'k.eh.t'}},\n",
       " 'jobname': ['bse_slepc_test',\n",
       "  'ndb_em1d-ngsblkxp_8.0-bndsrnxp_500',\n",
       "  'ndb_rim_cutoff',\n",
       "  'ndb_dipoles'],\n",
       " 'reformat': False,\n",
       " 'name': 'bse_slepc_test'}"
      ]
     },
     "execution_count": 30,
     "metadata": {},
     "output_type": "execute_result"
    }
   ],
   "source": [
    "study.runs[0]"
   ]
  },
  {
   "cell_type": "code",
   "execution_count": null,
   "metadata": {},
   "outputs": [
    {
     "name": "stdout",
     "output_type": "stream",
     "text": [
      "Run the selection [0] with the parallel task_groups [[0]] \n",
      "\n",
      "Run the task [0] \n",
      "run command: mpirun -np 32 --map-by socket:PE=8 --rank-by core yambo -F bse_slepc_test.in -J \"bse_slepc_test,ndb_em1d-ngsblkxp_8.0-bndsrnxp_500,ndb_rim_cutoff,ndb_dipoles\" -C bse_slepc_test\n",
      "slurm submit:  cd BSE_analysis/kpoints_72-nbnds_500/ ; sbatch job_bse_slepc_test.sh\n",
      "computation bse_slepc_test is running...\n",
      "Submitted batch job 8937144\n"
     ]
    }
   ],
   "source": [
    "results = study.run()"
   ]
  },
  {
   "cell_type": "markdown",
   "metadata": {},
   "source": [
    "Result for the 72x72x1"
   ]
  },
  {
   "cell_type": "code",
   "execution_count": 32,
   "metadata": {},
   "outputs": [
    {
     "data": {
      "text/plain": [
       "array([0.098791, 0.163815, 0.166006, 0.16756 , 0.169357, 0.172309])"
      ]
     },
     "execution_count": 32,
     "metadata": {},
     "output_type": "execute_result"
    }
   ],
   "source": [
    "exc_eng = results[0].data['Esort_q1_slepc_bse']['energy']\n",
    "exc_eng"
   ]
  },
  {
   "cell_type": "code",
   "execution_count": 33,
   "metadata": {},
   "outputs": [
    {
     "data": {
      "text/plain": [
       "0.07720899999999999"
      ]
     },
     "execution_count": 33,
     "metadata": {},
     "output_type": "execute_result"
    }
   ],
   "source": [
    "bind_eng = gw_gap-exc_eng[0]\n",
    "bind_eng"
   ]
  },
  {
   "cell_type": "code",
   "execution_count": 35,
   "metadata": {},
   "outputs": [
    {
     "data": {
      "text/plain": [
       "<matplotlib.legend.Legend at 0x7fff675128b0>"
      ]
     },
     "execution_count": 35,
     "metadata": {},
     "output_type": "execute_result"
    },
    {
     "data": {
      "image/png": "[encoded data removed]",
      "text/plain": [
       "<Figure size 720x576 with 1 Axes>"
      ]
     },
     "metadata": {
      "needs_background": "light"
     },
     "output_type": "display_data"
    }
   ],
   "source": [
    "fig, ax = plt.subplots(figsize=(10, 8))\n",
    "\n",
    "data = results[0].data['eps_q1_slepc_bse']\n",
    "energy = data['energy']\n",
    "eps_im = data['eps_imag']\n",
    "eps_o_im = data['eps_o_imag']\n",
    "ax.plot(energy,eps_im,label='bse') \n",
    "ax.plot(energy,eps_o_im,label='ip') \n",
    "ax.vlines(gw_gap,-1,10,linestyles='--',color='red',linewidth=2)\n",
    "#ax.set_xlim(1.5,4)\n",
    "ax.set_ylim(-1e-4,5e-3)\n",
    "ax.set_ylabel('Abs spectrum',size=20)\n",
    "ax.set_xlabel('energy (eV)',size=20)\n",
    "ax.legend(fontsize=14)"
   ]
  },
  {
   "cell_type": "markdown",
   "metadata": {},
   "source": [
    "Result for the 30x30x1"
   ]
  },
  {
   "cell_type": "code",
   "execution_count": 20,
   "metadata": {},
   "outputs": [
    {
     "data": {
      "text/plain": [
       "array([0.099427, 0.100832, 0.294652, 0.320013, 0.331203, 0.332561,\n",
       "       0.336927])"
      ]
     },
     "execution_count": 20,
     "metadata": {},
     "output_type": "execute_result"
    }
   ],
   "source": [
    "exc_eng = results[0].data['Esort_q1_slepc_bse']['energy']\n",
    "exc_eng"
   ]
  },
  {
   "cell_type": "code",
   "execution_count": 21,
   "metadata": {},
   "outputs": [
    {
     "data": {
      "text/plain": [
       "0.07657299999999999"
      ]
     },
     "execution_count": 21,
     "metadata": {},
     "output_type": "execute_result"
    }
   ],
   "source": [
    "bind_eng = gw_gap-exc_eng[0]\n",
    "bind_eng"
   ]
  },
  {
   "cell_type": "code",
   "execution_count": 24,
   "metadata": {},
   "outputs": [
    {
     "data": {
      "text/plain": [
       "<matplotlib.legend.Legend at 0x7f27860e0240>"
      ]
     },
     "execution_count": 24,
     "metadata": {},
     "output_type": "execute_result"
    },
    {
     "data": {
      "image/png": "[encoded data removed]",
      "text/plain": [
       "<Figure size 720x576 with 1 Axes>"
      ]
     },
     "metadata": {
      "needs_background": "light"
     },
     "output_type": "display_data"
    }
   ],
   "source": [
    "fig, ax = plt.subplots(figsize=(10, 8))\n",
    "\n",
    "data = results[0].data['eps_q1_slepc_bse']\n",
    "energy = data['energy']\n",
    "eps_im = data['eps_imag']\n",
    "eps_o_im = data['eps_o_imag']\n",
    "ax.plot(energy,eps_im,label='bse') \n",
    "ax.plot(energy,eps_o_im,label='ip') \n",
    "ax.vlines(gw_gap,-1,10,linestyles='--',color='red',linewidth=2)\n",
    "#ax.set_xlim(1.5,4)\n",
    "ax.set_ylim(-1e-4,2e-2)\n",
    "ax.set_ylabel('Abs spectrum',size=20)\n",
    "ax.set_xlabel('energy (eV)',size=20)\n",
    "ax.legend(fontsize=14)"
   ]
  },
  {
   "cell_type": "markdown",
   "metadata": {},
   "source": [
    "Result for the 18x18x1"
   ]
  },
  {
   "cell_type": "code",
   "execution_count": 17,
   "metadata": {},
   "outputs": [
    {
     "data": {
      "text/plain": [
       "array([0.117597, 0.12094 , 0.313112, 0.314991, 0.519655, 0.549074,\n",
       "       0.557604])"
      ]
     },
     "execution_count": 17,
     "metadata": {},
     "output_type": "execute_result"
    }
   ],
   "source": [
    "exc_eng = results[0].data['Esort_q1_slepc_bse']['energy']\n",
    "exc_eng"
   ]
  },
  {
   "cell_type": "code",
   "execution_count": 9,
   "metadata": {},
   "outputs": [
    {
     "data": {
      "text/plain": [
       "array([0.117597, 0.12094 , 0.313112, 0.314991, 0.519655, 0.549073,\n",
       "       0.557604])"
      ]
     },
     "execution_count": 9,
     "metadata": {},
     "output_type": "execute_result"
    }
   ],
   "source": [
    "exc_eng = results[0].data['Esort_q1_slepc_bse']['energy']\n",
    "exc_eng"
   ]
  },
  {
   "cell_type": "code",
   "execution_count": 10,
   "metadata": {},
   "outputs": [
    {
     "data": {
      "text/plain": [
       "0.058403"
      ]
     },
     "execution_count": 10,
     "metadata": {},
     "output_type": "execute_result"
    }
   ],
   "source": [
    "bind_eng = gw_gap-exc_eng[0]\n",
    "bind_eng"
   ]
  },
  {
   "cell_type": "code",
   "execution_count": 19,
   "metadata": {},
   "outputs": [
    {
     "data": {
      "text/plain": [
       "<matplotlib.legend.Legend at 0x7fc66bf3c390>"
      ]
     },
     "execution_count": 19,
     "metadata": {},
     "output_type": "execute_result"
    },
    {
     "data": {
      "image/png": "[encoded data removed]",
      "text/plain": [
       "<Figure size 720x576 with 1 Axes>"
      ]
     },
     "metadata": {
      "needs_background": "light"
     },
     "output_type": "display_data"
    }
   ],
   "source": [
    "fig, ax = plt.subplots(figsize=(10, 8))\n",
    "\n",
    "data = results[0].data['eps_q1_slepc_bse']\n",
    "energy = data['energy']\n",
    "eps_im = data['eps_imag']\n",
    "eps_o_im = data['eps_o_imag']\n",
    "ax.plot(energy,eps_im,label='bse') \n",
    "ax.plot(energy,eps_o_im,label='ip') \n",
    "ax.vlines(gw_gap,-1,10,linestyles='--',color='red',linewidth=2)\n",
    "#ax.set_xlim(1.5,4)\n",
    "ax.set_ylim(-1e-4,5e-2)\n",
    "ax.set_ylabel('Abs spectrum',size=20)\n",
    "ax.set_xlabel('energy (eV)',size=20)\n",
    "ax.legend(fontsize=14)"
   ]
  },
  {
   "cell_type": "markdown",
   "metadata": {},
   "source": [
    "Now we test the convergence of the excitonic energy w.r.t the k-points sampling"
   ]
  },
  {
   "cell_type": "code",
   "execution_count": null,
   "metadata": {},
   "outputs": [],
   "source": []
  },
  {
   "cell_type": "code",
   "execution_count": null,
   "metadata": {},
   "outputs": [],
   "source": []
  },
  {
   "cell_type": "code",
   "execution_count": null,
   "metadata": {},
   "outputs": [],
   "source": []
  },
  {
   "cell_type": "code",
   "execution_count": null,
   "metadata": {},
   "outputs": [],
   "source": []
  },
  {
   "cell_type": "code",
   "execution_count": null,
   "metadata": {},
   "outputs": [],
   "source": []
  },
  {
   "cell_type": "code",
   "execution_count": null,
   "metadata": {},
   "outputs": [],
   "source": []
  },
  {
   "cell_type": "code",
   "execution_count": null,
   "metadata": {},
   "outputs": [],
   "source": []
  }
 ],
 "metadata": {
  "kernelspec": {
   "display_name": "Python 3",
   "language": "python",
   "name": "python3"
  },
  "language_info": {
   "codemirror_mode": {
    "name": "ipython",
    "version": 3
   },
   "file_extension": ".py",
   "mimetype": "text/x-python",
   "name": "python",
   "nbconvert_exporter": "python",
   "pygments_lexer": "ipython3",
   "version": "3.6.8"
  }
 },
 "nbformat": 4,
 "nbformat_minor": 4
}

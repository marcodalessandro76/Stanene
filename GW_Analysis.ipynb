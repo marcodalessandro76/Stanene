{
 "cells": [
  {
   "cell_type": "code",
   "execution_count": 1,
   "metadata": {},
   "outputs": [],
   "source": [
    "# useful to autoreload the module without restarting the kernel\n",
    "%load_ext autoreload\n",
    "%autoreload 2"
   ]
  },
  {
   "cell_type": "code",
   "execution_count": 2,
   "metadata": {},
   "outputs": [],
   "source": [
    "from mppi import InputFiles as I, Calculators as C, Datasets as D, Parsers as P, Utilities as U\n",
    "from mppi.Calculators import Tools\n",
    "from mppi.Datasets import PostProcessing as PP\n",
    "import matplotlib.pyplot as plt\n",
    "import numpy as np\n",
    "import os"
   ]
  },
  {
   "cell_type": "code",
   "execution_count": 15,
   "metadata": {},
   "outputs": [
    {
     "name": "stdout",
     "output_type": "stream",
     "text": [
      "rsync -rDzv --exclude={'*_fragments*','*_fragments_*','*wfc*','*.dat','.ipynb_checkpoints'} -n -e ssh m100:/m100/home/userexternal/mdaless1/work/Xenes/Stanene/GW_analysis '/m100_work/IscrC_PrExIn/Stanene/GW_analysis'\n"
     ]
    }
   ],
   "source": [
    "# sync the GW folder from m100 to the ismhpc\n",
    "dry_run = True\n",
    "rsync_str = \"rsync -rDzv --exclude={'*_fragment*','*_fragments_*','*wfc*','*.dat','.ipynb_checkpoints'} \"\n",
    "if dry_run: rsync_str += '-n '\n",
    "ssh_str = '-e ssh m100:/m100/home/userexternal/mdaless1/work/Xenes/Stanene/GW_analysis '\n",
    "dest_path = 'GW_analysis'\n",
    "dest_path = os.path.abspath(dest_path)\n",
    "dest_path = \"'%s'\"%dest_path\n",
    "command = rsync_str+ssh_str+dest_path\n",
    "print(command)"
   ]
  },
  {
   "cell_type": "code",
   "execution_count": null,
   "metadata": {},
   "outputs": [],
   "source": [
    "# RunRules for local computations\n",
    "mpi = 4\n",
    "omp = 2\n",
    "\n",
    "rr = C.RunRules(omp_num_threads=omp,mpi=mpi)\n",
    "code = C.QeCalculator(rr)\n",
    "#code.global_options()"
   ]
  },
  {
   "cell_type": "code",
   "execution_count": 3,
   "metadata": {},
   "outputs": [
    {
     "name": "stdout",
     "output_type": "stream",
     "text": [
      "Initialize a Yambo calculator with scheduler slurm\n"
     ]
    },
    {
     "data": {
      "text/plain": [
       "{'scheduler': 'slurm',\n",
       " 'nodes': 2,\n",
       " 'ntasks_per_node': 32,\n",
       " 'cpus_per_task': 1,\n",
       " 'omp_num_threads': 1,\n",
       " 'gpus_per_node': None,\n",
       " 'memory': '125000',\n",
       " 'time': None,\n",
       " 'partition': 'slownodes',\n",
       " 'account': None,\n",
       " 'qos': None,\n",
       " 'map_by': None,\n",
       " 'pe': 1,\n",
       " 'rank_by': None,\n",
       " 'executable': 'yambo',\n",
       " 'skip': True,\n",
       " 'clean_restart': True,\n",
       " 'dry_run': False,\n",
       " 'wait_end_run': True,\n",
       " 'activate_BeeOND': True,\n",
       " 'verbose': True,\n",
       " 'fatlog': False}"
      ]
     },
     "execution_count": 3,
     "metadata": {},
     "output_type": "execute_result"
    }
   ],
   "source": [
    "# RunRules for ismhpc\n",
    "# The product of ntasks_per_node*cpus_per_task is equal to 32. \n",
    "# Many mpi are needed for better performances\n",
    "nodes = 2\n",
    "ntasks_per_node = 32 #16\n",
    "cpus_per_task = 1 #2\n",
    "omp_num_threads = 1 #2\n",
    "\n",
    "ntasks = nodes*ntasks_per_node\n",
    "\n",
    "rr = C.RunRules(scheduler='slurm',partition='slownodes', #'all12h',\n",
    "                memory='125000',\n",
    "                nodes=nodes,ntasks_per_node=ntasks_per_node,\n",
    "                cpus_per_task=cpus_per_task,\n",
    "                omp_num_threads=omp_num_threads)\n",
    "code = C.YamboCalculator(rr,activate_BeeOND=True) #,reformat=False,clean_restart=False,skip=False,fatlog=True)\n",
    "code.global_options()"
   ]
  },
  {
   "cell_type": "code",
   "execution_count": 3,
   "metadata": {},
   "outputs": [
    {
     "name": "stdout",
     "output_type": "stream",
     "text": [
      "Initialize a Yambo calculator with scheduler slurm\n"
     ]
    },
    {
     "data": {
      "text/plain": [
       "{'scheduler': 'slurm',\n",
       " 'nodes': 8,\n",
       " 'ntasks_per_node': 4,\n",
       " 'cpus_per_task': 32,\n",
       " 'omp_num_threads': 8,\n",
       " 'gpus_per_node': 4,\n",
       " 'memory': '120GB',\n",
       " 'time': '23:59:00',\n",
       " 'partition': 'm100_usr_prod',\n",
       " 'account': 'IscrC_PrExIn',\n",
       " 'qos': None,\n",
       " 'map_by': 'socket',\n",
       " 'pe': 8,\n",
       " 'rank_by': 'core',\n",
       " 'executable': 'yambo',\n",
       " 'skip': True,\n",
       " 'clean_restart': True,\n",
       " 'dry_run': False,\n",
       " 'wait_end_run': True,\n",
       " 'activate_BeeOND': False,\n",
       " 'verbose': True,\n",
       " 'fatlog': False}"
      ]
     },
     "execution_count": 3,
     "metadata": {},
     "output_type": "execute_result"
    }
   ],
   "source": [
    "# RunRules for m100\n",
    "nodes = 8 # 16\n",
    "ntasks_per_node = 4\n",
    "cpus_per_task=32\n",
    "omp_num_threads=8\n",
    "gpus_per_node=4\n",
    "pe=8\n",
    "\n",
    "ntasks = nodes*ntasks_per_node\n",
    "\n",
    "rr = C.RunRules(scheduler='slurm',partition='m100_usr_prod',\n",
    "                account='IscrC_PrExIn',\n",
    "                memory='240GB',time='23:59:00',\n",
    "                nodes=nodes,ntasks_per_node=ntasks_per_node,\n",
    "                cpus_per_task=cpus_per_task,omp_num_threads=omp_num_threads,\n",
    "                gpus_per_node=gpus_per_node,pe=pe,\n",
    "                map_by='socket',rank_by='core')\n",
    "code = C.YamboCalculator(rr)\n",
    "code.global_options()"
   ]
  },
  {
   "cell_type": "markdown",
   "metadata": {
    "tags": []
   },
   "source": [
    "# GW convergence analysis for Stanene monolayer"
   ]
  },
  {
   "cell_type": "markdown",
   "metadata": {},
   "source": [
    "We perform a convergence study for the GW runlevel\n",
    "\n",
    "We use this runlevel to study the convergence of some computational parameters that is relevant\n",
    "also for the BSE analysis."
   ]
  },
  {
   "cell_type": "markdown",
   "metadata": {
    "tags": []
   },
   "source": [
    "## HF Analysis for RIM and Coulomb cutoff parameters"
   ]
  },
  {
   "cell_type": "markdown",
   "metadata": {},
   "source": [
    "As a first step we use this runlevel to study the convergence properties of the RIM and Coulomb cutoff procedures.\n",
    "\n",
    "This analysis is performed with a 18x18x1 k-points sampling (with few empty bands that are not relevant in the HF runlevel)"
   ]
  },
  {
   "cell_type": "code",
   "execution_count": 4,
   "metadata": {},
   "outputs": [
    {
     "name": "stdout",
     "output_type": "stream",
     "text": [
      "Executing command: cd DFT_analysis/kpoints_18-nbnds_30.save; p2y\n",
      "Create folder path GW_analysis/kpoints_18-nbnds_30\n",
      "Create a symlink of DFT_analysis/kpoints_18-nbnds_30.save/SAVE in GW_analysis/kpoints_18-nbnds_30\n",
      "Build the r_setup in the run_dir path GW_analysis/kpoints_18-nbnds_30\n"
     ]
    }
   ],
   "source": [
    "source_dir = 'DFT_analysis/kpoints_18-nbnds_30.save'\n",
    "run_dir = 'GW_analysis/kpoints_18-nbnds_30'\n",
    "\n",
    "save_dir = Tools.make_p2y(source_dir)\n",
    "Tools.init_yambo_run_dir(save_dir,run_dir=run_dir)"
   ]
  },
  {
   "cell_type": "markdown",
   "metadata": {},
   "source": [
    "We compute the HF gap at the $\\Gamma$ and $K$ point and use these values to study the convergence\n",
    "of the RIM and cutoff procedures.\n",
    "\n",
    "Here we define the parameters common to all the runs."
   ]
  },
  {
   "cell_type": "code",
   "execution_count": 5,
   "metadata": {},
   "outputs": [],
   "source": [
    "start_band,stop_band = 28,29 # bands range for the computation of the HF corrections\n",
    "Gamma_index, K_index = 1, 37\n",
    "\n",
    "EXXRLvcs = 40. # Ha # reference value, the convergence of this parameter will be performed later\n",
    "EXXRLVcs_units = 'Ha'"
   ]
  },
  {
   "cell_type": "code",
   "execution_count": 6,
   "metadata": {},
   "outputs": [
    {
     "data": {
      "text/plain": [
       "{'args': 'yambo -r -x -V all',\n",
       " 'folder': 'GW_analysis/kpoints_18-nbnds_30',\n",
       " 'filename': 'yambo.in',\n",
       " 'arguments': ['rim_cut', 'HF_and_locXC'],\n",
       " 'variables': {'StdoHash': [40.0, ''],\n",
       "  'Nelectro': [28.0, ''],\n",
       "  'ElecTemp': [0.0, 'eV'],\n",
       "  'BoseTemp': [-1.0, 'eV'],\n",
       "  'OccTresh': [1e-05, ''],\n",
       "  'NLogCPUs': [0.0, ''],\n",
       "  'MEM_tresh': [51200.0, 'Kb'],\n",
       "  'FFTGvecs': [23661.0, 'RL'],\n",
       "  'SE_Threads': [0.0, ''],\n",
       "  'RandQpts': [0.0, ''],\n",
       "  'RandGvec': [1.0, 'RL'],\n",
       "  'IDEm1Ref': [0.0, ''],\n",
       "  'CUTRadius': [0.0, ''],\n",
       "  'CUTCylLen': [0.0, ''],\n",
       "  'CUTwsGvec': [0.7, ''],\n",
       "  'EXXRLvcs': [40.0, 'Ha'],\n",
       "  'VXCRLvcs': [40.0, 'Ha'],\n",
       "  'DBsIOoff': 'none',\n",
       "  'DBsFRAGpm': 'none',\n",
       "  'PAR_def_mode': 'balanced',\n",
       "  'CUTGeo': 'slab z',\n",
       "  'Em1Anys': [[0.0, 0.0, 0.0], ''],\n",
       "  'CUTBox': [[0.0, 0.0, 0.0], ''],\n",
       "  'QPkrange': [[1, 37, 28, 29], ''],\n",
       "  'QPerange': [[1, 37, 0.0, '-1.000000'], '']}}"
      ]
     },
     "execution_count": 6,
     "metadata": {},
     "output_type": "execute_result"
    }
   ],
   "source": [
    "inp = I.YamboInput(args='yambo -r -x -V all',folder=run_dir)\n",
    "inp.set_scalar_variables(CUTGeo='slab z')\n",
    "inp.set_array_variables(units=EXXRLVcs_units,EXXRLvcs=EXXRLvcs,VXCRLvcs=EXXRLvcs)\n",
    "inp.set_bandRange(start_band,stop_band)\n",
    "inp"
   ]
  },
  {
   "cell_type": "markdown",
   "metadata": {},
   "source": [
    "We perform a convergence run on the RandGvec parameter"
   ]
  },
  {
   "cell_type": "code",
   "execution_count": 15,
   "metadata": {},
   "outputs": [
    {
     "name": "stdout",
     "output_type": "stream",
     "text": [
      "Initialize a Dataset with 2 parallel tasks\n"
     ]
    }
   ],
   "source": [
    "study = D.Dataset(run_dir=run_dir,num_tasks=2,verbose=True)\n",
    "study.set_postprocessing_function(PP.yambo_parse_data)\n",
    "\n",
    "RandQpts = 1000000 # Number of random q-points in the BZ\n",
    "RandGvec = [30,50,100,150,200,300] # use the RIM for the first RandGvec G-components of the coulomb potential \n",
    "\n",
    "inp['variables']['RandQpts'] = [RandQpts,'']\n",
    "\n",
    "# append runs for the Gamma point\n",
    "for randgvec in RandGvec:\n",
    "    idd = 'hf-G-randqpts_%s-randgvec_%s'%(RandQpts,randgvec)\n",
    "    inp.set_kRange(Gamma_index,Gamma_index)\n",
    "    inp.set_array_variables(units='RL',RandGvec=randgvec)\n",
    "    study.append_run(id=idd,input=inp,runner=code,jobname =idd)\n",
    "\n",
    "# append runs for the K point\n",
    "for randgvec in RandGvec:\n",
    "    idd = 'hf-K-randqpts_%s-randgvec_%s'%(RandQpts,randgvec)\n",
    "    inp.set_kRange(K_index,K_index)\n",
    "    inp.set_array_variables(units='RL',RandGvec=randgvec)\n",
    "    study.append_run(id=idd,input=inp,runner=code,jobname =idd)"
   ]
  },
  {
   "cell_type": "code",
   "execution_count": 16,
   "metadata": {},
   "outputs": [],
   "source": [
    "#study.runs[0]"
   ]
  },
  {
   "cell_type": "code",
   "execution_count": 17,
   "metadata": {},
   "outputs": [
    {
     "name": "stdout",
     "output_type": "stream",
     "text": [
      "Run the selection [0, 1, 2, 3, 4, 5, 6, 7, 8, 9, 10, 11] with the parallel task_groups [[0, 1], [2, 3], [4, 5], [6, 7], [8, 9], [10, 11]] \n",
      "\n",
      "Run the task [0, 1] \n",
      "Skip the run of hf-G-randqpts_1000000-randgvec_30\n",
      "Skip the run of hf-G-randqpts_1000000-randgvec_50\n",
      "Task [0, 1] ended \n",
      " \n",
      "Run the task [2, 3] \n",
      "Skip the run of hf-G-randqpts_1000000-randgvec_100Skip the run of\n",
      " hf-G-randqpts_1000000-randgvec_150\n",
      "Task [2, 3] ended \n",
      " \n",
      "Run the task [4, 5] \n",
      "Skip the run of hf-G-randqpts_1000000-randgvec_200\n",
      "run command: mpirun -np 32 yambo -F hf-G-randqpts_1000000-randgvec_300.in -J hf-G-randqpts_1000000-randgvec_300 -C hf-G-randqpts_1000000-randgvec_300\n",
      "slurm submit:  cd GW_analysis/kpoints_18-nbnds_30 ; sbatch job_hf-G-randqpts_1000000-randgvec_300.sh\n",
      "computation hf-G-randqpts_1000000-randgvec_300 is running...\n",
      "computation hf-G-randqpts_1000000-randgvec_300 ended\n",
      "Run performed in 32s\n",
      "Task [4, 5] ended \n",
      " \n",
      "Run the task [6, 7] \n",
      "Skip the run of hf-K-randqpts_1000000-randgvec_30Skip the run of\n",
      " hf-K-randqpts_1000000-randgvec_50\n",
      "Task [6, 7] ended \n",
      " \n",
      "Run the task [8, 9] \n",
      "Skip the run of hf-K-randqpts_1000000-randgvec_100Skip the run of\n",
      " hf-K-randqpts_1000000-randgvec_150\n",
      "Task [8, 9] ended \n",
      " \n",
      "Run the task [10, 11] \n",
      "Skip the run of hf-K-randqpts_1000000-randgvec_200\n",
      "run command: mpirun -np 32 yambo -F hf-K-randqpts_1000000-randgvec_300.in -J hf-K-randqpts_1000000-randgvec_300 -C hf-K-randqpts_1000000-randgvec_300\n",
      "slurm submit:  cd GW_analysis/kpoints_18-nbnds_30 ; sbatch job_hf-K-randqpts_1000000-randgvec_300.sh\n",
      "computation hf-K-randqpts_1000000-randgvec_300 is running...\n",
      "computation hf-K-randqpts_1000000-randgvec_300 ended\n",
      "Run performed in 31s\n",
      "Task [10, 11] ended \n",
      " \n"
     ]
    }
   ],
   "source": [
    "results = study.run()"
   ]
  },
  {
   "cell_type": "markdown",
   "metadata": {},
   "source": [
    "We plot the values of the gap (both at $\\Gamma$ and at $K$) point"
   ]
  },
  {
   "cell_type": "code",
   "execution_count": 18,
   "metadata": {},
   "outputs": [
    {
     "data": {
      "text/plain": [
       "([3.7535689999999997, 3.753808, 3.754116, 3.754124, 3.75402, 3.753706],\n",
       " [1.067425, 1.067467, 1.0675, 1.067521, 1.067533, 1.067561])"
      ]
     },
     "execution_count": 18,
     "metadata": {},
     "output_type": "execute_result"
    }
   ],
   "source": [
    "results_G, results_K = study.fetch_results(id='-G-'),study.fetch_results(id='-K-')\n",
    "gap_G = [r.data.get_gap(k_full=Gamma_index,band_full=start_band,verbose=False) for r in results_G]\n",
    "gap_K = [r.data.get_gap(k_full=K_index,band_full=start_band,verbose=False) for r in results_K]\n",
    "gap_G,gap_K"
   ]
  },
  {
   "cell_type": "code",
   "execution_count": 27,
   "metadata": {},
   "outputs": [
    {
     "name": "stderr",
     "output_type": "stream",
     "text": [
      "/home/dalessandro/.virtualenvs/env1/lib64/python3.6/site-packages/ipykernel_launcher.py:7: UserWarning: FixedFormatter should only be used together with FixedLocator\n",
      "  import sys\n",
      "/home/dalessandro/.virtualenvs/env1/lib64/python3.6/site-packages/ipykernel_launcher.py:14: UserWarning: FixedFormatter should only be used together with FixedLocator\n",
      "  \n"
     ]
    },
    {
     "data": {
      "image/png": "[encoded data removed]",
      "text/plain": [
       "<Figure size 864x360 with 2 Axes>"
      ]
     },
     "metadata": {
      "needs_background": "light"
     },
     "output_type": "display_data"
    }
   ],
   "source": [
    "fig, axes = plt.subplots(nrows=1, ncols=2, figsize=(12, 5))\n",
    "axes[0].plot(RandGvec,gap_G)\n",
    "axes[0].scatter(RandGvec,gap_G)\n",
    "axes[0].set_title('Gap at Gamma',size=14)\n",
    "axes[0].set_xlabel('RandGvec',size=14)\n",
    "current_values = axes[0].get_yticks()\n",
    "axes[0].set_yticklabels(['{:.4f}'.format(x) for x in current_values])\n",
    "\n",
    "axes[1].plot(RandGvec, gap_K)\n",
    "axes[1].scatter(RandGvec,gap_K)\n",
    "axes[1].set_title('Gap at K',size=14)\n",
    "axes[1].set_xlabel('RandGvec',size=14)\n",
    "current_values = axes[1].get_yticks()\n",
    "axes[1].set_yticklabels(['{:.4f}'.format(x) for x in current_values])\n",
    "fig.tight_layout()"
   ]
  },
  {
   "cell_type": "markdown",
   "metadata": {},
   "source": [
    "We also show the values of the valence and conduction bands"
   ]
  },
  {
   "cell_type": "code",
   "execution_count": 28,
   "metadata": {},
   "outputs": [],
   "source": [
    "val_G = [r.data['hf']['Ehf'][0] for r in results_G]\n",
    "cond_G = [r.data['hf']['Ehf'][1] for r in results_G]\n",
    "\n",
    "val_K = [r.data['hf']['Ehf'][0] for r in results_K]\n",
    "cond_K = [r.data['hf']['Ehf'][1] for r in results_K]"
   ]
  },
  {
   "cell_type": "code",
   "execution_count": 29,
   "metadata": {},
   "outputs": [
    {
     "data": {
      "image/png": "[encoded data removed]",
      "text/plain": [
       "<Figure size 864x576 with 4 Axes>"
      ]
     },
     "metadata": {
      "needs_background": "light"
     },
     "output_type": "display_data"
    }
   ],
   "source": [
    "fig, axes = plt.subplots(nrows=2, ncols=2, figsize=(12, 8))\n",
    "axes[0,0].plot(RandGvec,val_G)\n",
    "axes[0,0].scatter(RandGvec,val_G)\n",
    "axes[0,0].set_title('Valence at Gamma',size=14)\n",
    "axes[0,1].plot(RandGvec, cond_G)\n",
    "axes[0,1].scatter(RandGvec,cond_G)\n",
    "axes[0,1].set_title('Conduction at Gamma',size=14)\n",
    "\n",
    "axes[1,0].plot(RandGvec,val_K)\n",
    "axes[1,0].scatter(RandGvec,val_K)\n",
    "axes[1,0].set_title('Valence at K',size=14)\n",
    "axes[1,1].plot(RandGvec, cond_K)\n",
    "axes[1,1].scatter(RandGvec,cond_K)\n",
    "axes[1,1].set_title('Conduction at K',size=14)\n",
    "\n",
    "fig.tight_layout()"
   ]
  },
  {
   "cell_type": "markdown",
   "metadata": {},
   "source": [
    "The states converge much slower than the associated gaps."
   ]
  },
  {
   "cell_type": "markdown",
   "metadata": {},
   "source": [
    "We perform a convergence run on the RandQpts parameter"
   ]
  },
  {
   "cell_type": "code",
   "execution_count": 30,
   "metadata": {},
   "outputs": [
    {
     "name": "stdout",
     "output_type": "stream",
     "text": [
      "Initialize a Dataset with 2 parallel tasks\n"
     ]
    }
   ],
   "source": [
    "study = D.Dataset(run_dir=run_dir,num_tasks=2,verbose=True)\n",
    "study.set_postprocessing_function(PP.yambo_parse_data)\n",
    "\n",
    "RandQpts = [1000000,2000000,3000000,5000000,8000000] # Number of random q-points in the BZ\n",
    "RandGvec = 200 # use the RIM for the first RandGvec G-components of the coulomb potential \n",
    "\n",
    "inp.set_array_variables(units='RL',RandGvec=RandGvec)\n",
    "\n",
    "# append runs for the Gamma point\n",
    "for randqpts in RandQpts:\n",
    "    idd = 'hf-G-randqpts_%s-randgvec_%s'%(randqpts,RandGvec)\n",
    "    inp.set_kRange(Gamma_index,Gamma_index)\n",
    "    inp.set_array_variables(RandQpts=randqpts)\n",
    "    study.append_run(id=idd,input=inp,runner=code,jobname =idd)\n",
    "\n",
    "# append runs for the K point\n",
    "for randqpts in RandQpts:\n",
    "    idd = 'hf-K-randqpts_%s-randgvec_%s'%(randqpts,RandGvec)\n",
    "    inp.set_kRange(K_index,K_index)\n",
    "    inp.set_array_variables(RandQpts=randqpts)\n",
    "    study.append_run(id=idd,input=inp,runner=code,jobname =idd)"
   ]
  },
  {
   "cell_type": "code",
   "execution_count": 31,
   "metadata": {},
   "outputs": [],
   "source": [
    "#study.runs[0]"
   ]
  },
  {
   "cell_type": "code",
   "execution_count": 32,
   "metadata": {},
   "outputs": [
    {
     "name": "stdout",
     "output_type": "stream",
     "text": [
      "Run the selection [0, 1, 2, 3, 4, 5, 6, 7, 8, 9] with the parallel task_groups [[0, 1], [2, 3], [4, 5], [6, 7], [8, 9]] \n",
      "\n",
      "Run the task [0, 1] \n",
      "Skip the run of hf-G-randqpts_1000000-randgvec_200\n",
      "run command: mpirun -np 32 yambo -F hf-G-randqpts_2000000-randgvec_200.in -J hf-G-randqpts_2000000-randgvec_200 -C hf-G-randqpts_2000000-randgvec_200\n",
      "slurm submit:  cd GW_analysis/kpoints_18-nbnds_30 ; sbatch job_hf-G-randqpts_2000000-randgvec_200.sh\n",
      "computation hf-G-randqpts_2000000-randgvec_200 is running...\n",
      "computation hf-G-randqpts_2000000-randgvec_200 ended\n",
      "Run performed in 38s\n",
      "Task [0, 1] ended \n",
      " \n",
      "Run the task [2, 3] \n",
      "run command: mpirun -np 32 yambo -F hf-G-randqpts_5000000-randgvec_200.in -J hf-G-randqpts_5000000-randgvec_200 -C hf-G-randqpts_5000000-randgvec_200\n",
      "slurm submit:  cd GW_analysis/kpoints_18-nbnds_30 ; sbatch job_hf-G-randqpts_5000000-randgvec_200.sh\n",
      "computation hf-G-randqpts_5000000-randgvec_200 is running...\n",
      "run command: mpirun -np 32 yambo -F hf-G-randqpts_3000000-randgvec_200.in -J hf-G-randqpts_3000000-randgvec_200 -C hf-G-randqpts_3000000-randgvec_200\n",
      "slurm submit:  cd GW_analysis/kpoints_18-nbnds_30 ; sbatch job_hf-G-randqpts_3000000-randgvec_200.sh\n",
      "computation hf-G-randqpts_3000000-randgvec_200 is running...\n",
      "computation hf-G-randqpts_3000000-randgvec_200 ended\n",
      "Run performed in 54s\n",
      "computation hf-G-randqpts_5000000-randgvec_200 ended\n",
      "Run performed in 01m-25s\n",
      "Task [2, 3] ended \n",
      " \n",
      "Run the task [4, 5] \n",
      "Skip the run of hf-K-randqpts_1000000-randgvec_200\n",
      "run command: mpirun -np 32 yambo -F hf-G-randqpts_8000000-randgvec_200.in -J hf-G-randqpts_8000000-randgvec_200 -C hf-G-randqpts_8000000-randgvec_200\n",
      "slurm submit:  cd GW_analysis/kpoints_18-nbnds_30 ; sbatch job_hf-G-randqpts_8000000-randgvec_200.sh\n",
      "computation hf-G-randqpts_8000000-randgvec_200 is running...\n",
      "computation hf-G-randqpts_8000000-randgvec_200 ended\n",
      "Run performed in 02m-10s\n",
      "Task [4, 5] ended \n",
      " \n",
      "Run the task [6, 7] \n",
      "run command: mpirun -np 32 yambo -F hf-K-randqpts_3000000-randgvec_200.in -J hf-K-randqpts_3000000-randgvec_200 -C hf-K-randqpts_3000000-randgvec_200\n",
      "slurm submit:  cd GW_analysis/kpoints_18-nbnds_30 ; sbatch job_hf-K-randqpts_3000000-randgvec_200.sh\n",
      "computation hf-K-randqpts_3000000-randgvec_200 is running...\n",
      "run command: mpirun -np 32 yambo -F hf-K-randqpts_2000000-randgvec_200.in -J hf-K-randqpts_2000000-randgvec_200 -C hf-K-randqpts_2000000-randgvec_200\n",
      "slurm submit:  cd GW_analysis/kpoints_18-nbnds_30 ; sbatch job_hf-K-randqpts_2000000-randgvec_200.sh\n",
      "computation hf-K-randqpts_2000000-randgvec_200 is running...\n",
      "computation hf-K-randqpts_2000000-randgvec_200 ended\n",
      "Run performed in 38s\n",
      "computation hf-K-randqpts_3000000-randgvec_200 ended\n",
      "Run performed in 54s\n",
      "Task [6, 7] ended \n",
      " \n",
      "Run the task [8, 9] \n",
      "run command: mpirun -np 32 yambo -F hf-K-randqpts_5000000-randgvec_200.in -J hf-K-randqpts_5000000-randgvec_200 -C hf-K-randqpts_5000000-randgvec_200\n",
      "slurm submit:  cd GW_analysis/kpoints_18-nbnds_30 ; sbatch job_hf-K-randqpts_5000000-randgvec_200.sh\n",
      "computation hf-K-randqpts_5000000-randgvec_200 is running...\n",
      "run command: mpirun -np 32 yambo -F hf-K-randqpts_8000000-randgvec_200.in -J hf-K-randqpts_8000000-randgvec_200 -C hf-K-randqpts_8000000-randgvec_200\n",
      "slurm submit:  cd GW_analysis/kpoints_18-nbnds_30 ; sbatch job_hf-K-randqpts_8000000-randgvec_200.sh\n",
      "computation hf-K-randqpts_8000000-randgvec_200 is running...\n",
      "computation hf-K-randqpts_5000000-randgvec_200 ended\n",
      "Run performed in 01m-24s\n",
      "computation hf-K-randqpts_8000000-randgvec_200 ended\n",
      "Run performed in 02m-10s\n",
      "Task [8, 9] ended \n",
      " \n"
     ]
    }
   ],
   "source": [
    "results = study.run()"
   ]
  },
  {
   "cell_type": "markdown",
   "metadata": {},
   "source": [
    "We plot the values of the gap (both at $\\Gamma$ and at $K$) point"
   ]
  },
  {
   "cell_type": "code",
   "execution_count": 33,
   "metadata": {},
   "outputs": [
    {
     "data": {
      "text/plain": [
       "([3.75402, 3.747322, 3.7443999999999997, 3.744796, 3.744682],\n",
       " [1.067533, 1.065981, 1.0652949999999999, 1.065431, 1.065402])"
      ]
     },
     "execution_count": 33,
     "metadata": {},
     "output_type": "execute_result"
    }
   ],
   "source": [
    "results_G, results_K = study.fetch_results(id='-G-'),study.fetch_results(id='-K-')\n",
    "gap_G = [r.data.get_gap(k_full=Gamma_index,band_full=start_band,verbose=False) for r in results_G]\n",
    "gap_K = [r.data.get_gap(k_full=K_index,band_full=start_band,verbose=False) for r in results_K]\n",
    "gap_G,gap_K"
   ]
  },
  {
   "cell_type": "code",
   "execution_count": 34,
   "metadata": {},
   "outputs": [
    {
     "data": {
      "image/png": "[encoded data removed]",
      "text/plain": [
       "<Figure size 864x360 with 2 Axes>"
      ]
     },
     "metadata": {
      "needs_background": "light"
     },
     "output_type": "display_data"
    }
   ],
   "source": [
    "fig, axes = plt.subplots(nrows=1, ncols=2, figsize=(12, 5))\n",
    "axes[0].plot(RandQpts,gap_G)\n",
    "axes[0].scatter(RandQpts,gap_G)\n",
    "axes[0].set_title('Gap at Gamma',size=14)\n",
    "axes[0].set_xlabel('RandQpts',size=14)\n",
    "axes[1].plot(RandQpts, gap_K)\n",
    "axes[1].scatter(RandQpts,gap_K)\n",
    "axes[1].set_title('Gap at K',size=14)\n",
    "axes[1].set_xlabel('RandQpts',size=14)\n",
    "fig.tight_layout()"
   ]
  },
  {
   "cell_type": "markdown",
   "metadata": {},
   "source": [
    "We also show the values of the valence and conduction bands"
   ]
  },
  {
   "cell_type": "code",
   "execution_count": 36,
   "metadata": {},
   "outputs": [],
   "source": [
    "val_G = [r.data['hf']['Ehf'][0] for r in results_G]\n",
    "cond_G = [r.data['hf']['Ehf'][1] for r in results_G]\n",
    "\n",
    "val_K = [r.data['hf']['Ehf'][0] for r in results_K]\n",
    "cond_K = [r.data['hf']['Ehf'][1] for r in results_K]"
   ]
  },
  {
   "cell_type": "code",
   "execution_count": 37,
   "metadata": {},
   "outputs": [
    {
     "data": {
      "image/png": "[encoded data removed]",
      "text/plain": [
       "<Figure size 864x576 with 4 Axes>"
      ]
     },
     "metadata": {
      "needs_background": "light"
     },
     "output_type": "display_data"
    }
   ],
   "source": [
    "fig, axes = plt.subplots(nrows=2, ncols=2, figsize=(12, 8))\n",
    "axes[0,0].plot(RandQpts,val_G)\n",
    "axes[0,0].scatter(RandQpts,val_G)\n",
    "axes[0,0].set_title('Valence at Gamma',size=14)\n",
    "axes[0,1].plot(RandQpts, cond_G)\n",
    "axes[0,1].scatter(RandQpts,cond_G)\n",
    "axes[0,1].set_title('Conduction at Gamma',size=14)\n",
    "\n",
    "axes[1,0].plot(RandQpts,val_K)\n",
    "axes[1,0].scatter(RandQpts,val_K)\n",
    "axes[1,0].set_title('Valence at K',size=14)\n",
    "axes[1,1].plot(RandQpts, cond_K)\n",
    "axes[1,1].scatter(RandQpts,cond_K)\n",
    "axes[1,1].set_title('Conduction at K',size=14)\n",
    "\n",
    "fig.tight_layout()"
   ]
  },
  {
   "cell_type": "markdown",
   "metadata": {},
   "source": [
    "Also for the RandQpts parameter we observe that the gap is converged at the level of 1 meV at 5e6 while\n",
    "the convergence of the individual states requires higher values. "
   ]
  },
  {
   "cell_type": "markdown",
   "metadata": {},
   "source": [
    "On the basis of this analysis we choose the converged parameters for the RIM and Coulomb cutoff as\n",
    "* RandGVec = 200\n",
    "* RandQPpts = 5000000"
   ]
  },
  {
   "cell_type": "markdown",
   "metadata": {
    "tags": []
   },
   "source": [
    "## HF convergence analysis for the cutoff in the exchange term"
   ]
  },
  {
   "cell_type": "markdown",
   "metadata": {},
   "source": [
    "We study the convergence of the HF calculations in terms of the cutoff in the exchange term.\n",
    "\n",
    "This analysis is performed with a 18x18x1 k-points sampling using the converged results for RIM and Coulomb cutoff."
   ]
  },
  {
   "cell_type": "code",
   "execution_count": 38,
   "metadata": {},
   "outputs": [
    {
     "name": "stdout",
     "output_type": "stream",
     "text": [
      "SAVE folder DFT_analysis/kpoints_18-nbnds_30.save/SAVE already present. No operations performed.\n",
      "SAVE folder already present in GW_analysis/kpoints_18-nbnds_30. No operations performed.\n"
     ]
    }
   ],
   "source": [
    "source_dir = 'DFT_analysis/kpoints_18-nbnds_30.save'\n",
    "run_dir = 'GW_analysis/kpoints_18-nbnds_30'\n",
    "\n",
    "save_dir = Tools.make_p2y(source_dir)\n",
    "Tools.init_yambo_run_dir(save_dir,run_dir=run_dir)"
   ]
  },
  {
   "cell_type": "markdown",
   "metadata": {},
   "source": [
    "We the define the input variables commmon to all the runs"
   ]
  },
  {
   "cell_type": "code",
   "execution_count": 39,
   "metadata": {},
   "outputs": [
    {
     "data": {
      "text/plain": [
       "{'args': 'yambo -r -x -V all',\n",
       " 'folder': 'GW_analysis/kpoints_18-nbnds_30',\n",
       " 'filename': 'yambo.in',\n",
       " 'arguments': ['rim_cut', 'HF_and_locXC'],\n",
       " 'variables': {'StdoHash': [40.0, ''],\n",
       "  'Nelectro': [28.0, ''],\n",
       "  'ElecTemp': [0.0, 'eV'],\n",
       "  'BoseTemp': [-1.0, 'eV'],\n",
       "  'OccTresh': [1e-05, ''],\n",
       "  'NLogCPUs': [0.0, ''],\n",
       "  'MEM_tresh': [51200.0, 'Kb'],\n",
       "  'FFTGvecs': [23661.0, 'RL'],\n",
       "  'SE_Threads': [0.0, ''],\n",
       "  'RandQpts': [5000000.0, ''],\n",
       "  'RandGvec': [200, 'RL'],\n",
       "  'IDEm1Ref': [0.0, ''],\n",
       "  'CUTRadius': [0.0, ''],\n",
       "  'CUTCylLen': [0.0, ''],\n",
       "  'CUTwsGvec': [0.7, ''],\n",
       "  'EXXRLvcs': [163337.0, 'RL'],\n",
       "  'VXCRLvcs': [163337.0, 'RL'],\n",
       "  'DBsIOoff': 'none',\n",
       "  'DBsFRAGpm': 'none',\n",
       "  'PAR_def_mode': 'balanced',\n",
       "  'CUTGeo': 'slab z',\n",
       "  'Em1Anys': [[0.0, 0.0, 0.0], ''],\n",
       "  'CUTBox': [[0.0, 0.0, 0.0], ''],\n",
       "  'QPkrange': [[1, 37, 28, 29], ''],\n",
       "  'QPerange': [[1, 37, 0.0, '-1.000000'], '']}}"
      ]
     },
     "execution_count": 39,
     "metadata": {},
     "output_type": "execute_result"
    }
   ],
   "source": [
    "start_band,stop_band = 28,29 # bands range for the computation of the HF corrections\n",
    "Gamma_index, K_index = 1, 37\n",
    "RandGvec = 200\n",
    "Randqpts = 5e6\n",
    "\n",
    "EXXRLVcs_units = 'Ha'\n",
    "\n",
    "inp = I.YamboInput(args='yambo -r -x -V all',folder=run_dir)\n",
    "inp.set_scalar_variables(CUTGeo='slab z')\n",
    "inp.set_bandRange(start_band,stop_band)\n",
    "inp.set_array_variables(RandQpts=Randqpts)\n",
    "inp.set_array_variables(units='RL',RandGvec=RandGvec)\n",
    "inp"
   ]
  },
  {
   "cell_type": "markdown",
   "metadata": {},
   "source": [
    "We perform a convergence run on the EXXRLvcs parameter"
   ]
  },
  {
   "cell_type": "code",
   "execution_count": 57,
   "metadata": {},
   "outputs": [
    {
     "name": "stdout",
     "output_type": "stream",
     "text": [
      "Initialize a Dataset with 8 parallel tasks\n"
     ]
    }
   ],
   "source": [
    "study = D.Dataset(run_dir=run_dir,num_tasks=8,verbose=True)\n",
    "study.set_postprocessing_function(PP.yambo_parse_data)\n",
    "\n",
    "EXXRLvcs = [10.,20.,30.,40.,50.,60.,70.,80.,90.] # Ha\n",
    "\n",
    "# append runs for the Gamma point\n",
    "for exxrlvcs in EXXRLvcs:\n",
    "    idd = 'hf-G-exxrlvcs_%s'%exxrlvcs\n",
    "    inp.set_kRange(Gamma_index,Gamma_index)\n",
    "    inp.set_array_variables(units=EXXRLVcs_units,EXXRLvcs=exxrlvcs,VXCRLvcs=exxrlvcs)\n",
    "    study.append_run(id=idd,input=inp,runner=code,jobname =idd)\n",
    "\n",
    "# append runs for the K point\n",
    "for exxrlvcs in EXXRLvcs:\n",
    "    idd = 'hf-K-exxrlvcs_%s'%exxrlvcs\n",
    "    inp.set_kRange(K_index,K_index)\n",
    "    inp.set_array_variables(units=EXXRLVcs_units,EXXRLvcs=exxrlvcs,VXCRLvcs=exxrlvcs)\n",
    "    study.append_run(id=idd,input=inp,runner=code,jobname =idd)"
   ]
  },
  {
   "cell_type": "code",
   "execution_count": 58,
   "metadata": {},
   "outputs": [],
   "source": [
    "#study.runs[0]"
   ]
  },
  {
   "cell_type": "code",
   "execution_count": 59,
   "metadata": {},
   "outputs": [
    {
     "name": "stdout",
     "output_type": "stream",
     "text": [
      "Run the selection [0, 1, 2, 3, 4, 5, 6, 7, 8, 9, 10, 11, 12, 13, 14, 15, 16, 17] with the parallel task_groups [[0, 1, 2, 3, 4, 5, 6, 7], [8, 9, 10, 11, 12, 13, 14, 15], [16, 17]] \n",
      "\n",
      "Run the task [0, 1, 2, 3, 4, 5, 6, 7] \n",
      "Skip the run of hf-G-exxrlvcs_10.0Skip the run ofSkip the run of\n",
      "  hf-G-exxrlvcs_20.0hf-G-exxrlvcs_30.0Skip the run of\n",
      "\n",
      " hf-G-exxrlvcs_40.0\n",
      "Skip the run of hf-G-exxrlvcs_50.0Skip the run of\n",
      " hf-G-exxrlvcs_60.0Skip the run of hf-G-exxrlvcs_70.0\n",
      "\n",
      "run command: mpirun -np 32 yambo -F hf-G-exxrlvcs_80.0.in -J hf-G-exxrlvcs_80.0 -C hf-G-exxrlvcs_80.0\n",
      "slurm submit:  cd GW_analysis/kpoints_18-nbnds_30 ; sbatch job_hf-G-exxrlvcs_80.0.sh\n",
      "computation hf-G-exxrlvcs_80.0 is running...\n",
      "computation hf-G-exxrlvcs_80.0 ended\n",
      "Run performed in 01m-38s\n",
      "Task [0, 1, 2, 3, 4, 5, 6, 7] ended \n",
      " \n",
      "Run the task [8, 9, 10, 11, 12, 13, 14, 15] \n",
      "Skip the run of hf-K-exxrlvcs_10.0Skip the run of\n",
      "Skip the run of  hf-K-exxrlvcs_20.0hf-K-exxrlvcs_30.0\n",
      "Skip the run of\n",
      " hf-K-exxrlvcs_40.0Skip the run of \n",
      "Skip the run of hf-K-exxrlvcs_50.0hf-K-exxrlvcs_60.0\n",
      "\n",
      "Skip the run of hf-K-exxrlvcs_70.0\n",
      "run command: mpirun -np 32 yambo -F hf-G-exxrlvcs_90.0.in -J hf-G-exxrlvcs_90.0 -C hf-G-exxrlvcs_90.0\n",
      "slurm submit:  cd GW_analysis/kpoints_18-nbnds_30 ; sbatch job_hf-G-exxrlvcs_90.0.sh\n",
      "computation hf-G-exxrlvcs_90.0 is running...\n",
      "computation hf-G-exxrlvcs_90.0 ended\n",
      "Run performed in 01m-34s\n",
      "Task [8, 9, 10, 11, 12, 13, 14, 15] ended \n",
      " \n",
      "Run the task [16, 17] \n",
      "run command: mpirun -np 32 yambo -F hf-K-exxrlvcs_80.0.in -J hf-K-exxrlvcs_80.0 -C hf-K-exxrlvcs_80.0\n",
      "slurm submit:  cd GW_analysis/kpoints_18-nbnds_30 ; sbatch job_hf-K-exxrlvcs_80.0.sh\n",
      "computation hf-K-exxrlvcs_80.0 is running...\n",
      "run command: mpirun -np 32 yambo -F hf-K-exxrlvcs_90.0.in -J hf-K-exxrlvcs_90.0 -C hf-K-exxrlvcs_90.0\n",
      "slurm submit:  cd GW_analysis/kpoints_18-nbnds_30 ; sbatch job_hf-K-exxrlvcs_90.0.sh\n",
      "computation hf-K-exxrlvcs_90.0 is running...\n",
      "computation hf-K-exxrlvcs_90.0 ended\n",
      "Run performed in 01m-34s\n",
      "computation hf-K-exxrlvcs_80.0 ended\n",
      "Run performed in 01m-40s\n",
      "Task [16, 17] ended \n",
      " \n"
     ]
    }
   ],
   "source": [
    "results = study.run()"
   ]
  },
  {
   "cell_type": "markdown",
   "metadata": {},
   "source": [
    "We plot the values of the gap (both at $\\Gamma$ and at $K$) point"
   ]
  },
  {
   "cell_type": "code",
   "execution_count": 60,
   "metadata": {},
   "outputs": [],
   "source": [
    "results_G, results_K = study.fetch_results(id='-G-'),study.fetch_results(id='-K-')\n",
    "gap_G = [r.data.get_gap(k_full=Gamma_index,band_full=start_band,verbose=False) for r in results_G]\n",
    "gap_K = [r.data.get_gap(k_full=K_index,band_full=start_band,verbose=False) for r in results_K]\n",
    "#gap_G,gap_K"
   ]
  },
  {
   "cell_type": "code",
   "execution_count": 61,
   "metadata": {},
   "outputs": [
    {
     "data": {
      "image/png": "[encoded data removed]",
      "text/plain": [
       "<Figure size 864x360 with 2 Axes>"
      ]
     },
     "metadata": {
      "needs_background": "light"
     },
     "output_type": "display_data"
    }
   ],
   "source": [
    "fig, axes = plt.subplots(nrows=1, ncols=2, figsize=(12, 5))\n",
    "axes[0].plot(EXXRLvcs,gap_G)\n",
    "axes[0].scatter(EXXRLvcs,gap_G)\n",
    "axes[0].set_title('Gap at Gamma',size=14)\n",
    "axes[0].set_xlabel('EXXRLvcs (Ha)',size=14)\n",
    "axes[1].plot(EXXRLvcs, gap_K)\n",
    "axes[1].scatter(EXXRLvcs,gap_K)\n",
    "axes[1].set_title('Gap at K',size=14)\n",
    "axes[1].set_xlabel('EXXRLvcs (Ha)',size=14)\n",
    "fig.tight_layout()"
   ]
  },
  {
   "cell_type": "markdown",
   "metadata": {},
   "source": [
    "On the basis of this analysis we choose the converged value of the cutoff for exchange as\n",
    "\n",
    "EXXRLvcs = 60 Ha"
   ]
  },
  {
   "cell_type": "markdown",
   "metadata": {
    "tags": []
   },
   "source": [
    "## HF Analysis in function of the k-points sampling"
   ]
  },
  {
   "cell_type": "markdown",
   "metadata": {},
   "source": [
    "We test the convergence of the HF gap at $K$ and at the $\\Gamma$ points in funciont of the dimension of the $k$-points sampling.\n",
    "\n",
    "The converged parameters for the RIM and Coulomb cutoff and for the cutoff on the exchange derived in the previous analysis will be used."
   ]
  },
  {
   "cell_type": "code",
   "execution_count": 10,
   "metadata": {},
   "outputs": [],
   "source": [
    "RandQpts = 5000000\n",
    "RandGvec = 200 \n",
    "\n",
    "start_band,stop_band = 28,29 # bands range for the computation of the HF corrections\n",
    "Gamma_index = {18:1,30:1,42:1,60:1,72:1}\n",
    "K_index = {18:37,30:91,42:169,60:331,72:469}\n",
    "\n",
    "EXXRLvcs = 60. # Ha\n",
    "EXXRLVcs_units = 'Ha'"
   ]
  },
  {
   "cell_type": "code",
   "execution_count": 11,
   "metadata": {},
   "outputs": [],
   "source": [
    "kpoints = [18,30,42,60,72]"
   ]
  },
  {
   "cell_type": "code",
   "execution_count": 13,
   "metadata": {},
   "outputs": [
    {
     "name": "stdout",
     "output_type": "stream",
     "text": [
      "Initialize a Dataset with 2 parallel tasks\n",
      "SAVE folder DFT_analysis/kpoints_18-nbnds_30.save/SAVE already present. No operations performed.\n",
      "SAVE folder already present in GW_analysis/kpoints_18-nbnds_30. No operations performed.\n",
      "SAVE folder DFT_analysis/kpoints_30-nbnds_30.save/SAVE already present. No operations performed.\n",
      "SAVE folder already present in GW_analysis/kpoints_30-nbnds_30. No operations performed.\n",
      "SAVE folder DFT_analysis/kpoints_42-nbnds_30.save/SAVE already present. No operations performed.\n",
      "SAVE folder already present in GW_analysis/kpoints_42-nbnds_30. No operations performed.\n",
      "SAVE folder DFT_analysis/kpoints_60-nbnds_30.save/SAVE already present. No operations performed.\n",
      "SAVE folder already present in GW_analysis/kpoints_60-nbnds_30. No operations performed.\n",
      "SAVE folder DFT_analysis/kpoints_72-nbnds_30.save/SAVE already present. No operations performed.\n",
      "SAVE folder already present in GW_analysis/kpoints_72-nbnds_30. No operations performed.\n"
     ]
    }
   ],
   "source": [
    "study = D.Dataset(num_tasks=2,verbose=True)\n",
    "study.set_postprocessing_function(PP.yambo_parse_data)\n",
    "\n",
    "for k in kpoints:\n",
    "    source_dir = 'DFT_analysis/kpoints_%s-nbnds_30.save'%k\n",
    "    run_dir = 'GW_analysis/kpoints_%s-nbnds_30'%k\n",
    "    Tools.init_yambo_run_dir(Tools.make_p2y(source_dir),run_dir=run_dir)\n",
    "    \n",
    "    inp = I.YamboInput(args='yambo -r -x -V all',folder=run_dir)\n",
    "    inp.set_array_variables(units=EXXRLVcs_units,EXXRLvcs=EXXRLvcs,VXCRLvcs=EXXRLvcs)\n",
    "    inp.set_bandRange(start_band,stop_band)\n",
    "    inp.set_scalar_variables(CUTGeo='slab z')\n",
    "    inp.set_array_variables(RandQpts=RandQpts)\n",
    "    inp.set_array_variables(units='RL',RandGvec=RandGvec)\n",
    "    inp.set_scalar_variables(SE_ROLEs='q.qp.b',SE_CPU='2.1.16') # for 1 nodes on ismhpc (with 32 mpi and 1 omp per node)\n",
    "    \n",
    "    # append run at G\n",
    "    idd = 'hf-G-kpoints_%s'%k\n",
    "    inp.set_kRange(Gamma_index[k],Gamma_index[k])\n",
    "    study.append_run(id=idd,input=inp,runner=code,run_dir=run_dir,jobname=idd)\n",
    "    # append run at K\n",
    "    idd = 'hf-K-kpoints_%s'%k\n",
    "    inp.set_kRange(K_index[k],K_index[k])\n",
    "    study.append_run(id=idd,input=inp,runner=code,run_dir=run_dir,jobname=idd)"
   ]
  },
  {
   "cell_type": "code",
   "execution_count": 14,
   "metadata": {},
   "outputs": [],
   "source": [
    "#study.runs[0]"
   ]
  },
  {
   "cell_type": "code",
   "execution_count": 15,
   "metadata": {},
   "outputs": [
    {
     "name": "stdout",
     "output_type": "stream",
     "text": [
      "Run the selection [0, 1, 2, 3, 4, 5, 6, 7, 8, 9] with the parallel task_groups [[0, 1], [2, 3], [4, 5], [6, 7], [8, 9]] \n",
      "\n",
      "Run the task [0, 1] \n",
      "Skip the run of hf-G-kpoints_18Skip the run of\n",
      " hf-K-kpoints_18\n",
      "Task [0, 1] ended \n",
      " \n",
      "Run the task [2, 3] \n",
      "Skip the run of hf-G-kpoints_30Skip the run of\n",
      " hf-K-kpoints_30\n",
      "Task [2, 3] ended \n",
      " \n",
      "Run the task [4, 5] \n",
      "Skip the run of hf-G-kpoints_42Skip the run of\n",
      " hf-K-kpoints_42\n",
      "Task [4, 5] ended \n",
      " \n",
      "Run the task [6, 7] \n",
      "Skip the run of hf-G-kpoints_60Skip the run of\n",
      " hf-K-kpoints_60\n",
      "Task [6, 7] ended \n",
      " \n",
      "Run the task [8, 9] \n",
      "run command: mpirun -np 32 yambo -F hf-K-kpoints_72.in -J hf-K-kpoints_72 -C hf-K-kpoints_72\n",
      "slurm submit:  cd GW_analysis/kpoints_72-nbnds_30 ; sbatch job_hf-K-kpoints_72.sh\n",
      "computation hf-K-kpoints_72 is running...\n",
      "run command: mpirun -np 32 yambo -F hf-G-kpoints_72.in -J hf-G-kpoints_72 -C hf-G-kpoints_72\n",
      "slurm submit:  cd GW_analysis/kpoints_72-nbnds_30 ; sbatch job_hf-G-kpoints_72.sh\n",
      "computation hf-G-kpoints_72 is running...\n",
      "computation hf-G-kpoints_72 ended\n",
      "Run performed in 11m-19s\n",
      "computation hf-K-kpoints_72 ended\n",
      "Run performed in 11m-23s\n",
      "Task [8, 9] ended \n",
      " \n"
     ]
    }
   ],
   "source": [
    "results = study.run()"
   ]
  },
  {
   "cell_type": "code",
   "execution_count": 16,
   "metadata": {},
   "outputs": [
    {
     "data": {
      "text/plain": [
       "([3.7045390000000005,\n",
       "  3.6217550000000003,\n",
       "  3.6046050000000003,\n",
       "  3.60257,\n",
       "  3.603898],\n",
       " [1.06454, 0.912431, 0.8635149999999999, 0.839967, 0.835072])"
      ]
     },
     "execution_count": 16,
     "metadata": {},
     "output_type": "execute_result"
    }
   ],
   "source": [
    "results_G, results_K = study.fetch_results(id='-G-'),study.fetch_results(id='-K-')\n",
    "gap_G, gap_K = [],[]\n",
    "for ind,k in enumerate(kpoints):\n",
    "    gap_G.append(results_G[ind].data.get_gap(k_full=Gamma_index[k],band_full=start_band,verbose=False))\n",
    "    gap_K.append(results_K[ind].data.get_gap(k_full=K_index[k],band_full=start_band,verbose=False))\n",
    "gap_G, gap_K"
   ]
  },
  {
   "cell_type": "code",
   "execution_count": 17,
   "metadata": {},
   "outputs": [
    {
     "data": {
      "image/png": "[encoded data removed]",
      "text/plain": [
       "<Figure size 864x360 with 2 Axes>"
      ]
     },
     "metadata": {
      "needs_background": "light"
     },
     "output_type": "display_data"
    }
   ],
   "source": [
    "fig, axes = plt.subplots(nrows=1, ncols=2, figsize=(12, 5))\n",
    "axes[0].plot(kpoints,gap_G)\n",
    "axes[0].scatter(kpoints,gap_G)\n",
    "axes[0].set_title('Gap at Gamma',size=14)\n",
    "axes[0].set_xlabel('k-sampling',size=14)\n",
    "axes[1].plot(kpoints, gap_K)\n",
    "axes[1].scatter(kpoints,gap_K)\n",
    "axes[1].set_title('Gap at K',size=14)\n",
    "axes[1].set_xlabel('k-sampling',size=14)\n",
    "fig.tight_layout()"
   ]
  },
  {
   "cell_type": "markdown",
   "metadata": {},
   "source": [
    "With the 60x60x1 sampling the HF gap both at $\\Gamma$ and at $K$ is converged at\n",
    "the level of 5 meV."
   ]
  },
  {
   "cell_type": "markdown",
   "metadata": {
    "tags": []
   },
   "source": [
    "## Plasmon pole analysis"
   ]
  },
  {
   "cell_type": "markdown",
   "metadata": {},
   "source": [
    "We study the convergence of the gap at $\\Gamma$ and at $K$ using the plasmon pole run level. \n",
    "\n",
    "The aim of this analysis is to find a converged expression for the screening (that will be used also in the BSE calculations)\n",
    "and to test the RIM_W."
   ]
  },
  {
   "cell_type": "markdown",
   "metadata": {
    "tags": []
   },
   "source": [
    "### Convergence analysis of the screening"
   ]
  },
  {
   "cell_type": "markdown",
   "metadata": {},
   "source": [
    "We use the 18x18x1 k-points sampling and perform a convergence analysis in the BndsRnXp and GbndRnge parameters\n",
    "needed to compute the screening function.\n",
    "\n",
    "We perform this analysis using the RIM_W with RandGvecW=2, the convergence test on this parameter will be performed later."
   ]
  },
  {
   "cell_type": "code",
   "execution_count": 4,
   "metadata": {},
   "outputs": [
    {
     "name": "stdout",
     "output_type": "stream",
     "text": [
      "SAVE folder DFT_analysis/kpoints_18-nbnds_500.save/SAVE already present. No operations performed.\n",
      "SAVE folder already present in GW_analysis/kpoints_18-nbnds_500. No operations performed.\n"
     ]
    }
   ],
   "source": [
    "source_dir = 'DFT_analysis/kpoints_18-nbnds_500.save'\n",
    "run_dir = 'GW_analysis/kpoints_18-nbnds_500'\n",
    "\n",
    "save_dir = Tools.make_p2y(source_dir)\n",
    "Tools.init_yambo_run_dir(save_dir,run_dir=run_dir)"
   ]
  },
  {
   "cell_type": "markdown",
   "metadata": {},
   "source": [
    "We the define the input variables commmon to all the runs"
   ]
  },
  {
   "cell_type": "code",
   "execution_count": 5,
   "metadata": {},
   "outputs": [
    {
     "name": "stdout",
     "output_type": "stream",
     "text": [
      "32 2\n"
     ]
    }
   ],
   "source": [
    "ntasks_c = 32 #16\n",
    "ntasks_v = int(ntasks/ntasks_c)\n",
    "print(ntasks_c,ntasks_v)\n",
    "\n",
    "start_band,stop_band = 28,29\n",
    "Gamma_index, K_index = 1, 37\n",
    "RandGvec = 200\n",
    "RandGvecW = 2\n",
    "Randqpts = 5e6\n",
    "\n",
    "EXXRLvcs = 60. # Ha\n",
    "EXXRLVcs_units = 'Ha'\n",
    "\n",
    "inp = I.YamboInput(args='yambo -r -k hartee -dyson n -gw0 p -V all',folder=run_dir)\n",
    "inp.set_extendOut()\n",
    "inp.activate_RIM_W()\n",
    "inp.set_array_variables(units=EXXRLVcs_units,EXXRLvcs=EXXRLvcs,VXCRLvcs=EXXRLvcs)\n",
    "inp.set_bandRange(start_band,stop_band)\n",
    "inp.set_scalar_variables(CUTGeo='slab z')\n",
    "inp.set_array_variables(RandQpts=Randqpts)\n",
    "inp.set_array_variables(units='RL',RandGvec=RandGvec,RandGvecW=RandGvecW)\n",
    "inp.set_scalar_variables(SE_ROLEs='q.qp.b',SE_CPU='2.2.16') # for 2 nodes on ismhpc (with 32 mpi and 1 omp per node)\n",
    "inp.set_scalar_variables(X_and_IO_ROLEs='q.g.k.c.v',X_and_IO_CPU='1.1.1.%s.%s'%(ntasks_c,ntasks_v))\n",
    "inp.set_scalar_variables(DIP_ROLEs='k.c.v',DIP_CPU='1.%s.%s'%(ntasks_c,ntasks_v))\n",
    "#inp"
   ]
  },
  {
   "cell_type": "markdown",
   "metadata": {},
   "source": [
    "First we run over NGsBlkXp"
   ]
  },
  {
   "cell_type": "code",
   "execution_count": 6,
   "metadata": {},
   "outputs": [
    {
     "name": "stdout",
     "output_type": "stream",
     "text": [
      "Initialize a Dataset with 4 parallel tasks\n"
     ]
    }
   ],
   "source": [
    "NGsBlkXp = [2.0,4.0,6.0,8.0,10.] # Ha G size of the response function\n",
    "NGsBlkXp_units = 'Ha'\n",
    "BndsRnXp  = [1,100] # Bands in the response function\n",
    "GbndRnge = [1,100]  # Bands in the Sigma_c\n",
    "\n",
    "inp.set_array_variables(BndsRnXp=BndsRnXp,GbndRnge=GbndRnge)\n",
    "\n",
    "study = D.Dataset(num_tasks=4,verbose=True)\n",
    "study.set_postprocessing_function(PP.yambo_parse_data)\n",
    "\n",
    "for ngsblkxp in NGsBlkXp:\n",
    "    inp.set_array_variables(units=NGsBlkXp_units,NGsBlkXp=ngsblkxp)\n",
    "    # append run at G\n",
    "    idd = 'pp-G-ngsblkxp_%s-bndsrnxp_%s-gbndrnge_%s'%(ngsblkxp,BndsRnXp[1],GbndRnge[1])\n",
    "    inp.set_kRange(Gamma_index,Gamma_index)\n",
    "    study.append_run(id=idd,input=inp,runner=code,run_dir=run_dir,\n",
    "            jobname=[idd,'ndb_rim_cutoff','ndb_hf_G','ndb_em1d-ngsblkxp_%s-bndsrnxp_%s'%(ngsblkxp,BndsRnXp[1])],reformat=False)\n",
    "    # append run at K\n",
    "    idd = 'pp-K-ngsblkxp_%s-bndsrnxp_%s-gbndrnge_%s'%(ngsblkxp,BndsRnXp[1],GbndRnge[1])\n",
    "    inp.set_kRange(K_index,K_index)\n",
    "    study.append_run(id=idd,input=inp,runner=code,run_dir=run_dir,\n",
    "            jobname=[idd,'ndb_rim_cutoff','ndb_hf_K','ndb_em1d-ngsblkxp_%s-bndsrnxp_%s'%(ngsblkxp,BndsRnXp[1])],reformat=False)"
   ]
  },
  {
   "cell_type": "code",
   "execution_count": 7,
   "metadata": {},
   "outputs": [],
   "source": [
    "#study.runs[0]"
   ]
  },
  {
   "cell_type": "code",
   "execution_count": 8,
   "metadata": {},
   "outputs": [
    {
     "name": "stdout",
     "output_type": "stream",
     "text": [
      "Run the selection [0, 1, 2, 3, 4, 5, 6, 7, 8, 9] with the parallel task_groups [[0, 1, 2, 3], [4, 5, 6, 7], [8, 9]] \n",
      "\n",
      "Run the task [0, 1, 2, 3] \n",
      "Skip the run of pp-K-ngsblkxp_2.0-bndsrnxp_100-gbndrnge_100\n",
      "Skip the run of Skip the run ofpp-G-ngsblkxp_4.0-bndsrnxp_100-gbndrnge_100 \n",
      "pp-G-ngsblkxp_2.0-bndsrnxp_100-gbndrnge_100\n",
      "Skip the run of pp-K-ngsblkxp_4.0-bndsrnxp_100-gbndrnge_100\n",
      "Task [0, 1, 2, 3] ended \n",
      " \n",
      "Run the task [4, 5, 6, 7] \n",
      "Skip the run of pp-G-ngsblkxp_6.0-bndsrnxp_100-gbndrnge_100Skip the run of\n",
      " pp-K-ngsblkxp_8.0-bndsrnxp_100-gbndrnge_100\n",
      "Skip the run of pp-K-ngsblkxp_6.0-bndsrnxp_100-gbndrnge_100\n",
      "Skip the run of pp-G-ngsblkxp_8.0-bndsrnxp_100-gbndrnge_100\n",
      "Task [4, 5, 6, 7] ended \n",
      " \n",
      "Run the task [8, 9] \n",
      "Skip the run of pp-K-ngsblkxp_10.0-bndsrnxp_100-gbndrnge_100\n",
      "Skip the run of pp-G-ngsblkxp_10.0-bndsrnxp_100-gbndrnge_100\n",
      "Task [8, 9] ended \n",
      " \n"
     ]
    }
   ],
   "source": [
    "results = study.run()"
   ]
  },
  {
   "cell_type": "code",
   "execution_count": 9,
   "metadata": {},
   "outputs": [
    {
     "data": {
      "text/plain": [
       "([0.525405, 0.5294289999999999, 0.531579, 0.532116, 0.53227],\n",
       " [0.138303, 0.137589908, 0.137334, 0.137242, 0.13719])"
      ]
     },
     "execution_count": 9,
     "metadata": {},
     "output_type": "execute_result"
    }
   ],
   "source": [
    "results_G, results_K = study.fetch_results(id='-G-'),study.fetch_results(id='-K-')\n",
    "gap_G = [r.data.get_gap(k_full=Gamma_index,band_full=start_band,verbose=False) for r in results_G]\n",
    "gap_K = [r.data.get_gap(k_full=K_index,band_full=start_band,verbose=False) for r in results_K]\n",
    "gap_G,gap_K"
   ]
  },
  {
   "cell_type": "code",
   "execution_count": 10,
   "metadata": {},
   "outputs": [
    {
     "data": {
      "image/png": "[encoded data removed]",
      "text/plain": [
       "<Figure size 864x360 with 2 Axes>"
      ]
     },
     "metadata": {
      "needs_background": "light"
     },
     "output_type": "display_data"
    }
   ],
   "source": [
    "fig, axes = plt.subplots(nrows=1, ncols=2, figsize=(12, 5))\n",
    "axes[0].plot(NGsBlkXp,gap_G)\n",
    "axes[0].scatter(NGsBlkXp,gap_G)\n",
    "axes[0].set_title('Gap at Gamma',size=14)\n",
    "axes[0].set_xlabel('NGsBlkXp (Ha)',size=14)\n",
    "axes[1].plot(NGsBlkXp, gap_K)\n",
    "axes[1].scatter(NGsBlkXp,gap_K)\n",
    "axes[1].set_xlabel('NGsBlkXp (Ha)',size=14)\n",
    "axes[1].set_title('Gap at K',size=14)\n",
    "fig.tight_layout()"
   ]
  },
  {
   "cell_type": "markdown",
   "metadata": {},
   "source": [
    "We choose the value NGsBlkXp = 8 Ha that ensures convergence at the level of 1 meV (or better) for\n",
    "both the $\\Gamma$ and the K points."
   ]
  },
  {
   "cell_type": "code",
   "execution_count": 11,
   "metadata": {},
   "outputs": [
    {
     "name": "stdout",
     "output_type": "stream",
     "text": [
      "Initialize a Dataset with 4 parallel tasks\n"
     ]
    }
   ],
   "source": [
    "NGsBlkXp = 8.0 # Ha G size of the response function\n",
    "NGsBlkXp_units = 'Ha'\n",
    "BndsRnXp  = [[1,100],[1,200],[1,300],[1,400],[1,500]] # Bands in the response function\n",
    "GbndRnge = [1,100]  # Bands in the Sigma_c\n",
    "\n",
    "inp.set_array_variables(units=NGsBlkXp_units,NGsBlkXp=NGsBlkXp)\n",
    "inp.set_array_variables(GbndRnge=GbndRnge)\n",
    "\n",
    "study = D.Dataset(num_tasks=4,verbose=True)\n",
    "study.set_postprocessing_function(PP.yambo_parse_data)\n",
    "\n",
    "for bndsrnxp in BndsRnXp:\n",
    "    inp.set_array_variables(BndsRnXp=bndsrnxp)\n",
    "    # append run at G\n",
    "    idd = 'pp-G-ngsblkxp_%s-bndsrnxp_%s-gbndrnge_%s'%(NGsBlkXp,bndsrnxp[1],GbndRnge[1])\n",
    "    inp.set_kRange(Gamma_index,Gamma_index)\n",
    "    study.append_run(id=idd,input=inp,runner=code,run_dir=run_dir,\n",
    "            jobname=[idd,'ndb_rim_cutoff','ndb_hf_G','ndb_em1d-ngsblkxp_%s-bndsrnxp_%s'%(NGsBlkXp,bndsrnxp[1])],reformat=False) \n",
    "    # append run at K\n",
    "    idd = 'pp-K-ngsblkxp_%s-bndsrnxp_%s-gbndrnge_%s'%(NGsBlkXp,bndsrnxp[1],GbndRnge[1])\n",
    "    inp.set_kRange(K_index,K_index)\n",
    "    study.append_run(id=idd,input=inp,runner=code,run_dir=run_dir,\n",
    "            jobname=[idd,'ndb_rim_cutoff','ndb_hf_K','ndb_em1d-ngsblkxp_%s-bndsrnxp_%s'%(NGsBlkXp,bndsrnxp[1])],reformat=False) "
   ]
  },
  {
   "cell_type": "code",
   "execution_count": 12,
   "metadata": {},
   "outputs": [],
   "source": [
    "#study.runs[8]"
   ]
  },
  {
   "cell_type": "code",
   "execution_count": 15,
   "metadata": {},
   "outputs": [
    {
     "name": "stdout",
     "output_type": "stream",
     "text": [
      "Run the selection [0, 1, 2, 3, 4, 5, 6, 7, 8, 9] with the parallel task_groups [[0, 1, 2, 3], [4, 5, 6, 7], [8, 9]] \n",
      "\n",
      "Run the task [0, 1, 2, 3] \n",
      "Skip the run ofSkip the run of pp-G-ngsblkxp_8.0-bndsrnxp_100-gbndrnge_100 pp-K-ngsblkxp_8.0-bndsrnxp_100-gbndrnge_100\n",
      "Skip the run of\n",
      " pp-G-ngsblkxp_8.0-bndsrnxp_200-gbndrnge_100\n",
      "Skip the run of pp-K-ngsblkxp_8.0-bndsrnxp_200-gbndrnge_100\n",
      "Task [0, 1, 2, 3] ended \n",
      " \n",
      "Run the task [4, 5, 6, 7] \n",
      "Skip the run of Skip the run ofpp-G-ngsblkxp_8.0-bndsrnxp_300-gbndrnge_100 \n",
      "pp-K-ngsblkxp_8.0-bndsrnxp_300-gbndrnge_100Skip the run of\n",
      " pp-G-ngsblkxp_8.0-bndsrnxp_400-gbndrnge_100\n",
      "Skip the run of pp-K-ngsblkxp_8.0-bndsrnxp_400-gbndrnge_100\n",
      "Task [4, 5, 6, 7] ended \n",
      " \n",
      "Run the task [8, 9] \n",
      "Skip the run of pp-G-ngsblkxp_8.0-bndsrnxp_500-gbndrnge_100\n",
      "Skip the run of pp-K-ngsblkxp_8.0-bndsrnxp_500-gbndrnge_100\n",
      "Task [8, 9] ended \n",
      " \n"
     ]
    }
   ],
   "source": [
    "results = study.run()"
   ]
  },
  {
   "cell_type": "code",
   "execution_count": 16,
   "metadata": {},
   "outputs": [
    {
     "data": {
      "text/plain": [
       "([0.532116, 0.512975, 0.502509, 0.494882, 0.490477],\n",
       " [0.137242, 0.140172, 0.140457, 0.140402, 0.140088])"
      ]
     },
     "execution_count": 16,
     "metadata": {},
     "output_type": "execute_result"
    }
   ],
   "source": [
    "results_G, results_K = study.fetch_results(id='-G-'),study.fetch_results(id='-K-')\n",
    "gap_G = [r.data.get_gap(k_full=Gamma_index,band_full=start_band,verbose=False) for r in results_G]\n",
    "gap_K = [r.data.get_gap(k_full=K_index,band_full=start_band,verbose=False) for r in results_K]\n",
    "gap_G,gap_K"
   ]
  },
  {
   "cell_type": "code",
   "execution_count": 17,
   "metadata": {},
   "outputs": [
    {
     "data": {
      "image/png": "[encoded data removed]",
      "text/plain": [
       "<Figure size 864x360 with 2 Axes>"
      ]
     },
     "metadata": {
      "needs_background": "light"
     },
     "output_type": "display_data"
    }
   ],
   "source": [
    "x_vals = [x[1] for x in BndsRnXp]\n",
    "\n",
    "fig, axes = plt.subplots(nrows=1, ncols=2, figsize=(12, 5))\n",
    "axes[0].plot(x_vals,gap_G)\n",
    "axes[0].scatter(x_vals,gap_G)\n",
    "axes[0].set_title('Gap at Gamma',size=14)\n",
    "axes[0].set_xlabel('BndsRnXp',size=14)\n",
    "axes[1].plot(x_vals, gap_K)\n",
    "axes[1].scatter(x_vals,gap_K)\n",
    "axes[1].set_xlabel('BndsRnXp',size=14)\n",
    "axes[1].set_title('Gap at K',size=14)\n",
    "fig.tight_layout()"
   ]
  },
  {
   "cell_type": "markdown",
   "metadata": {},
   "source": [
    "We observe that 500 bands are sufficient to provide convergence at K whereas the convergence of the gap at $\\Gamma$\n",
    "requires more bands. \n",
    "\n",
    "__Moreover, as pointed out in the literature, an ulterior convergence test on the NGsBlkXp parameter should be performed\n",
    "since this parameter is connected to the BndsRnXp so the convergence test previously performed should not be \n",
    "completely reliable. We will perform this analysis afterwards.__"
   ]
  },
  {
   "cell_type": "markdown",
   "metadata": {},
   "source": [
    "Lastly we perform the convergence check on the number of bands used in the G expansion.\n",
    "\n",
    "We use the Bruneval-Gonze (BG) terminator to improve the convergence on the GbndRnge parameter."
   ]
  },
  {
   "cell_type": "code",
   "execution_count": 7,
   "metadata": {},
   "outputs": [
    {
     "name": "stdout",
     "output_type": "stream",
     "text": [
      "Initialize a Dataset with 4 parallel tasks\n"
     ]
    }
   ],
   "source": [
    "NGsBlkXp = 8.0 # Ha G size of the response function\n",
    "NGsBlkXp_units = 'Ha'\n",
    "BndsRnXp  = [1,500] # Bands in the response function\n",
    "GbndRnge = [[1,100],[1,200],[1,300],[1,400],[1,500]]  # Bands in the Sigma_c\n",
    "\n",
    "inp.set_array_variables(units=NGsBlkXp_units,NGsBlkXp=NGsBlkXp)\n",
    "inp.set_array_variables(BndsRnXp=BndsRnXp)\n",
    "\n",
    "study = D.Dataset(num_tasks=4,verbose=True)\n",
    "study.set_postprocessing_function(PP.yambo_parse_data)\n",
    "\n",
    "for gbndrnge in GbndRnge:\n",
    "    inp.set_array_variables(GbndRnge=gbndrnge)\n",
    "    # append run at G\n",
    "    inp.set_scalar_variables(GTermKind='BG')\n",
    "    idd = 'pp-G-ngsblkxp_%s-bndsrnxp_%s-gbndrnge_%s-BG_term'%(NGsBlkXp,BndsRnXp[1],gbndrnge[1])\n",
    "    inp.set_kRange(Gamma_index,Gamma_index)\n",
    "    study.append_run(id=idd,input=inp,runner=code,run_dir=run_dir,\n",
    "            jobname=[idd,'ndb_rim_cutoff','ndb_hf_G','ndb_em1d-ngsblkxp_%s-bndsrnxp_%s'%(NGsBlkXp,BndsRnXp[1])],reformat=False)\n",
    "    inp.set_scalar_variables(GTermKind='none')\n",
    "    idd = 'pp-G-ngsblkxp_%s-bndsrnxp_%s-gbndrnge_%s'%(NGsBlkXp,BndsRnXp[1],gbndrnge[1])\n",
    "    inp.set_kRange(Gamma_index,Gamma_index)\n",
    "    study.append_run(id=idd,input=inp,runner=code,run_dir=run_dir,\n",
    "            jobname=[idd,'ndb_rim_cutoff','ndb_hf_G','ndb_em1d-ngsblkxp_%s-bndsrnxp_%s'%(NGsBlkXp,BndsRnXp[1])],reformat=False)\n",
    "    \n",
    "    # append run at K\n",
    "    inp.set_scalar_variables(GTermKind='BG')\n",
    "    idd = 'pp-K-ngsblkxp_%s-bndsrnxp_%s-gbndrnge_%s-BG_term'%(NGsBlkXp,BndsRnXp[1],gbndrnge[1])\n",
    "    inp.set_kRange(K_index,K_index)\n",
    "    study.append_run(id=idd,input=inp,runner=code,run_dir=run_dir,\n",
    "            jobname=[idd,'ndb_rim_cutoff','ndb_hf_K','ndb_em1d-ngsblkxp_%s-bndsrnxp_%s'%(NGsBlkXp,BndsRnXp[1])],reformat=False)\n",
    "    inp.set_scalar_variables(GTermKind='none')\n",
    "    idd = 'pp-K-ngsblkxp_%s-bndsrnxp_%s-gbndrnge_%s'%(NGsBlkXp,BndsRnXp[1],gbndrnge[1])\n",
    "    inp.set_kRange(K_index,K_index)\n",
    "    study.append_run(id=idd,input=inp,runner=code,run_dir=run_dir,\n",
    "            jobname=[idd,'ndb_rim_cutoff','ndb_hf_K','ndb_em1d-ngsblkxp_%s-bndsrnxp_%s'%(NGsBlkXp,BndsRnXp[1])],reformat=False)"
   ]
  },
  {
   "cell_type": "code",
   "execution_count": 8,
   "metadata": {},
   "outputs": [],
   "source": [
    "#study.ids\n",
    "#study.runs[1]"
   ]
  },
  {
   "cell_type": "code",
   "execution_count": 9,
   "metadata": {},
   "outputs": [
    {
     "name": "stdout",
     "output_type": "stream",
     "text": [
      "Run the selection [0, 1, 2, 3, 4, 5, 6, 7, 8, 9, 10, 11, 12, 13, 14, 15, 16, 17, 18, 19] with the parallel task_groups [[0, 1, 2, 3], [4, 5, 6, 7], [8, 9, 10, 11], [12, 13, 14, 15], [16, 17, 18, 19]] \n",
      "\n",
      "Run the task [0, 1, 2, 3] \n",
      "Skip the run of Skip the run ofpp-G-ngsblkxp_8.0-bndsrnxp_500-gbndrnge_100-BG_term\n",
      " Skip the run ofpp-G-ngsblkxp_8.0-bndsrnxp_500-gbndrnge_100\n",
      " pp-K-ngsblkxp_8.0-bndsrnxp_500-gbndrnge_100-BG_term\n",
      "Skip the run of pp-K-ngsblkxp_8.0-bndsrnxp_500-gbndrnge_100\n",
      "Task [0, 1, 2, 3] ended \n",
      " \n",
      "Run the task [4, 5, 6, 7] \n",
      "Skip the run of Skip the run ofpp-G-ngsblkxp_8.0-bndsrnxp_500-gbndrnge_200-BG_term\n",
      " Skip the run ofpp-G-ngsblkxp_8.0-bndsrnxp_500-gbndrnge_200\n",
      " pp-K-ngsblkxp_8.0-bndsrnxp_500-gbndrnge_200-BG_termSkip the run of\n",
      " pp-K-ngsblkxp_8.0-bndsrnxp_500-gbndrnge_200\n",
      "Task [4, 5, 6, 7] ended \n",
      " \n",
      "Run the task [8, 9, 10, 11] \n",
      "Skip the run of pp-G-ngsblkxp_8.0-bndsrnxp_500-gbndrnge_300-BG_term\n",
      "Skip the run ofSkip the run of  pp-G-ngsblkxp_8.0-bndsrnxp_500-gbndrnge_300pp-K-ngsblkxp_8.0-bndsrnxp_500-gbndrnge_300-BG_term\n",
      "\n",
      "Skip the run of pp-K-ngsblkxp_8.0-bndsrnxp_500-gbndrnge_300\n",
      "Task [8, 9, 10, 11] ended \n",
      " \n",
      "Run the task [12, 13, 14, 15] \n",
      "Skip the run of pp-G-ngsblkxp_8.0-bndsrnxp_500-gbndrnge_400-BG_term\n",
      "Skip the run of Skip the run ofpp-G-ngsblkxp_8.0-bndsrnxp_500-gbndrnge_400 \n",
      "pp-K-ngsblkxp_8.0-bndsrnxp_500-gbndrnge_400-BG_term\n",
      "Skip the run of pp-K-ngsblkxp_8.0-bndsrnxp_500-gbndrnge_400\n",
      "Task [12, 13, 14, 15] ended \n",
      " \n",
      "Run the task [16, 17, 18, 19] \n",
      "Skip the run of Skip the run ofpp-G-ngsblkxp_8.0-bndsrnxp_500-gbndrnge_500-BG_term\n",
      " Skip the run ofpp-G-ngsblkxp_8.0-bndsrnxp_500-gbndrnge_500 \n",
      "pp-K-ngsblkxp_8.0-bndsrnxp_500-gbndrnge_500-BG_term\n",
      "Skip the run of pp-K-ngsblkxp_8.0-bndsrnxp_500-gbndrnge_500\n",
      "Task [16, 17, 18, 19] ended \n",
      " \n"
     ]
    }
   ],
   "source": [
    "results = study.run()"
   ]
  },
  {
   "cell_type": "code",
   "execution_count": 10,
   "metadata": {},
   "outputs": [],
   "source": [
    "results_G_BG = [results[r] for r in [0,4,8,12,16]]\n",
    "results_G = [results[r] for r in [1,5,9,13,17]]\n",
    "results_K_BG = [results[r] for r in [2,6,10,14,18]]\n",
    "results_K = [results[r] for r in [3,7,11,15,19]]"
   ]
  },
  {
   "cell_type": "code",
   "execution_count": 12,
   "metadata": {},
   "outputs": [],
   "source": [
    "gap_G, gap_G_BG = [],[]\n",
    "for ind in range(len(GbndRnge)):\n",
    "    gap_G.append(results_G[ind].data.get_gap(k_full=Gamma_index,band_full=start_band,verbose=False))\n",
    "    gap_G_BG.append(results_G_BG[ind].data.get_gap(k_full=Gamma_index,band_full=start_band,verbose=False))\n",
    "\n",
    "gap_K, gap_K_BG = [],[]\n",
    "for ind in range(len(GbndRnge)):\n",
    "    gap_K.append(results_K[ind].data.get_gap(k_full=K_index,band_full=start_band,verbose=False))\n",
    "    gap_K_BG.append(results_K_BG[ind].data.get_gap(k_full=K_index,band_full=start_band,verbose=False))"
   ]
  },
  {
   "cell_type": "code",
   "execution_count": 15,
   "metadata": {},
   "outputs": [
    {
     "data": {
      "text/plain": [
       "([0.490477, 0.558478, 0.573739, 0.57903, 0.57634],\n",
       " [0.5950799999999999,\n",
       "  0.6145499999999999,\n",
       "  0.615063,\n",
       "  0.6141519999999999,\n",
       "  0.611059],\n",
       " [[1, 100], [1, 200], [1, 300], [1, 400], [1, 500]])"
      ]
     },
     "execution_count": 15,
     "metadata": {},
     "output_type": "execute_result"
    }
   ],
   "source": [
    "gap_G,gap_G_BG,GbndRnge"
   ]
  },
  {
   "cell_type": "code",
   "execution_count": 17,
   "metadata": {},
   "outputs": [
    {
     "data": {
      "image/png": "[encoded data removed]",
      "text/plain": [
       "<Figure size 864x360 with 2 Axes>"
      ]
     },
     "metadata": {
      "needs_background": "light"
     },
     "output_type": "display_data"
    }
   ],
   "source": [
    "xvals = [gbndrnge[1] for gbndrnge in GbndRnge]\n",
    "\n",
    "fig, axes = plt.subplots(nrows=1, ncols=2, figsize=(12, 5))\n",
    "axes[0].plot(xvals,gap_G,label='no term')\n",
    "axes[0].scatter(xvals,gap_G)\n",
    "axes[0].plot(xvals, gap_G_BG,label='BG')\n",
    "axes[0].scatter(xvals,gap_G_BG)\n",
    "axes[0].set_title('Gap at Gamma',size=14)\n",
    "axes[0].set_xlabel('GbndRnge',size=14)\n",
    "axes[1].plot(xvals, gap_K,label='no term')\n",
    "axes[1].scatter(xvals,gap_K)\n",
    "axes[1].plot(xvals, gap_K_BG,label='BG')\n",
    "axes[1].scatter(xvals,gap_K_BG)\n",
    "axes[1].set_title('Gap at K',size=14)\n",
    "axes[1].set_xlabel('GbndRnge',size=14)\n",
    "axes[0].legend()\n",
    "axes[1].legend()\n",
    "fig.tight_layout()"
   ]
  },
  {
   "cell_type": "markdown",
   "metadata": {},
   "source": [
    "We observe that: \n",
    "* the usage of the BG terminator leads to a (apparently) different asymptotic value at $\\Gamma$\n",
    "* at K the values are the same but there no advantage in using the terminator with 500 bands\n",
    "* the computational cost of the single computation is higher with the terminato\n",
    "\n",
    "So we do not use the terminator in the subsequent computations."
   ]
  },
  {
   "cell_type": "markdown",
   "metadata": {},
   "source": [
    "On the basis of this analysis we conclude that : \n",
    "* NGsBlkXp = 8 Ha, BndsRnXp = GbndRnge = 500 (without a BG terminator on the GbndRnge parameter) seems to ensure\n",
    "  convergence within 5 meV. However further test could be needed to ensure that the convergence is reliable.\n",
    "  In particular a test on the NGsBlkXp with BndsRnXp = 500 should be performed"
   ]
  },
  {
   "cell_type": "markdown",
   "metadata": {},
   "source": [
    "### Analysis of RIM_W convergence"
   ]
  },
  {
   "cell_type": "markdown",
   "metadata": {},
   "source": [
    "We perform a convergence analysis on the number of G vectors in the RIM_W procedure"
   ]
  },
  {
   "cell_type": "code",
   "execution_count": 35,
   "metadata": {},
   "outputs": [
    {
     "name": "stdout",
     "output_type": "stream",
     "text": [
      "32 1\n"
     ]
    }
   ],
   "source": [
    "tasks_c = 16 #16\n",
    "ntasks_v = int(ntasks/ntasks_c)\n",
    "print(ntasks_c,ntasks_v)\n",
    "\n",
    "start_band,stop_band = 28,29\n",
    "Gamma_index, K_index = 1, 37\n",
    "RandGvec = 200\n",
    "Randqpts = 5e6\n",
    "\n",
    "EXXRLvcs = 60. # Ha\n",
    "EXXRLVcs_units = 'Ha'\n",
    "\n",
    "inp = I.YamboInput(args='yambo -r -k hartee -dyson n -gw0 p -V all',folder=run_dir)\n",
    "inp.set_extendOut()\n",
    "inp.activate_RIM_W()\n",
    "inp.set_array_variables(units=EXXRLVcs_units,EXXRLvcs=EXXRLvcs,VXCRLvcs=EXXRLvcs)\n",
    "inp.set_bandRange(start_band,stop_band)\n",
    "inp.set_scalar_variables(CUTGeo='slab z')\n",
    "inp.set_array_variables(RandQpts=Randqpts)\n",
    "inp.set_array_variables(units='RL',RandGvec=RandGvec)\n",
    "inp.set_array_variables(units=NGsBlkXp_units,NGsBlkXp=NGsBlkXp)\n",
    "inp.set_array_variables(BndsRnXp=BndsRnXp)\n",
    "#inp.set_scalar_variables(GTermKind='BG') # actual runs have been performed with BG but it should be not relevant for the RIM_W convergence\n",
    "inp.set_scalar_variables(SE_ROLEs='q.qp.b',SE_CPU='2.1.16') # for 1 nodes on ismhpc (with 32 mpi and 1 omp per node)\n",
    "#inp.set_scalar_variables(SE_ROLEs='q.qp.b',SE_CPU='2.2.16') # for 2 nodes on ismhpc (with 32 mpi and 1 omp per node)\n",
    "inp.set_scalar_variables(X_and_IO_ROLEs='q.g.k.c.v',X_and_IO_CPU='1.1.1.%s.%s'%(ntasks_c,ntasks_v))\n",
    "inp.set_scalar_variables(DIP_ROLEs='k.c.v',DIP_CPU='1.%s.%s'%(ntasks_c,ntasks_v))\n",
    "#inp"
   ]
  },
  {
   "cell_type": "code",
   "execution_count": 36,
   "metadata": {},
   "outputs": [
    {
     "name": "stdout",
     "output_type": "stream",
     "text": [
      "Initialize a Dataset with 2 parallel tasks\n"
     ]
    }
   ],
   "source": [
    "RandGvecW =[2,10,20]\n",
    "\n",
    "study = D.Dataset(num_tasks=2,verbose=True)\n",
    "study.set_postprocessing_function(PP.yambo_parse_data)\n",
    "\n",
    "for randgvecw in RandGvecW:\n",
    "    inp.set_array_variables(units='RL',RandGvecW=randgvecw)\n",
    "    # append run at G\n",
    "    idd = 'pp-G-RIM_W-randgvecw_%s'%randgvecw\n",
    "    inp.set_kRange(Gamma_index,Gamma_index)\n",
    "    study.append_run(id=idd,input=inp,runner=code,run_dir=run_dir,\n",
    "            jobname=[idd,'ndb_rim_cutoff','ndb_hf_G','ndb_em1d-ngsblkxp_%s-bndsrnxp_%s'%(NGsBlkXp,BndsRnXp[1])],reformat=False)\n",
    "    # append run at K\n",
    "    idd = 'pp-K-RIM_W-randgvecw_%s'%randgvecw\n",
    "    inp.set_kRange(K_index,K_index)\n",
    "    study.append_run(id=idd,input=inp,runner=code,run_dir=run_dir,\n",
    "            jobname=[idd,'ndb_rim_cutoff','ndb_hf_K','ndb_em1d-ngsblkxp_%s-bndsrnxp_%s'%(NGsBlkXp,BndsRnXp[1])],reformat=False)"
   ]
  },
  {
   "cell_type": "code",
   "execution_count": 40,
   "metadata": {},
   "outputs": [],
   "source": [
    "#study.runs[2]"
   ]
  },
  {
   "cell_type": "code",
   "execution_count": 41,
   "metadata": {},
   "outputs": [
    {
     "name": "stdout",
     "output_type": "stream",
     "text": [
      "Run the selection [0, 1, 2, 3, 4, 5] with the parallel task_groups [[0, 1], [2, 3], [4, 5]] \n",
      "\n",
      "Run the task [0, 1] \n",
      "run command: mpirun -np 32 yambo -F pp-G-RIM_W-randgvecw_2.in -J \"pp-G-RIM_W-randgvecw_2,ndb_rim_cutoff,ndb_hf_G,ndb_em1d-ngsblkxp_8.0-bndsrnxp_500\" -C pp-G-RIM_W-randgvecw_2\n",
      "slurm submit:  cd GW_analysis/kpoints_18-nbnds_500 ; sbatch job_pp-G-RIM_W-randgvecw_2.sh\n",
      "run command: mpirun -np 32 yambo -F pp-K-RIM_W-randgvecw_2.in -J \"pp-K-RIM_W-randgvecw_2,ndb_rim_cutoff,ndb_hf_K,ndb_em1d-ngsblkxp_8.0-bndsrnxp_500\" -C pp-K-RIM_W-randgvecw_2\n",
      "slurm submit:  cd GW_analysis/kpoints_18-nbnds_500 ; sbatch job_pp-K-RIM_W-randgvecw_2.sh\n",
      "computation pp-G-RIM_W-randgvecw_2 is running...computation pp-K-RIM_W-randgvecw_2 is running...\n",
      "\n",
      "computation pp-K-RIM_W-randgvecw_2 ended\n",
      "Run performed in 39m-37s\n",
      "computation pp-G-RIM_W-randgvecw_2 ended\n",
      "Run performed in 39m-41s\n",
      "Task [0, 1] ended \n",
      " \n",
      "Run the task [2, 3] \n",
      "run command: mpirun -np 32 yambo -F pp-G-RIM_W-randgvecw_10.in -J \"pp-G-RIM_W-randgvecw_10,ndb_rim_cutoff,ndb_hf_G,ndb_em1d-ngsblkxp_8.0-bndsrnxp_500\" -C pp-G-RIM_W-randgvecw_10\n",
      "slurm submit:  cd GW_analysis/kpoints_18-nbnds_500 ; sbatch job_pp-G-RIM_W-randgvecw_10.sh\n",
      "run command: mpirun -np 32 yambo -F pp-K-RIM_W-randgvecw_10.in -J \"pp-K-RIM_W-randgvecw_10,ndb_rim_cutoff,ndb_hf_K,ndb_em1d-ngsblkxp_8.0-bndsrnxp_500\" -C pp-K-RIM_W-randgvecw_10\n",
      "slurm submit:  cd GW_analysis/kpoints_18-nbnds_500 ; sbatch job_pp-K-RIM_W-randgvecw_10.sh\n",
      "computation pp-G-RIM_W-randgvecw_10 is running...\n",
      "computation pp-K-RIM_W-randgvecw_10 is running...\n",
      "computation pp-G-RIM_W-randgvecw_10 ended\n",
      "Run performed in 39m-48s\n",
      "computation pp-K-RIM_W-randgvecw_10 ended\n",
      "Run performed in 39m-49s\n",
      "Task [2, 3] ended \n",
      " \n",
      "Run the task [4, 5] \n",
      "run command: mpirun -np 32 yambo -F pp-G-RIM_W-randgvecw_20.in -J \"pp-G-RIM_W-randgvecw_20,ndb_rim_cutoff,ndb_hf_G,ndb_em1d-ngsblkxp_8.0-bndsrnxp_500\" -C pp-G-RIM_W-randgvecw_20\n",
      "slurm submit:  cd GW_analysis/kpoints_18-nbnds_500 ; sbatch job_pp-G-RIM_W-randgvecw_20.sh\n",
      "run command: mpirun -np 32 yambo -F pp-K-RIM_W-randgvecw_20.in -J \"pp-K-RIM_W-randgvecw_20,ndb_rim_cutoff,ndb_hf_K,ndb_em1d-ngsblkxp_8.0-bndsrnxp_500\" -C pp-K-RIM_W-randgvecw_20\n",
      "slurm submit:  cd GW_analysis/kpoints_18-nbnds_500 ; sbatch job_pp-K-RIM_W-randgvecw_20.sh\n",
      "computation pp-G-RIM_W-randgvecw_20 is running...computation pp-K-RIM_W-randgvecw_20 is running...\n",
      "\n",
      "computation pp-K-RIM_W-randgvecw_20 ended\n",
      "Run performed in 40m-07s\n",
      "computation pp-G-RIM_W-randgvecw_20 ended\n",
      "Run performed in 40m-07s\n",
      "Task [4, 5] ended \n",
      " \n"
     ]
    }
   ],
   "source": [
    "results = study.run()"
   ]
  },
  {
   "cell_type": "code",
   "execution_count": 42,
   "metadata": {},
   "outputs": [
    {
     "data": {
      "text/plain": [
       "([0.611059, 0.610923, 0.6106999999999999],\n",
       " [0.20284000000000002, 0.20250400000000002, 0.20238899999999999])"
      ]
     },
     "execution_count": 42,
     "metadata": {},
     "output_type": "execute_result"
    }
   ],
   "source": [
    "results_G, results_K = study.fetch_results(id='-G-'),study.fetch_results(id='-K-')\n",
    "gap_G = [r.data.get_gap(k_full=Gamma_index,band_full=start_band,verbose=False) for r in results_G]\n",
    "gap_K = [r.data.get_gap(k_full=K_index,band_full=start_band,verbose=False) for r in results_K]\n",
    "gap_G,gap_K"
   ]
  },
  {
   "cell_type": "code",
   "execution_count": 43,
   "metadata": {},
   "outputs": [
    {
     "data": {
      "image/png": "[encoded data removed]",
      "text/plain": [
       "<Figure size 864x360 with 2 Axes>"
      ]
     },
     "metadata": {
      "needs_background": "light"
     },
     "output_type": "display_data"
    }
   ],
   "source": [
    "fig, axes = plt.subplots(nrows=1, ncols=2, figsize=(12, 5))\n",
    "axes[0].plot(RandGvecW,gap_G)\n",
    "axes[0].scatter(RandGvecW,gap_G)\n",
    "axes[0].set_title('Gap at Gamma',size=14)\n",
    "axes[0].set_xlabel('RandGvecW',size=14)\n",
    "axes[1].plot(RandGvecW, gap_K)\n",
    "axes[1].scatter(RandGvecW,gap_K)\n",
    "axes[1].set_xlabel('RandGvecW',size=14)\n",
    "axes[1].set_title('Gap at K',size=14)\n",
    "fig.tight_layout()"
   ]
  },
  {
   "cell_type": "markdown",
   "metadata": {},
   "source": [
    "On the basis of this analysis we see that convergence is achieved even for the first case and we set RandGvecW = 10\n",
    "as a safety choice for the converged value for this parameter."
   ]
  },
  {
   "cell_type": "markdown",
   "metadata": {
    "tags": []
   },
   "source": [
    "### PP Analysis in function of the k-points sampling"
   ]
  },
  {
   "cell_type": "markdown",
   "metadata": {},
   "source": [
    "We test the convergence of the PP gap at $K$ and at the $\\Gamma$ points in function of the dimension of the $k$-points sampling.\n",
    "\n",
    "Note that this analysis is performed without the BG terminator, since we have understood that usage of this terminator is not useful and may lead to erroneous results at $\\Gamma$. "
   ]
  },
  {
   "cell_type": "code",
   "execution_count": 4,
   "metadata": {},
   "outputs": [],
   "source": [
    "kpoints = [18,30,72]"
   ]
  },
  {
   "cell_type": "code",
   "execution_count": 11,
   "metadata": {},
   "outputs": [
    {
     "name": "stdout",
     "output_type": "stream",
     "text": [
      "16 4\n",
      "Initialize a Dataset with 1 parallel tasks\n"
     ]
    }
   ],
   "source": [
    "ntasks_c = 16\n",
    "ntasks_v = int(ntasks/ntasks_c)\n",
    "print(ntasks_c,ntasks_v)\n",
    "\n",
    "start_band,stop_band = 28,29\n",
    "Gamma_index = {18:1,30:1,42:1,60:1,72:1}\n",
    "K_index = {18:37,30:91,42:169,60:331,72:469}\n",
    "RandGvec = 200\n",
    "Randqpts = 5e6\n",
    "RandGvecW = 10\n",
    "EXXRLvcs = 60. # Ha\n",
    "EXXRLVcs_units = 'Ha'\n",
    "NGsBlkXp = 8.0 # Ha G size of the response function\n",
    "NGsBlkXp_units = 'Ha'\n",
    "BndsRnXp  = [1,500]# Bands in the response function\n",
    "GbndRnge = [1,500] # Bands in the Sigma_c\n",
    "\n",
    "study = D.Dataset(num_tasks=1,verbose=True)\n",
    "study.set_postprocessing_function(PP.yambo_parse_data)\n",
    "\n",
    "for k in kpoints:\n",
    "    source_dir = 'DFT_analysis/kpoints_%s-nbnds_500.save'%k\n",
    "    run_dir = 'GW_analysis/kpoints_%s-nbnds_500'%k\n",
    "    #Tools.init_yambo_run_dir(Tools.make_p2y(source_dir),run_dir=run_dir)\n",
    "    #Tools.init_yambo_run_dir(Tools.make_p2y(source_dir,\n",
    "    #    p2y_command='mpirun -np 1 p2y'),run_dir=run_dir,yambo_command='mpirun -np 1 yambo')\n",
    "\n",
    "    inp = I.YamboInput(args='mpirun -np 1 yambo -r -k hartee -dyson n -gw0 p -V all',folder=run_dir)\n",
    "    inp.set_extendOut()\n",
    "    inp.activate_RIM_W()\n",
    "    inp.set_array_variables(units=EXXRLVcs_units,EXXRLvcs=EXXRLvcs,VXCRLvcs=EXXRLvcs)\n",
    "    inp.set_bandRange(start_band,stop_band)\n",
    "    inp.set_scalar_variables(CUTGeo='slab z')\n",
    "    inp.set_array_variables(RandQpts=Randqpts)\n",
    "    inp.set_array_variables(units='RL',RandGvec=RandGvec,RandGvecW=RandGvecW)\n",
    "    #inp.set_scalar_variables(GTermKind='BG')\n",
    "    inp.set_bandRange(start_band,stop_band)\n",
    "    inp.set_array_variables(units=NGsBlkXp_units,NGsBlkXp=NGsBlkXp)\n",
    "    inp.set_array_variables(BndsRnXp=BndsRnXp,GbndRnge=GbndRnge)\n",
    "    #inp.set_scalar_variables(SE_ROLEs='q.qp.b',SE_CPU='2.2.16') # for 2 nodes on ismhpc (with 32 mpi and 1 omp per node)\n",
    "    inp.set_scalar_variables(SE_ROLEs='q.qp.b',SE_CPU='2.1.16') # for 8 nodes on m100\n",
    "    inp.set_scalar_variables(X_and_IO_ROLEs='q.g.k.c.v',X_and_IO_CPU='1.1.1.%s.%s'%(ntasks_c,ntasks_v))\n",
    "    inp.set_scalar_variables(DIP_ROLEs='k.c.v',DIP_CPU='1.%s.%s'%(ntasks_c,ntasks_v))\n",
    "    \n",
    "    # append run at G\n",
    "    inp.set_kRange(Gamma_index[k],Gamma_index[k])\n",
    "    idd = 'pp-G-kpoints_%s'%k\n",
    "    jobname = [idd,'ndb_rim_cutoff','ndb_hf_G',\n",
    "               'ndb_em1d-ngsblkxp_%s-bndsrnxp_%s'%(NGsBlkXp,BndsRnXp[1]),'ndb_dipoles-nbnds_500']\n",
    "    study.append_run(id=idd,input=inp,runner=code,run_dir=run_dir,jobname=jobname,reformat=False)\n",
    "    # append run at K\n",
    "    inp.set_kRange(K_index[k],K_index[k])\n",
    "    idd = 'pp-K-kpoints_%s'%k\n",
    "    jobname = [idd,'ndb_rim_cutoff','ndb_hf_K',\n",
    "               'ndb_em1d-ngsblkxp_%s-bndsrnxp_%s'%(NGsBlkXp,BndsRnXp[1]),'ndb_dipoles-nbnds_500']\n",
    "    study.append_run(id=idd,input=inp,runner=code,run_dir=run_dir,jobname=jobname,reformat=False)"
   ]
  },
  {
   "cell_type": "code",
   "execution_count": 12,
   "metadata": {},
   "outputs": [
    {
     "data": {
      "text/plain": [
       "['pp-G-kpoints_18',\n",
       " 'pp-K-kpoints_18',\n",
       " 'pp-G-kpoints_30',\n",
       " 'pp-K-kpoints_30',\n",
       " 'pp-G-kpoints_72',\n",
       " 'pp-K-kpoints_72']"
      ]
     },
     "execution_count": 12,
     "metadata": {},
     "output_type": "execute_result"
    }
   ],
   "source": [
    "study.ids"
   ]
  },
  {
   "cell_type": "code",
   "execution_count": 10,
   "metadata": {},
   "outputs": [],
   "source": [
    "#study.runs[1]"
   ]
  },
  {
   "cell_type": "code",
   "execution_count": 15,
   "metadata": {},
   "outputs": [
    {
     "name": "stdout",
     "output_type": "stream",
     "text": [
      "Run the selection [0, 1, 2, 3, 4, 5] with the parallel task_groups [[0], [1], [2], [3], [4], [5]] \n",
      "\n",
      "Run the task [0] \n",
      "Skip the run of pp-G-kpoints_18\n",
      "Task [0] ended \n",
      " \n",
      "Run the task [1] \n",
      "Skip the run of pp-K-kpoints_18\n",
      "Task [1] ended \n",
      " \n",
      "Run the task [2] \n",
      "Skip the run of pp-G-kpoints_30\n",
      "Task [2] ended \n",
      " \n",
      "Run the task [3] \n",
      "Skip the run of pp-K-kpoints_30\n",
      "Task [3] ended \n",
      " \n",
      "Run the task [4] \n",
      "Skip the run of pp-G-kpoints_72\n",
      "Task [4] ended \n",
      " \n",
      "Run the task [5] \n",
      "Skip the run of pp-K-kpoints_72\n",
      "Task [5] ended \n",
      " \n"
     ]
    }
   ],
   "source": [
    "results = study.run()"
   ]
  },
  {
   "cell_type": "code",
   "execution_count": 16,
   "metadata": {},
   "outputs": [
    {
     "data": {
      "text/plain": [
       "([0.5761360000000001, 0.60735, 0.630469],\n",
       " [0.20417100000000005, 0.183747, 0.17568399999999995])"
      ]
     },
     "execution_count": 16,
     "metadata": {},
     "output_type": "execute_result"
    }
   ],
   "source": [
    "results_G, results_K = study.fetch_results(id='-G-'),study.fetch_results(id='-K-')\n",
    "gap_G,gap_K = [],[]\n",
    "for ind,k in enumerate(kpoints):\n",
    "    gap_G.append(results_G[ind].data.get_gap(k_full=Gamma_index[k],band_full=start_band,verbose=False))\n",
    "    gap_K.append(results_K[ind].data.get_gap(k_full=K_index[k],band_full=start_band,verbose=False))\n",
    "gap_G,gap_K"
   ]
  },
  {
   "cell_type": "code",
   "execution_count": 17,
   "metadata": {},
   "outputs": [
    {
     "data": {
      "image/png": "[encoded data removed]",
      "text/plain": [
       "<Figure size 864x360 with 2 Axes>"
      ]
     },
     "metadata": {
      "needs_background": "light"
     },
     "output_type": "display_data"
    }
   ],
   "source": [
    "fig, axes = plt.subplots(nrows=1, ncols=2, figsize=(12, 5))\n",
    "axes[0].plot(kpoints,gap_G)\n",
    "axes[0].scatter(kpoints,gap_G)\n",
    "axes[0].set_title('Gap at Gamma',size=14)\n",
    "axes[0].set_xlabel('k-sampling',size=14)\n",
    "axes[1].plot(kpoints, gap_K)\n",
    "axes[1].scatter(kpoints,gap_K)\n",
    "axes[1].set_xlabel('k-sampling',size=14)\n",
    "axes[1].set_title('Gap at K',size=14)\n",
    "fig.tight_layout()"
   ]
  },
  {
   "cell_type": "markdown",
   "metadata": {},
   "source": [
    "We conclude that the value\n",
    "$$\n",
    "E_{gap} = 176 meV\n",
    "$$\n",
    "is the best estimate of the gap of the Stanene at K"
   ]
  },
  {
   "cell_type": "code",
   "execution_count": null,
   "metadata": {},
   "outputs": [],
   "source": []
  },
  {
   "cell_type": "code",
   "execution_count": null,
   "metadata": {},
   "outputs": [],
   "source": []
  },
  {
   "cell_type": "code",
   "execution_count": null,
   "metadata": {},
   "outputs": [],
   "source": []
  },
  {
   "cell_type": "code",
   "execution_count": null,
   "metadata": {},
   "outputs": [],
   "source": []
  },
  {
   "cell_type": "code",
   "execution_count": null,
   "metadata": {},
   "outputs": [],
   "source": [
    "#################################################################################################################à"
   ]
  },
  {
   "cell_type": "markdown",
   "metadata": {
    "tags": []
   },
   "source": [
    "## Quasi-particle band structure"
   ]
  },
  {
   "cell_type": "markdown",
   "metadata": {},
   "source": [
    "We use the convergence test performed above to computed the GW correction in the whole BZ. \n",
    "In this way we can compute the quasi-particle correction of the band structure.\n",
    "\n",
    "At this level of the analysis we perform these computations for 18x18x1 and 30x30x1 $k$-points samplings."
   ]
  },
  {
   "cell_type": "code",
   "execution_count": 54,
   "metadata": {},
   "outputs": [],
   "source": [
    "kpoints = 72\n",
    "run_dir = 'GW_analysis/kpoints_%s-nbnds_500'%kpoints"
   ]
  },
  {
   "cell_type": "code",
   "execution_count": 55,
   "metadata": {},
   "outputs": [
    {
     "name": "stdout",
     "output_type": "stream",
     "text": [
      "32 2\n"
     ]
    },
    {
     "data": {
      "text/plain": [
       "{'args': 'mpirun -np 1 yambo -r -k hartee -dyson n -gw0 p -V all',\n",
       " 'folder': 'GW_analysis/kpoints_72-nbnds_500',\n",
       " 'filename': 'yambo.in',\n",
       " 'arguments': ['rim_cut',\n",
       "  'em1d',\n",
       "  'gw0',\n",
       "  'HF_and_locXC',\n",
       "  'ppa',\n",
       "  'ExtendOut',\n",
       "  'RIM_W'],\n",
       " 'variables': {'StdoHash': [40.0, ''],\n",
       "  'Nelectro': [28.0, ''],\n",
       "  'ElecTemp': [0.0, 'eV'],\n",
       "  'BoseTemp': [-1.0, 'eV'],\n",
       "  'OccTresh': [1e-05, ''],\n",
       "  'NLogCPUs': [0.0, ''],\n",
       "  'MEM_tresh': [51200.0, 'Kb'],\n",
       "  'FFTGvecs': [23661.0, 'RL'],\n",
       "  'X_and_IO_nCPU_LinAlg_INV': [-1.0, ''],\n",
       "  'X_Threads': [0.0, ''],\n",
       "  'DIP_Threads': [0.0, ''],\n",
       "  'SE_Threads': [0.0, ''],\n",
       "  'RandQpts': [5000000.0, ''],\n",
       "  'RandGvec': [200, 'RL'],\n",
       "  'IDEm1Ref': [0.0, ''],\n",
       "  'CUTRadius': [0.0, ''],\n",
       "  'CUTCylLen': [0.0, ''],\n",
       "  'CUTwsGvec': [0.7, ''],\n",
       "  'EXXRLvcs': [60.0, 'Ha'],\n",
       "  'VXCRLvcs': [60.0, 'Ha'],\n",
       "  'XfnQP_INTERP_NN': [1.0, ''],\n",
       "  'XfnQP_INTERP_shells': [20.0, ''],\n",
       "  'XfnQP_Wv_E': [0.0, 'eV'],\n",
       "  'XfnQP_Wv_dos': [0.0, 'eV'],\n",
       "  'XfnQP_Wc_E': [0.0, 'eV'],\n",
       "  'XfnQP_Wc_dos': [0.0, 'eV'],\n",
       "  'NGsBlkXp': [8.0, 'Ha'],\n",
       "  'CGrdSpXp': [100.0, ''],\n",
       "  'PPAPntXp': [27.21138, 'eV'],\n",
       "  'XTermEn': [40.0, 'eV'],\n",
       "  'GfnQP_INTERP_NN': [1.0, ''],\n",
       "  'GfnQP_INTERP_shells': [20.0, ''],\n",
       "  'GfnQP_Wv_E': [0.0, 'eV'],\n",
       "  'GfnQP_Wv_dos': [0.0, 'eV'],\n",
       "  'GfnQP_Wc_E': [0.0, 'eV'],\n",
       "  'GfnQP_Wc_dos': [0.0, 'eV'],\n",
       "  'BoseCut': [0.1, ''],\n",
       "  'GDamping': [0.1, 'eV'],\n",
       "  'dScStep': [0.1, 'eV'],\n",
       "  'GTermEn': [40.81708, 'eV'],\n",
       "  'GWoIter': [0.0, ''],\n",
       "  'GWIter': [0.0, ''],\n",
       "  'SCEtresh': [0.01, 'eV'],\n",
       "  'DBsIOoff': 'none',\n",
       "  'DBsFRAGpm': 'none',\n",
       "  'PAR_def_mode': 'balanced',\n",
       "  'CUTGeo': 'slab z',\n",
       "  'Chimod': 'HARTREE',\n",
       "  'ChiLinAlgMod': 'LIN_SYS',\n",
       "  'XfnQPdb': 'none',\n",
       "  'XfnQP_DbGd_INTERP_mode': 'NN',\n",
       "  'XTermKind': 'none',\n",
       "  'kind': 'BG',\n",
       "  'GfnQPdb': 'none',\n",
       "  'GfnQP_DbGd_INTERP_mode': 'NN',\n",
       "  'GTermKind': 'BG',\n",
       "  'DysSolver': 'n',\n",
       "  'XfnQP_Z': [(1+0j), ''],\n",
       "  'GfnQP_Z': [(1+0j), ''],\n",
       "  'Em1Anys': [[0.0, 0.0, 0.0], ''],\n",
       "  'CUTBox': [[0.0, 0.0, 0.0], ''],\n",
       "  'XfnQP_E': [[0.0, 1.0, 1.0], ''],\n",
       "  'XfnQP_Wv': [[0.0, 0.0, 0.0], ''],\n",
       "  'XfnQP_Wc': [[0.0, 0.0, 0.0], ''],\n",
       "  'QpntsRXp': [[1, 469], ''],\n",
       "  'BndsRnXp': [[1, 500], ''],\n",
       "  'EhEngyXp': [['-1.000000', '-1.000000'], 'eV'],\n",
       "  'LongDrXp': [[1.0, 0.0, 0.0], ''],\n",
       "  'GfnQP_E': [[0.0, 1.0, 1.0], ''],\n",
       "  'GfnQP_Wv': [[0.0, 0.0, 0.0], ''],\n",
       "  'GfnQP_Wc': [[0.0, 0.0, 0.0], ''],\n",
       "  'GbndRnge': [[1, 500], ''],\n",
       "  'QPkrange': [[1, 469, 25, 32], ''],\n",
       "  'QPerange': [[1, 469, 0.0, '-1.000000'], ''],\n",
       "  'RandGvecW': [10, 'RL'],\n",
       "  'SE_ROLEs': 'q.qp.b',\n",
       "  'SE_CPU': '2.2.16',\n",
       "  'X_and_IO_ROLEs': 'q.g.k.c.v',\n",
       "  'X_and_IO_CPU': '1.1.1.32.2',\n",
       "  'DIP_ROLEs': 'k.c.v',\n",
       "  'DIP_CPU': '1.32.2'}}"
      ]
     },
     "execution_count": 55,
     "metadata": {},
     "output_type": "execute_result"
    }
   ],
   "source": [
    "ntasks_c = 32\n",
    "ntasks_v = int(ntasks/ntasks_c)\n",
    "print(ntasks_c,ntasks_v)\n",
    "\n",
    "start_band,stop_band = 25,32\n",
    "RandGvec = 200\n",
    "Randqpts = 5e6\n",
    "RandGvecW = 10\n",
    "EXXRLvcs = 60. # Ha\n",
    "EXXRLVcs_units = 'Ha'\n",
    "NGsBlkXp = 8.0 # Ha G size of the response function\n",
    "NGsBlkXp_units = 'Ha'\n",
    "BndsRnXp  = [1,500]# Bands in the response function\n",
    "GbndRnge = [1,500] # Bands in the Sigma_c\n",
    "\n",
    "inp = I.YamboInput(args='mpirun -np 1 yambo -r -k hartee -dyson n -gw0 p -V all',folder=run_dir)\n",
    "inp.set_extendOut()\n",
    "inp.activate_RIM_W()\n",
    "inp.set_array_variables(units=EXXRLVcs_units,EXXRLvcs=EXXRLvcs,VXCRLvcs=EXXRLvcs)\n",
    "inp.set_bandRange(start_band,stop_band)\n",
    "inp.set_scalar_variables(CUTGeo='slab z')\n",
    "inp.set_array_variables(RandQpts=Randqpts)\n",
    "inp.set_array_variables(units='RL',RandGvec=RandGvec,RandGvecW=RandGvecW)\n",
    "inp.set_bandRange(start_band,stop_band)\n",
    "inp.set_array_variables(units=NGsBlkXp_units,NGsBlkXp=NGsBlkXp)\n",
    "inp.set_array_variables(BndsRnXp=BndsRnXp,GbndRnge=GbndRnge)\n",
    "inp.set_scalar_variables(SE_ROLEs='q.qp.b',SE_CPU='2.2.16') # for 16 nodes on m100\n",
    "inp.set_scalar_variables(X_and_IO_ROLEs='q.g.k.c.v',X_and_IO_CPU='1.1.1.%s.%s'%(ntasks_c,ntasks_v))\n",
    "inp.set_scalar_variables(DIP_ROLEs='k.c.v',DIP_CPU='1.%s.%s'%(ntasks_c,ntasks_v))\n",
    "inp"
   ]
  },
  {
   "cell_type": "code",
   "execution_count": null,
   "metadata": {},
   "outputs": [
    {
     "name": "stdout",
     "output_type": "stream",
     "text": [
      "delete job_out script: GW_analysis/kpoints_72-nbnds_500/job_pp-allBZ-ngsblkxp_8.0-bndsrnxp_500-gbndrnge_500.out\n",
      "run command: mpirun -np 64 --map-by socket:PE=8 --rank-by core yambo -F pp-allBZ-ngsblkxp_8.0-bndsrnxp_500-gbndrnge_500.in -J \"pp-allBZ-ngsblkxp_8.0-bndsrnxp_500-gbndrnge_500,ndb_rim_cutoff,ndb_em1d-ngsblkxp_8.0-bndsrnxp_500,ndb_dipoles-nbnds_500,ndb_hf_allBZ\" -C pp-allBZ-ngsblkxp_8.0-bndsrnxp_500-gbndrnge_500\n",
      "slurm submit:  cd GW_analysis/kpoints_72-nbnds_500 ; sbatch job_pp-allBZ-ngsblkxp_8.0-bndsrnxp_500-gbndrnge_500.sh\n",
      "computation pp-allBZ-ngsblkxp_8.0-bndsrnxp_500-gbndrnge_500 is running...\n"
     ]
    }
   ],
   "source": [
    "idd = 'pp-allBZ-ngsblkxp_%s-bndsrnxp_%s-gbndrnge_%s'%(NGsBlkXp,BndsRnXp[1],GbndRnge[1])\n",
    "jobname = [idd,'ndb_rim_cutoff','ndb_em1d-ngsblkxp_%s-bndsrnxp_%s'%(NGsBlkXp,BndsRnXp[1]),\n",
    "           'ndb_dipoles-nbnds_500','ndb_hf_allBZ']\n",
    "results = code.run(input=inp,run_dir=run_dir,name=idd,jobname=jobname,reformat=False)"
   ]
  },
  {
   "cell_type": "markdown",
   "metadata": {
    "tags": []
   },
   "source": [
    "### Ypp analysis"
   ]
  },
  {
   "cell_type": "markdown",
   "metadata": {},
   "source": [
    "We use the previous results to compute the GW correction of the band structure along a high symmetry path."
   ]
  },
  {
   "cell_type": "code",
   "execution_count": 88,
   "metadata": {},
   "outputs": [
    {
     "name": "stdout",
     "output_type": "stream",
     "text": [
      "Initialize a Yambo calculator with scheduler slurm\n"
     ]
    }
   ],
   "source": [
    "# RunRules for ismhpc\n",
    "# The product of ntasks_per_node*cpus_per_task is equal to 32. \n",
    "# Many mpi are needed for better performances\n",
    "nodes = 1\n",
    "ntasks_per_node = 16\n",
    "cpus_per_task=2\n",
    "omp_num_threads=2\n",
    "\n",
    "ntasks = nodes*ntasks_per_node\n",
    "\n",
    "rr = C.RunRules(scheduler='slurm',partition='all12h', #fastnodes\n",
    "                memory='124000',\n",
    "                nodes=nodes,ntasks_per_node=ntasks_per_node,\n",
    "                cpus_per_task=cpus_per_task,\n",
    "                omp_num_threads=omp_num_threads)\n",
    "ypp_code = C.YamboCalculator(rr,executable='ypp',activate_BeeOND=True) \n",
    "#ypp_code.global_options()"
   ]
  },
  {
   "cell_type": "code",
   "execution_count": 89,
   "metadata": {},
   "outputs": [],
   "source": [
    "ndbQP = 'pp-allBZ-ngsblkxp_6.0-bndsrnxp_250-gbndrnge_250/ndb.QP'"
   ]
  },
  {
   "cell_type": "code",
   "execution_count": 90,
   "metadata": {},
   "outputs": [
    {
     "name": "stdout",
     "output_type": "stream",
     "text": [
      "Initialize a Dataset with 2 parallel tasks\n"
     ]
    }
   ],
   "source": [
    "# with BANDS_kpts\n",
    "\n",
    "band_range = [start_band,stop_band]\n",
    "bands_step = 50\n",
    "\n",
    "# in crystal coordinates\n",
    "G = [0.,0.,0.]\n",
    "Kp = [1./3.,1./3.,0.]\n",
    "Mp = [0.,0.5,0.]\n",
    "high_sym = {'G':G,'K':Kp,'M':Mp} # useful to label the high-sym point on the path\n",
    "path = [G,Mp,Kp,G]\n",
    "\n",
    "study = D.Dataset(run_dir=run_dir,num_tasks=2,verbose=True)\n",
    "\n",
    "inp = I.YamboInput(args='mpirun -np 1 ypp -s b -V qp',folder=run_dir,filename='ypp.in')\n",
    "inp.set_array_variables(BANDS_bands=band_range,BANDS_steps=bands_step,BANDS_kpts=path)\n",
    "inp.set_array_variables(GfnQP_E=GfnQP_E[k])\n",
    "inp.set_scalar_variables(cooIn='rlu',cooOut='rlu')\n",
    "\n",
    "idd = 'ypp_bands_dft_boltz'\n",
    "inp['variables']['INTERP_mode'] = 'BOLTZ'\n",
    "inp['variables']['INTERP_Shell_Fac'] = [20,'']\n",
    "inp['variables']['GfnQP_DbGd_INTERP_mode'] = 'BOLTZ'\n",
    "inp['variables']['GfnQP_INTERP_shells'] = [20,'']\n",
    "study.append_run(id=idd,input=inp,runner=ypp_code) \n",
    "\n",
    "idd = 'ypp_bands_gw_boltz'\n",
    "inp['variables']['INTERP_mode'] = 'BOLTZ'\n",
    "inp['variables']['INTERP_Shell_Fac'] = [10,'']\n",
    "inp['variables']['GfnQP_DbGd_INTERP_mode'] = 'BOLTZ'\n",
    "inp['variables']['GfnQP_INTERP_shells'] = [10,'']\n",
    "inp['variables']['GfnQPdb']= 'E < %s'%ndbQP\n",
    "study.append_run(id=idd,input=inp,runner=ypp_code)"
   ]
  },
  {
   "cell_type": "code",
   "execution_count": 91,
   "metadata": {},
   "outputs": [],
   "source": [
    "#study.runs[1]"
   ]
  },
  {
   "cell_type": "code",
   "execution_count": 92,
   "metadata": {},
   "outputs": [
    {
     "name": "stdout",
     "output_type": "stream",
     "text": [
      "Run the selection [0, 1] with the parallel task_groups [[0, 1]] \n",
      "\n",
      "Run the task [0, 1] \n",
      "run command: mpirun -np 16 ypp -F ypp_bands_gw_boltz.in -J ypp_bands_gw_boltz -C ypp_bands_gw_boltz\n",
      "slurm submit:  cd GW_analysis/kpoints_30-nbnds_250 ; sbatch job_ypp_bands_gw_boltz.sh\n",
      "computation ypp_bands_gw_boltz is running...\n",
      "run command: mpirun -np 16 ypp -F ypp_bands_dft_boltz.in -J ypp_bands_dft_boltz -C ypp_bands_dft_boltz\n",
      "slurm submit:  cd GW_analysis/kpoints_30-nbnds_250 ; sbatch job_ypp_bands_dft_boltz.sh\n",
      "computation ypp_bands_dft_boltz is running...\n",
      "computation ypp_bands_dft_boltz ended\n",
      "Run performed in 10s\n",
      "computation ypp_bands_gw_boltz ended\n",
      "Run performed in 11s\n",
      "Task [0, 1] ended \n",
      " \n"
     ]
    }
   ],
   "source": [
    "results = study.run()"
   ]
  },
  {
   "cell_type": "code",
   "execution_count": 93,
   "metadata": {},
   "outputs": [],
   "source": [
    "bands_gw = U.BandStructure.from_Ypp(results[1],high_sym,suffix='bands_interpolated')\n",
    "bands_dft = U.BandStructure.from_Ypp(results[0],high_sym,suffix='bands_interpolated')"
   ]
  },
  {
   "cell_type": "markdown",
   "metadata": {},
   "source": [
    "We show the GW correction for the valence and conduction bands"
   ]
  },
  {
   "cell_type": "code",
   "execution_count": 86,
   "metadata": {},
   "outputs": [
    {
     "data": {
      "text/plain": [
       "Text(0.5, 1.0, 'MoS$_2$ GW bands')"
      ]
     },
     "execution_count": 86,
     "metadata": {},
     "output_type": "execute_result"
    },
    {
     "data": {
      "image/png": "[encoded data removed]",
      "text/plain": [
       "<Figure size 864x648 with 1 Axes>"
      ]
     },
     "metadata": {
      "needs_background": "light"
     },
     "output_type": "display_data"
    }
   ],
   "source": [
    "# Results for the 18x18x1 kpoints sampling \n",
    "\n",
    "fig, ax = plt.subplots(figsize=(12, 9))\n",
    "bands_dft.plot(plt,selection=[2,3,4,5],linestyle='--',label='dft')\n",
    "bands_gw.plot(plt,selection=[2,3,4,5],linestyle='-',label='gw')\n",
    "ax.set_ylabel('Energy (eV)',size=16)\n",
    "plt.title('MoS$_2$ GW bands',size=16)"
   ]
  },
  {
   "cell_type": "code",
   "execution_count": null,
   "metadata": {},
   "outputs": [],
   "source": []
  },
  {
   "cell_type": "code",
   "execution_count": null,
   "metadata": {},
   "outputs": [],
   "source": []
  },
  {
   "cell_type": "code",
   "execution_count": null,
   "metadata": {},
   "outputs": [],
   "source": []
  }
 ],
 "metadata": {
  "kernelspec": {
   "display_name": "Python 3 (ipykernel)",
   "language": "python",
   "name": "python3"
  },
  "language_info": {
   "codemirror_mode": {
    "name": "ipython",
    "version": 3
   },
   "file_extension": ".py",
   "mimetype": "text/x-python",
   "name": "python",
   "nbconvert_exporter": "python",
   "pygments_lexer": "ipython3",
   "version": "3.8.2"
  }
 },
 "nbformat": 4,
 "nbformat_minor": 4
}

{
 "cells": [
  {
   "cell_type": "code",
   "execution_count": 1,
   "id": "d8b8903f-2a56-45a5-a627-8c078b29beca",
   "metadata": {},
   "outputs": [],
   "source": [
    "# useful to autoreload the module without restarting the kernel\n",
    "%load_ext autoreload\n",
    "%autoreload 2"
   ]
  },
  {
   "cell_type": "code",
   "execution_count": 2,
   "id": "440aebbe-cc91-4c16-8588-1a8971fa4832",
   "metadata": {},
   "outputs": [],
   "source": [
    "from mppi import InputFiles as I, Calculators as C, Datasets as D, Parsers as P, Utilities as U\n",
    "from mppi.Calculators import Tools\n",
    "from mppi.Datasets import PostProcessing as PP\n",
    "from mppi.Utilities import Constants as Const\n",
    "from mppi.Utilities import LatticeUtils as LL\n",
    "import matplotlib.pyplot as plt\n",
    "import numpy as np\n",
    "import os, yaml"
   ]
  },
  {
   "cell_type": "code",
   "execution_count": null,
   "id": "9b7d01c3-2faf-48cc-b9c3-1fd813e9a965",
   "metadata": {},
   "outputs": [],
   "source": [
    "# RunRules for local computations\n",
    "mpi = 4\n",
    "omp = 2\n",
    "\n",
    "rr = C.RunRules(omp_num_threads=omp,mpi=mpi)\n",
    "code = C.QeCalculator(rr)\n",
    "code.global_options()"
   ]
  },
  {
   "cell_type": "code",
   "execution_count": 3,
   "id": "7f849d39-dc30-4225-abf0-ef50b8eced86",
   "metadata": {},
   "outputs": [
    {
     "name": "stdout",
     "output_type": "stream",
     "text": [
      "Initialize a QuantumESPRESSO calculator with scheduler slurm\n"
     ]
    },
    {
     "data": {
      "text/plain": [
       "{'scheduler': 'slurm',\n",
       " 'nodes': 1,\n",
       " 'ntasks_per_node': 16,\n",
       " 'cpus_per_task': 2,\n",
       " 'omp_num_threads': 2,\n",
       " 'gpus_per_node': None,\n",
       " 'memory': '125000',\n",
       " 'time': None,\n",
       " 'partition': 'all12h',\n",
       " 'account': None,\n",
       " 'qos': None,\n",
       " 'map_by': None,\n",
       " 'pe': 1,\n",
       " 'rank_by': None,\n",
       " 'executable': 'pw.x',\n",
       " 'skip': True,\n",
       " 'clean_restart': True,\n",
       " 'dry_run': False,\n",
       " 'wait_end_run': True,\n",
       " 'activate_BeeOND': True,\n",
       " 'verbose': True}"
      ]
     },
     "execution_count": 3,
     "metadata": {},
     "output_type": "execute_result"
    }
   ],
   "source": [
    "# RunRules for ismhpc\n",
    "# The product of ntasks_per_node*cpus_per_task is equal to 32. \n",
    "# Many mpi are needed for better performances\n",
    "nodes = 1\n",
    "ntasks_per_node = 16\n",
    "cpus_per_task=2\n",
    "omp_num_threads=2\n",
    "\n",
    "ntasks = nodes*ntasks_per_node\n",
    "\n",
    "rr = C.RunRules(scheduler='slurm',partition='all12h',\n",
    "                memory='125000',nodes=nodes,ntasks_per_node=ntasks_per_node,\n",
    "                cpus_per_task=cpus_per_task,\n",
    "                omp_num_threads=omp_num_threads)\n",
    "code = C.QeCalculator(rr,activate_BeeOND=True) #,skip=False,clean_restart=False\n",
    "code.global_options()"
   ]
  },
  {
   "cell_type": "code",
   "execution_count": null,
   "id": "61f8944e-574e-4361-a69e-479c12943f5b",
   "metadata": {},
   "outputs": [],
   "source": [
    "# RunRules for m100\n",
    "nodes = 1\n",
    "ntasks_per_node = 4\n",
    "cpus_per_task=32\n",
    "omp_num_threads=8\n",
    "gpus_per_node=4\n",
    "pe=8\n",
    "\n",
    "ntasks = nodes*ntasks_per_node\n",
    "\n",
    "rr = C.RunRules(scheduler='slurm',partition='m100_usr_prod',\n",
    "                account='IscrC_PrExIn',\n",
    "                memory='120GB',time='23:59:00',\n",
    "                nodes=nodes,ntasks_per_node=ntasks_per_node,\n",
    "                cpus_per_task=cpus_per_task,omp_num_threads=omp_num_threads,\n",
    "                gpus_per_node=gpus_per_node,pe=pe,\n",
    "                map_by='socket',rank_by='core')\n",
    "code = C.QeCalculator(rr)\n",
    "code.global_options()"
   ]
  },
  {
   "cell_type": "markdown",
   "id": "d8d8a42a-0211-4695-a820-1f029cb9ec8e",
   "metadata": {
    "tags": []
   },
   "source": [
    "# DFT analysis of the Stanene monolayer"
   ]
  },
  {
   "cell_type": "markdown",
   "id": "5f5ace36-aff8-457a-847a-cdf1650ef4c7",
   "metadata": {},
   "source": [
    "This notebook contains the DFT analysis of the 2D Stanene monolayer performed with QuantumESPRESSO.\n",
    "\n",
    "We make usage of ONCV pseudopotential (without NLCC) which is fully compatible with Yambo"
   ]
  },
  {
   "cell_type": "markdown",
   "id": "4aeac944-6800-4bc9-87b7-9b57951b462f",
   "metadata": {
    "tags": []
   },
   "source": [
    "## Lattice properties and atomic positions"
   ]
  },
  {
   "cell_type": "markdown",
   "id": "80069ccb-13d8-4c84-8b18-84b2a334b3ed",
   "metadata": {},
   "source": [
    "We use the lattice configuration adopted by QuantumESPRESSO in the ibrav=4 case.\n",
    "\n",
    "The basis vector of the (direct) lattice are defined as\n",
    "$$\n",
    "a_1 = a_{lat}(1,0,0) \\, ,\\quad a_2 = a_{lat}(\\frac{-1}{2},\\frac{\\sqrt{3}}{2},0) \\, ,\\quad\n",
    "a_3 = a_{lat}(0,0,\\frac{c}{a_{lat}})\n",
    "$$\n",
    "so that $c$ vacuum space between two replica of the sheets, expressed in the same units as $a_{lat}$.\n",
    "We also observe that $\\textrm{celldm(3)}=c/a_{lat}$, so it expresses the vacuum distance in terms of \n",
    "$a_{lat}$."
   ]
  },
  {
   "cell_type": "markdown",
   "id": "957fc0a3-57c6-4f4c-aeeb-82555dceaf13",
   "metadata": {},
   "source": [
    "The cartesian component of the reciprocal lattice vectors (in units of $2\\pi/a_{alat}$) are given by:\n",
    "\n",
    "$$\n",
    "b_1 = (1,\\frac{1}{\\sqrt{3}}) \\, ,\\quad b_2 = (0,\\frac{2}{\\sqrt{3}},0) \\, ,\\quad\n",
    "b_3 = (0,0,\\frac{a}{c})\n",
    "$$\n",
    "The reciprocal vectors have module $2/\\sqrt{3}$.\n",
    "\n",
    "The cartesian coordinates of the high symmetry points of the reciprocal lattice (in units of $2\\pi/a_{alat}$) \n",
    "can be determined by performing the construction of the Brillouin zone: we find the points on at the half of\n",
    "the $b_1$ and $b_2$ vectors and build the path moving perpendicularly to the basis vector directions.\n",
    "The $M$ point (at the middle of the hexagon face) and the $K$ point (the edge point) are given by:\n",
    "$$\n",
    "M = (\\frac{1}{2},\\frac{1}{2\\sqrt{3}}) \\, \\quad\n",
    "K = (\\frac{2}{3},0) \n",
    "$$\n",
    "Moreover we write the coordinates of the symmetry related K' point (which corresponds to another edge of the hexagon)\n",
    "and M' point (middle point of the top edge of the hexagon): \n",
    "$$\n",
    "K' = (\\frac{1}{3},\\frac{1}{\\sqrt{3}}) \\, \\quad\n",
    "M' = (0,\\frac{1}{\\sqrt{3}}) \n",
    "$$\n",
    "These points, together with $\\Gamma$ define the IBZ edges in the representation of QuantumESPRESSO."
   ]
  },
  {
   "cell_type": "markdown",
   "id": "c11e34ba-0713-4673-be7e-2cff43978c98",
   "metadata": {},
   "source": [
    "In cartesian coordinates the atomic positions read\n",
    "$$\n",
    "Sn_1 = a_{lat}(0,\\frac{1}{\\sqrt{3}},\\delta) \\, \\qquad Sn_2 = a_{lat}(\\frac{1}{2},\\frac{1}{2\\sqrt{3}},-\\delta)\n",
    "$$\n",
    "where $\\delta$ is the buckling of the Sn atoms in units of $a_{lat}$."
   ]
  },
  {
   "cell_type": "markdown",
   "id": "db4df15b-6ebf-48cc-9f80-00fb6507f1c8",
   "metadata": {
    "tags": []
   },
   "source": [
    "## GS Analysis"
   ]
  },
  {
   "cell_type": "markdown",
   "id": "4d98cc92-4e9d-473c-b629-0780ff1b03d5",
   "metadata": {},
   "source": [
    "We analyze the electronic configuration of the GS.\n",
    "\n",
    "We use the converged configuration achieved with the PAW pseudo as starting \n",
    "point for the analysis with the ONCV one."
   ]
  },
  {
   "cell_type": "code",
   "execution_count": 4,
   "id": "b93d8439-eafd-4cb6-8ebb-51b3f3daef54",
   "metadata": {},
   "outputs": [
    {
     "data": {
      "text/plain": [
       "{'control': {'calculation': \"'scf'\",\n",
       "  'verbosity': \"'high'\",\n",
       "  'prefix': \"'pwscf'\",\n",
       "  'outdir': \"'./'\",\n",
       "  'pseudo_dir': \"'../pseudos'\"},\n",
       " 'system': {'force_symmorphic': '.true.',\n",
       "  'nbnd': 30,\n",
       "  'lspinorb': '.true.',\n",
       "  'noncolin': '.true.',\n",
       "  'ntyp': '1',\n",
       "  'nat': '2',\n",
       "  'ibrav': 4,\n",
       "  'celldm(1)': 8.83641018,\n",
       "  'celldm(3)': 2.8292032047792515,\n",
       "  'ecutwfc': 80},\n",
       " 'electrons': {'diago_full_acc': '.false.', 'conv_thr': 1e-06},\n",
       " 'ions': {},\n",
       " 'cell': {},\n",
       " 'atomic_species': {'Sn': [118.71, 'Sn_ONCV_PBE_FR-1.1.upf']},\n",
       " 'atomic_positions': {'type': 'alat',\n",
       "  'values': [['Sn', array([0.        , 0.57735027, 0.09148726])],\n",
       "   ['Sn', array([ 0.5       ,  0.28867513, -0.09148726])]]},\n",
       " 'kpoints': {'type': 'automatic', 'values': ([15, 15, 1], [0.0, 0.0, 0.0])},\n",
       " 'cell_parameters': {}}"
      ]
     },
     "execution_count": 4,
     "metadata": {},
     "output_type": "execute_result"
    }
   ],
   "source": [
    "run_dir = 'DFT_analysis-ONCV'\n",
    "pseudo_dir = '../pseudos'\n",
    "Sn_pseudo = 'Sn_ONCV_PBE_FR-1.1.upf'\n",
    "\n",
    "alat_0 =  8.83641018 # in a.u. (Bohr)\n",
    "delta_0 = 0.09148726 # in units of alat\n",
    "c_0 = 25.0 # vacuum distance in a.u. \n",
    "\n",
    "ecut_0 = 80 # energy cutoff on the wavefunction (Ry)\n",
    "kpoints_0 = [15,15,1]\n",
    "\n",
    "Sn1 = np.array([0,1./np.sqrt(3.),delta_0])\n",
    "Sn2 = np.array([1./2.,1./(2*np.sqrt(3.)),-delta_0])\n",
    "\n",
    "inp = I.PwInput()\n",
    "inp.set_scf(force_symmorphic=True,conv_thr=1e-6)\n",
    "inp.set_num_bnds(30)\n",
    "inp.set_pseudo_dir(pseudo_dir=pseudo_dir)\n",
    "inp.set_spinorbit()\n",
    "inp.add_atom(atom='Sn',pseudo_name=Sn_pseudo,mass=118.71)\n",
    "inp.set_atoms_number(2)\n",
    "inp.set_atomic_positions([['Sn',Sn1],['Sn',Sn2]],type='alat')\n",
    "inp.set_lattice(ibrav=4,celldm1=alat_0,celldm3=c_0/alat_0)\n",
    "inp.set_energy_cutoff(ecut_0)\n",
    "inp.set_kpoints(type='automatic',points=kpoints_0)\n",
    "inp"
   ]
  },
  {
   "cell_type": "markdown",
   "id": "d8be0578-026d-48ae-a30f-b603fa6c17fe",
   "metadata": {},
   "source": [
    "Then we perform the convergence analysis on the various parameters."
   ]
  },
  {
   "cell_type": "markdown",
   "id": "f9c97d47-2980-4050-a43c-1148376638f9",
   "metadata": {
    "tags": []
   },
   "source": [
    "### Calculation of the equilibrium lattice constants and buckling parameter"
   ]
  },
  {
   "cell_type": "markdown",
   "id": "cfc64b3f-8eee-47ac-aa9c-7272ae75f61f",
   "metadata": {},
   "source": [
    "We determine the equiblrium values of the lattice constant and of the buckling parameter by minimizing\n",
    "the GS energy.\n",
    "\n",
    "In this case we converge the alat and delta parameters one by one"
   ]
  },
  {
   "cell_type": "code",
   "execution_count": 15,
   "id": "466da2f0-eea7-42c0-ad26-06dc72b47aa5",
   "metadata": {},
   "outputs": [
    {
     "data": {
      "text/plain": [
       "array([-3., -2., -1.,  0.,  1.])"
      ]
     },
     "execution_count": 15,
     "metadata": {},
     "output_type": "execute_result"
    }
   ],
   "source": [
    "alat_span = np.linspace(-3,1,5) #7\n",
    "alat_span"
   ]
  },
  {
   "cell_type": "code",
   "execution_count": 25,
   "id": "c9821efe-04fa-4a42-9fb0-74aad29f96b6",
   "metadata": {},
   "outputs": [
    {
     "name": "stdout",
     "output_type": "stream",
     "text": [
      "Initialize a Dataset with 2 parallel tasks\n"
     ]
    }
   ],
   "source": [
    "study = D.Dataset(run_dir=run_dir,num_tasks=2)\n",
    "\n",
    "for a_span in alat_span:\n",
    "    a = alat_0*(1+a_span/100)\n",
    "    idd = {'alat' : a_span}\n",
    "    inp.set_prefix(D.name_from_id(idd))\n",
    "    inp.set_lattice(ibrav=4,celldm1=a,celldm3=c_0/a)\n",
    "    study.append_run(id=idd,input=inp,runner=code)\n",
    "    \n",
    "study.set_postprocessing_function(PP.pw_get_energy)"
   ]
  },
  {
   "cell_type": "code",
   "execution_count": 26,
   "id": "2c4227db-a5ef-4ad5-8e55-e6f4932356d9",
   "metadata": {},
   "outputs": [
    {
     "data": {
      "text/plain": [
       "[{'alat': -3.0}, {'alat': -2.0}, {'alat': -1.0}, {'alat': 0.0}, {'alat': 1.0}]"
      ]
     },
     "execution_count": 26,
     "metadata": {},
     "output_type": "execute_result"
    }
   ],
   "source": [
    "study.ids"
   ]
  },
  {
   "cell_type": "code",
   "execution_count": 18,
   "id": "9924e1d1-10ca-4edf-aaac-15929fbf8953",
   "metadata": {},
   "outputs": [],
   "source": [
    "#study.runs[2]"
   ]
  },
  {
   "cell_type": "code",
   "execution_count": 27,
   "id": "c1a73dcd-2514-4f29-8cd3-9a26bc32f2ed",
   "metadata": {},
   "outputs": [
    {
     "name": "stdout",
     "output_type": "stream",
     "text": [
      "Run the selection [0, 1, 2, 3, 4] with the parallel task_groups [[0, 1], [2, 3], [4]] \n",
      "\n",
      "Run the task [0, 1] \n",
      "create the run_dir folder : 'DFT_analysis-ONCV'\n",
      "run command: mpirun -np 16 pw.x -inp alat_-3.0.in > alat_-3.0.log\n",
      "run command: mpirun -np 16 pw.x -inp alat_-2.0.in > alat_-2.0.log\n",
      "slurm submit:  slurm submit: cd DFT_analysis-ONCV ; sbatch job_alat_-3.0.sh \n",
      "cd DFT_analysis-ONCV ; sbatch job_alat_-2.0.sh\n",
      "computation alat_-3.0 is running...\n",
      "computation alat_-2.0 is running...\n",
      "computation alat_-3.0 ended\n",
      "computation alat_-2.0 ended\n",
      "Task [0, 1] ended \n",
      " \n",
      "Run the task [2, 3] \n",
      "run command: mpirun -np 16 pw.x -inp alat_-1.0.in > alat_-1.0.log\n",
      "run command: mpirun -np 16 pw.x -inp alat_0.0.in > alat_0.0.logslurm submit: \n",
      " cd DFT_analysis-ONCV ; sbatch job_alat_-1.0.shslurm submit: \n",
      " cd DFT_analysis-ONCV ; sbatch job_alat_0.0.sh\n",
      "computation alat_-1.0 is running...\n",
      "computation alat_0.0 is running...\n",
      "computation alat_-1.0 ended\n",
      "computation alat_0.0 ended\n",
      "Task [2, 3] ended \n",
      " \n",
      "Run the task [4] \n",
      "run command: mpirun -np 16 pw.x -inp alat_1.0.in > alat_1.0.log\n",
      "slurm submit:  cd DFT_analysis-ONCV ; sbatch job_alat_1.0.sh\n",
      "computation alat_1.0 is running...\n",
      "computation alat_1.0 ended\n",
      "Task [4] ended \n",
      " \n"
     ]
    }
   ],
   "source": [
    "results = study.run()"
   ]
  },
  {
   "cell_type": "code",
   "execution_count": 28,
   "id": "c1217a42-0a52-466d-acfe-c8b3b55c2c1d",
   "metadata": {},
   "outputs": [
    {
     "data": {
      "text/plain": [
       "[<matplotlib.lines.Line2D at 0x7f3eeead0f28>]"
      ]
     },
     "execution_count": 28,
     "metadata": {},
     "output_type": "execute_result"
    },
    {
     "data": {
      "image/png": "[encoded data removed]",
      "text/plain": [
       "<Figure size 648x504 with 1 Axes>"
      ]
     },
     "metadata": {
      "needs_background": "light"
     },
     "output_type": "display_data"
    }
   ],
   "source": [
    "plt.figure(figsize=(9,7))\n",
    "y = [results[ind] for ind in range(len(study.ids))]\n",
    "x = [alat_0*(1+a/100) for a in alat_span]\n",
    "x_fit = np.linspace(x[0],x[-1],30)\n",
    "coeffs = np.polyfit(x,y,2)\n",
    "y_fit = [coeffs[0]*xx**2+coeffs[1]*xx+coeffs[2] for xx in x_fit]\n",
    "plt.plot(x,y)\n",
    "plt.plot(x_fit,y_fit)"
   ]
  },
  {
   "cell_type": "code",
   "execution_count": 29,
   "id": "d73aad87-5651-4561-b971-43b600b8fe19",
   "metadata": {},
   "outputs": [
    {
     "data": {
      "text/plain": [
       "8.71345991080035"
      ]
     },
     "execution_count": 29,
     "metadata": {},
     "output_type": "execute_result"
    }
   ],
   "source": [
    "alat_conv = -coeffs[1]/(2*coeffs[0])\n",
    "alat_conv"
   ]
  },
  {
   "cell_type": "markdown",
   "id": "ced509cf-fac7-4202-b4f0-958537f6689b",
   "metadata": {},
   "source": [
    "Then we perform a convergence on delta using the alat_conv as lattice constant"
   ]
  },
  {
   "cell_type": "code",
   "execution_count": 31,
   "id": "a3f02ddd-753e-4721-9721-b6dfcfe2f973",
   "metadata": {},
   "outputs": [
    {
     "data": {
      "text/plain": [
       "array([-2., -1.,  0.,  1.])"
      ]
     },
     "execution_count": 31,
     "metadata": {},
     "output_type": "execute_result"
    }
   ],
   "source": [
    "delta_span = np.linspace(-2,1,4)\n",
    "delta_span"
   ]
  },
  {
   "cell_type": "code",
   "execution_count": 33,
   "id": "aa1a3a8c-fed7-47b1-bdd0-272ef7ed2b83",
   "metadata": {},
   "outputs": [
    {
     "name": "stdout",
     "output_type": "stream",
     "text": [
      "Initialize a Dataset with 2 parallel tasks\n"
     ]
    }
   ],
   "source": [
    "study = D.Dataset(run_dir=run_dir,num_tasks=2)\n",
    "\n",
    "inp.set_lattice(ibrav=4,celldm1=alat_conv,celldm3=c_0/alat_conv)\n",
    "for d_span in delta_span:\n",
    "    d = delta_0*(1+d_span/100)    \n",
    "    Sn1 = np.array([0,1./np.sqrt(3.),d])\n",
    "    Sn2 = np.array([1./2.,1./(2*np.sqrt(3.)),-d])\n",
    "    idd = {'delta' : d_span}\n",
    "    inp.set_prefix(D.name_from_id(idd))\n",
    "    inp.set_atomic_positions([['Sn',Sn1],['Sn',Sn2]],type='alat')\n",
    "    study.append_run(id=idd,input=inp,runner=code)\n",
    "    \n",
    "study.set_postprocessing_function(PP.pw_get_energy)"
   ]
  },
  {
   "cell_type": "code",
   "execution_count": 35,
   "id": "616b26c2-0271-48f4-826b-f1b0936d2da8",
   "metadata": {},
   "outputs": [
    {
     "data": {
      "text/plain": [
       "[{'delta': -2.0}, {'delta': -1.0}, {'delta': 0.0}, {'delta': 1.0}]"
      ]
     },
     "execution_count": 35,
     "metadata": {},
     "output_type": "execute_result"
    }
   ],
   "source": [
    "study.ids"
   ]
  },
  {
   "cell_type": "code",
   "execution_count": 41,
   "id": "e7c0e239-2a72-40a0-9470-027c107cc431",
   "metadata": {},
   "outputs": [],
   "source": [
    "#study.runs[2]"
   ]
  },
  {
   "cell_type": "code",
   "execution_count": 42,
   "id": "cec42eb0-4db9-4e9f-bb62-2974cfe1ca47",
   "metadata": {},
   "outputs": [
    {
     "name": "stdout",
     "output_type": "stream",
     "text": [
      "Run the selection [0, 1, 2, 3] with the parallel task_groups [[0, 1], [2, 3]] \n",
      "\n",
      "Run the task [0, 1] \n",
      "run command: mpirun -np 16 pw.x -inp delta_-2.0.in > delta_-2.0.log\n",
      "slurm submit: run command: mpirun -np 16 pw.x -inp delta_-1.0.in > delta_-1.0.log \n",
      "cd DFT_analysis-ONCV ; sbatch job_delta_-2.0.sh\n",
      "slurm submit:  cd DFT_analysis-ONCV ; sbatch job_delta_-1.0.sh\n",
      "computation delta_-2.0 is running...\n",
      "computation delta_-1.0 is running...\n",
      "computation delta_-2.0 ended\n",
      "computation delta_-1.0 ended\n",
      "Task [0, 1] ended \n",
      " \n",
      "Run the task [2, 3] \n",
      "run command: mpirun -np 16 pw.x -inp delta_0.0.in > delta_0.0.log\n",
      "run command: mpirun -np 16 pw.x -inp delta_1.0.in > delta_1.0.logslurm submit: \n",
      " cd DFT_analysis-ONCV ; sbatch job_delta_0.0.shslurm submit: \n",
      " cd DFT_analysis-ONCV ; sbatch job_delta_1.0.sh\n",
      "computation delta_0.0 is running...\n",
      "computation delta_1.0 is running...\n",
      "computation delta_0.0 ended\n",
      "computation delta_1.0 ended\n",
      "Task [2, 3] ended \n",
      " \n"
     ]
    }
   ],
   "source": [
    "results = study.run()"
   ]
  },
  {
   "cell_type": "code",
   "execution_count": 43,
   "id": "65152dd7-018a-407b-b861-195642f0861d",
   "metadata": {},
   "outputs": [
    {
     "data": {
      "text/plain": [
       "[<matplotlib.lines.Line2D at 0x7f3eeead4320>]"
      ]
     },
     "execution_count": 43,
     "metadata": {},
     "output_type": "execute_result"
    },
    {
     "data": {
      "image/png": "[encoded data removed]",
      "text/plain": [
       "<Figure size 648x504 with 1 Axes>"
      ]
     },
     "metadata": {
      "needs_background": "light"
     },
     "output_type": "display_data"
    }
   ],
   "source": [
    "plt.figure(figsize=(9,7))\n",
    "y = [results[ind] for ind in range(len(study.ids))]\n",
    "x = [delta_0*(1+d/100) for d in delta_span]\n",
    "x_fit = np.linspace(x[0],x[-1],30)\n",
    "coeffs = np.polyfit(x,y,2)\n",
    "y_fit = [coeffs[0]*xx**2+coeffs[1]*xx+coeffs[2] for xx in x_fit]\n",
    "plt.plot(x,y)\n",
    "plt.plot(x_fit,y_fit)"
   ]
  },
  {
   "cell_type": "code",
   "execution_count": 44,
   "id": "1f44a161-d6e5-4205-a056-6e76616ed4b1",
   "metadata": {},
   "outputs": [
    {
     "data": {
      "text/plain": [
       "0.09051433200277159"
      ]
     },
     "execution_count": 44,
     "metadata": {},
     "output_type": "execute_result"
    }
   ],
   "source": [
    "delta_conv = -coeffs[1]/(2*coeffs[0])\n",
    "delta_conv"
   ]
  },
  {
   "cell_type": "markdown",
   "id": "286ac75a-489b-4713-958f-b684293e9bee",
   "metadata": {},
   "source": [
    "Lastly, we perform a further convergence on alat to check the alat_conv value\n",
    "is preserved by the modified value of delta"
   ]
  },
  {
   "cell_type": "code",
   "execution_count": 45,
   "id": "58495201-3586-4e7d-b853-26452399b315",
   "metadata": {},
   "outputs": [
    {
     "data": {
      "text/plain": [
       "array([-2., -1.,  0.,  1.,  2.])"
      ]
     },
     "execution_count": 45,
     "metadata": {},
     "output_type": "execute_result"
    }
   ],
   "source": [
    "alat_span = np.linspace(-2,2,5) #7\n",
    "alat_span"
   ]
  },
  {
   "cell_type": "code",
   "execution_count": 47,
   "id": "6929585d-081e-49f1-8c8b-9838dbcce4b3",
   "metadata": {},
   "outputs": [
    {
     "name": "stdout",
     "output_type": "stream",
     "text": [
      "Initialize a Dataset with 2 parallel tasks\n"
     ]
    }
   ],
   "source": [
    "study = D.Dataset(run_dir=run_dir,num_tasks=2)\n",
    "\n",
    "Sn1 = np.array([0,1./np.sqrt(3.),delta_conv])\n",
    "Sn2 = np.array([1./2.,1./(2*np.sqrt(3.)),-delta_conv])\n",
    "inp.set_atomic_positions([['Sn',Sn1],['Sn',Sn2]],type='alat')\n",
    "\n",
    "for a_span in alat_span:\n",
    "    a = alat_conv*(1+a_span/100)\n",
    "    idd = {'alat' : a_span,'delta':'converged'}\n",
    "    inp.set_prefix(D.name_from_id(idd))\n",
    "    inp.set_lattice(ibrav=4,celldm1=a,celldm3=c_0/a)\n",
    "    study.append_run(id=idd,input=inp,runner=code)\n",
    "    \n",
    "study.set_postprocessing_function(PP.pw_get_energy)"
   ]
  },
  {
   "cell_type": "code",
   "execution_count": 48,
   "id": "5bfe8b1a-7dca-4623-8b00-9e3b9ab68985",
   "metadata": {},
   "outputs": [
    {
     "data": {
      "text/plain": [
       "[{'alat': -2.0, 'delta': 'converged'},\n",
       " {'alat': -1.0, 'delta': 'converged'},\n",
       " {'alat': 0.0, 'delta': 'converged'},\n",
       " {'alat': 1.0, 'delta': 'converged'},\n",
       " {'alat': 2.0, 'delta': 'converged'}]"
      ]
     },
     "execution_count": 48,
     "metadata": {},
     "output_type": "execute_result"
    }
   ],
   "source": [
    "study.ids"
   ]
  },
  {
   "cell_type": "code",
   "execution_count": 51,
   "id": "815fe11f-d004-4622-bfd8-0625101143f7",
   "metadata": {},
   "outputs": [],
   "source": [
    "#study.runs[1]"
   ]
  },
  {
   "cell_type": "code",
   "execution_count": 52,
   "id": "a246f8ec-4a59-4614-9dfb-c95f5fc0cb8f",
   "metadata": {},
   "outputs": [
    {
     "name": "stdout",
     "output_type": "stream",
     "text": [
      "Run the selection [0, 1, 2, 3, 4] with the parallel task_groups [[0, 1], [2, 3], [4]] \n",
      "\n",
      "Run the task [0, 1] \n",
      "run command: mpirun -np 16 pw.x -inp alat_-2.0-delta_converged.in > alat_-2.0-delta_converged.log\n",
      "slurm submit:  run command: mpirun -np 16 pw.x -inp alat_-1.0-delta_converged.in > alat_-1.0-delta_converged.logcd DFT_analysis-ONCV ; sbatch job_alat_-2.0-delta_converged.sh\n",
      "\n",
      "slurm submit:  cd DFT_analysis-ONCV ; sbatch job_alat_-1.0-delta_converged.sh\n",
      "computation alat_-2.0-delta_converged is running...\n",
      "computation alat_-1.0-delta_converged is running...\n",
      "computation alat_-1.0-delta_converged ended\n",
      "computation alat_-2.0-delta_converged ended\n",
      "Task [0, 1] ended \n",
      " \n",
      "Run the task [2, 3] \n",
      "run command: mpirun -np 16 pw.x -inp alat_0.0-delta_converged.in > alat_0.0-delta_converged.log\n",
      "run command: mpirun -np 16 pw.x -inp alat_1.0-delta_converged.in > alat_1.0-delta_converged.logslurm submit: \n",
      " cd DFT_analysis-ONCV ; sbatch job_alat_0.0-delta_converged.shslurm submit: \n",
      " cd DFT_analysis-ONCV ; sbatch job_alat_1.0-delta_converged.sh\n",
      "computation alat_0.0-delta_converged is running...\n",
      "computation alat_1.0-delta_converged is running...\n",
      "computation alat_1.0-delta_converged ended\n",
      "computation alat_0.0-delta_converged ended\n",
      "Task [2, 3] ended \n",
      " \n",
      "Run the task [4] \n",
      "run command: mpirun -np 16 pw.x -inp alat_2.0-delta_converged.in > alat_2.0-delta_converged.log\n",
      "slurm submit:  cd DFT_analysis-ONCV ; sbatch job_alat_2.0-delta_converged.sh\n",
      "computation alat_2.0-delta_converged is running...\n",
      "computation alat_2.0-delta_converged ended\n",
      "Task [4] ended \n",
      " \n"
     ]
    }
   ],
   "source": [
    "results = study.run()"
   ]
  },
  {
   "cell_type": "code",
   "execution_count": 53,
   "id": "7b03d037-8825-40a0-ba26-ee364707e9e7",
   "metadata": {},
   "outputs": [
    {
     "data": {
      "text/plain": [
       "[<matplotlib.lines.Line2D at 0x7f3eee808fd0>]"
      ]
     },
     "execution_count": 53,
     "metadata": {},
     "output_type": "execute_result"
    },
    {
     "data": {
      "image/png": "[encoded data removed]",
      "text/plain": [
       "<Figure size 648x504 with 1 Axes>"
      ]
     },
     "metadata": {
      "needs_background": "light"
     },
     "output_type": "display_data"
    }
   ],
   "source": [
    "plt.figure(figsize=(9,7))\n",
    "y = [results[ind] for ind in range(len(study.ids))]\n",
    "x = [alat_conv*(1+a/100) for a in alat_span]\n",
    "x_fit = np.linspace(x[0],x[-1],30)\n",
    "coeffs = np.polyfit(x,y,2)\n",
    "y_fit = [coeffs[0]*xx**2+coeffs[1]*xx+coeffs[2] for xx in x_fit]\n",
    "plt.plot(x,y)\n",
    "plt.plot(x_fit,y_fit)"
   ]
  },
  {
   "cell_type": "code",
   "execution_count": 54,
   "id": "ad881f47-06eb-46d7-9d94-b5b62ad382c2",
   "metadata": {},
   "outputs": [
    {
     "data": {
      "text/plain": [
       "(8.71345991080035, 8.719659878539446)"
      ]
     },
     "execution_count": 54,
     "metadata": {},
     "output_type": "execute_result"
    }
   ],
   "source": [
    "alat_conv_new = -coeffs[1]/(2*coeffs[0])\n",
    "alat_conv,alat_conv_new"
   ]
  },
  {
   "cell_type": "markdown",
   "id": "26a866ac-5205-47eb-926e-8cdecf6e323f",
   "metadata": {},
   "source": [
    "We observe that the alat_conv is stable within the second digit so we consider the\n",
    "convergence process completed.\n",
    "\n",
    "Finally we set"
   ]
  },
  {
   "cell_type": "code",
   "execution_count": 5,
   "id": "210279c1-92c1-464b-a78d-b23fd7f8005d",
   "metadata": {},
   "outputs": [
    {
     "data": {
      "text/plain": [
       "{'control': {'calculation': \"'scf'\",\n",
       "  'verbosity': \"'high'\",\n",
       "  'prefix': \"'pwscf'\",\n",
       "  'outdir': \"'./'\",\n",
       "  'pseudo_dir': \"'../pseudos'\"},\n",
       " 'system': {'force_symmorphic': '.true.',\n",
       "  'nbnd': 30,\n",
       "  'lspinorb': '.true.',\n",
       "  'noncolin': '.true.',\n",
       "  'ntyp': '1',\n",
       "  'nat': '2',\n",
       "  'ibrav': 4,\n",
       "  'celldm(1)': 8.71966,\n",
       "  'celldm(3)': 2.86708426704711,\n",
       "  'ecutwfc': 80},\n",
       " 'electrons': {'diago_full_acc': '.false.', 'conv_thr': 1e-06},\n",
       " 'ions': {},\n",
       " 'cell': {},\n",
       " 'atomic_species': {'Sn': [118.71, 'Sn_ONCV_PBE_FR-1.1.upf']},\n",
       " 'atomic_positions': {'type': 'alat',\n",
       "  'values': [['Sn', array([0.        , 0.57735027, 0.090514  ])],\n",
       "   ['Sn', array([ 0.5       ,  0.28867513, -0.090514  ])]]},\n",
       " 'kpoints': {'type': 'automatic', 'values': ([15, 15, 1], [0.0, 0.0, 0.0])},\n",
       " 'cell_parameters': {}}"
      ]
     },
     "execution_count": 5,
     "metadata": {},
     "output_type": "execute_result"
    }
   ],
   "source": [
    "alat_conv = 8.71966\n",
    "delta_conv = 0.090514\n",
    "\n",
    "Sn1 = np.array([0,1./np.sqrt(3.),delta_conv])\n",
    "Sn2 = np.array([1./2.,1./(2*np.sqrt(3.)),-delta_conv])\n",
    "inp.set_atomic_positions([['Sn',Sn1],['Sn',Sn2]],type='alat')\n",
    "inp.set_lattice(ibrav=4,celldm1=alat_conv,celldm3=c_0/alat_conv)\n",
    "inp"
   ]
  },
  {
   "cell_type": "markdown",
   "id": "28186b4a-592c-4753-b906-a87167f63d1d",
   "metadata": {},
   "source": [
    "We can express these parameters in Angstrom and compare the results with the value reported in the\n",
    "paper Progress in Surface Science 96 (2021) 100615 of Olivia and Fredhelm"
   ]
  },
  {
   "cell_type": "code",
   "execution_count": 79,
   "id": "5a745682-2fff-4e39-b4e9-0afd17537e20",
   "metadata": {},
   "outputs": [
    {
     "data": {
      "text/plain": [
       "4.6142456910153395"
      ]
     },
     "execution_count": 79,
     "metadata": {},
     "output_type": "execute_result"
    }
   ],
   "source": [
    "alat_conv*U.Constants.Bohr_to_Angstrom"
   ]
  },
  {
   "cell_type": "code",
   "execution_count": 82,
   "id": "8de4a0c9-1775-4f05-87b7-0ef95fda5ac7",
   "metadata": {},
   "outputs": [
    {
     "data": {
      "text/plain": [
       "0.8353076689531248"
      ]
     },
     "execution_count": 82,
     "metadata": {},
     "output_type": "execute_result"
    }
   ],
   "source": [
    "delta_conv*alat_conv*U.Constants.Bohr_to_Angstrom*2"
   ]
  },
  {
   "cell_type": "markdown",
   "id": "ba24d472-13a3-4c11-8ab5-a9bbaf4a16ad",
   "metadata": {},
   "source": [
    "to be compared with alat = 4.67-4.68 and Delta = 0.85, so we find that the reticular parameters are a little bit\n",
    "smaller with this pseudo."
   ]
  },
  {
   "cell_type": "markdown",
   "id": "c326f0ae-9a5f-4f1f-bd73-6cd827c43341",
   "metadata": {
    "tags": []
   },
   "source": [
    "### Convergence procedure on the $k$-points sampling and of energy cutoff of the wave functions"
   ]
  },
  {
   "cell_type": "markdown",
   "id": "535caa0a-d442-4674-9979-b72991096e6f",
   "metadata": {},
   "source": [
    "We perform a set of calculations in functions of the number of k-points and of the energy cutoff and we find\n",
    "the converged values using the total ground state energy, the gap at $K$ and the gap at $\\Gamma$ as control quantities."
   ]
  },
  {
   "cell_type": "code",
   "execution_count": 17,
   "id": "1e0cce2d-5baa-4802-8984-1525fb0f6994",
   "metadata": {},
   "outputs": [],
   "source": [
    "kvalues = [12,15,18,21]\n",
    "ecut = [60,80,100,120]"
   ]
  },
  {
   "cell_type": "code",
   "execution_count": 18,
   "id": "23eb4195-77b2-4dd2-857f-3b131332ae5e",
   "metadata": {},
   "outputs": [
    {
     "name": "stdout",
     "output_type": "stream",
     "text": [
      "Initialize a Dataset with 3 parallel tasks\n"
     ]
    }
   ],
   "source": [
    "study = D.Dataset(run_dir=run_dir,num_tasks=3)\n",
    "\n",
    "for k in kvalues:\n",
    "    for e in ecut:\n",
    "        idd = {'ecut' : e, 'k' : k}\n",
    "        inp.set_prefix(D.name_from_id(idd))\n",
    "        inp.set_kpoints(type='automatic',points=[k,k,1])\n",
    "        inp.set_energy_cutoff(e)\n",
    "        study.append_run(id=idd,input=inp,runner=code)\n",
    "    \n",
    "study.set_postprocessing_function(PP.pw_parse_data)"
   ]
  },
  {
   "cell_type": "code",
   "execution_count": 19,
   "id": "b0dfb4d6-1366-4cf0-832f-4dc2cbeb8430",
   "metadata": {},
   "outputs": [
    {
     "data": {
      "text/plain": [
       "[{'ecut': 60, 'k': 12},\n",
       " {'ecut': 80, 'k': 12},\n",
       " {'ecut': 100, 'k': 12},\n",
       " {'ecut': 120, 'k': 12},\n",
       " {'ecut': 60, 'k': 15},\n",
       " {'ecut': 80, 'k': 15},\n",
       " {'ecut': 100, 'k': 15},\n",
       " {'ecut': 120, 'k': 15},\n",
       " {'ecut': 60, 'k': 18},\n",
       " {'ecut': 80, 'k': 18},\n",
       " {'ecut': 100, 'k': 18},\n",
       " {'ecut': 120, 'k': 18},\n",
       " {'ecut': 60, 'k': 21},\n",
       " {'ecut': 80, 'k': 21},\n",
       " {'ecut': 100, 'k': 21},\n",
       " {'ecut': 120, 'k': 21}]"
      ]
     },
     "execution_count": 19,
     "metadata": {},
     "output_type": "execute_result"
    }
   ],
   "source": [
    "study.ids"
   ]
  },
  {
   "cell_type": "code",
   "execution_count": 21,
   "id": "3af909b7-4182-4681-b78c-21df38f3f5f1",
   "metadata": {},
   "outputs": [],
   "source": [
    "#study.runs[4]"
   ]
  },
  {
   "cell_type": "code",
   "execution_count": 23,
   "id": "d2c74dea-c03d-4266-8935-c2ceede6c5ea",
   "metadata": {},
   "outputs": [
    {
     "name": "stdout",
     "output_type": "stream",
     "text": [
      "Run the selection [0, 1, 2, 3, 4, 5, 6, 7, 8, 9, 10, 11, 12, 13, 14, 15] with the parallel task_groups [[0, 1, 2], [3, 4, 5], [6, 7, 8], [9, 10, 11], [12, 13, 14], [15]] \n",
      "\n",
      "Run the task [0, 1, 2] \n",
      "Skip the run of Skip the run ofecut_60-k_12\n",
      " ecut_80-k_12\n",
      "Skip the run of ecut_100-k_12\n",
      "Task [0, 1, 2] ended \n",
      " \n",
      "Run the task [3, 4, 5] \n",
      "Skip the run of ecut_120-k_12Skip the run of\n",
      " ecut_60-k_15\n",
      "Skip the run of ecut_80-k_15\n",
      "Task [3, 4, 5] ended \n",
      " \n",
      "Run the task [6, 7, 8] \n",
      "Skip the run ofSkip the run of ecut_100-k_15 \n",
      "ecut_120-k_15\n",
      "Skip the run of ecut_60-k_18\n",
      "Task [6, 7, 8] ended \n",
      " \n",
      "Run the task [9, 10, 11] \n",
      "Skip the run of ecut_80-k_18Skip the run of\n",
      " ecut_100-k_18Skip the run of\n",
      " ecut_120-k_18\n",
      "Task [9, 10, 11] ended \n",
      " \n",
      "Run the task [12, 13, 14] \n",
      "Skip the run of ecut_60-k_21Skip the run of\n",
      " ecut_80-k_21\n",
      "Skip the run of ecut_100-k_21\n",
      "Task [12, 13, 14] ended \n",
      " \n",
      "Run the task [15] \n",
      "Skip the run of ecut_120-k_21\n",
      "Task [15] ended \n",
      " \n"
     ]
    }
   ],
   "source": [
    "results = study.run()"
   ]
  },
  {
   "cell_type": "code",
   "execution_count": 24,
   "id": "3e86e135-e02f-4418-be60-94bc0a478670",
   "metadata": {},
   "outputs": [
    {
     "name": "stdout",
     "output_type": "stream",
     "text": [
      "12 [-120.6565146234047, -120.656514109171, -120.6565173547135, -120.6565145404025]\n",
      "15 [-120.6565611716314, -120.6565606545469, -120.6565638955805, -120.6565610838148]\n",
      "18 [-120.6565781884668, -120.6565776639298, -120.656580910506, -120.6565780958944]\n",
      "21 [-120.6565854849979, -120.6565849615944, -120.6565882076015, -120.6565853951737]\n"
     ]
    },
    {
     "data": {
      "text/plain": [
       "<matplotlib.legend.Legend at 0x7fa2991f6c18>"
      ]
     },
     "execution_count": 24,
     "metadata": {},
     "output_type": "execute_result"
    },
    {
     "data": {
      "image/png": "[encoded data removed]",
      "text/plain": [
       "<Figure size 720x504 with 1 Axes>"
      ]
     },
     "metadata": {
      "needs_background": "light"
     },
     "output_type": "display_data"
    }
   ],
   "source": [
    "plt.figure(figsize=(10,7))\n",
    "plt.xlabel('energy cutoff (Ry)',size=16)\n",
    "plt.ylabel('Total energy (Ha)',size=16)\n",
    "for k in kvalues:\n",
    "    energy =study.fetch_results(id={'k':k},attribute='energy')\n",
    "    print(k,energy)\n",
    "    plt.plot(ecut,energy,label='k=%s'%k)\n",
    "    plt.scatter(ecut,energy)\n",
    "#plt.ylim(-120.8,-120.6)\n",
    "plt.legend()"
   ]
  },
  {
   "cell_type": "code",
   "execution_count": 25,
   "id": "e799bb21-abd9-42fd-8318-bebc930677e5",
   "metadata": {},
   "outputs": [
    {
     "name": "stdout",
     "output_type": "stream",
     "text": [
      "12 [0.08837909694438206, 0.08837710759779238, 0.08837825783706443, 0.08838062931302548]\n",
      "15 [0.08838956571738832, 0.08838578895719862, 0.08838928538715202, 0.08838719983095317]\n",
      "18 [0.08839042816226006, 0.08838888515921245, 0.08839034400553908, 0.08838917218873105]\n",
      "21 [0.08839168476259118, 0.08838972607547341, 0.08839108645138644, 0.0883900735239263]\n",
      "12 [0.4505429566585739, 0.45065206184930673, 0.4506134645239973, 0.450624092176689]\n",
      "15 [0.45079617692355345, 0.450878154762925, 0.4508564697692564, 0.45088103487747444]\n",
      "18 [0.4509034494468013, 0.4510237728583584, 0.45095894914441104, 0.45098495007885353]\n",
      "21 [0.4509419943251425, 0.45106080737246795, 0.4510350475354191, 0.45103523655582434]\n"
     ]
    },
    {
     "data": {
      "text/plain": [
       "<matplotlib.legend.Legend at 0x7fa298a09748>"
      ]
     },
     "execution_count": 25,
     "metadata": {},
     "output_type": "execute_result"
    },
    {
     "data": {
      "image/png": "[encoded data removed]",
      "text/plain": [
       "<Figure size 1440x576 with 2 Axes>"
      ]
     },
     "metadata": {
      "needs_background": "light"
     },
     "output_type": "display_data"
    }
   ],
   "source": [
    "fig, ax = plt.subplots(nrows=1,ncols=2,figsize=(20, 8))\n",
    "\n",
    "ax[0].set_xlabel('energy cutoff (Ry)',size=16)\n",
    "ax[0].set_ylabel('Energy gap (eV)',size=16)\n",
    "for k in kvalues:\n",
    "    data = study.fetch_results(id={'k':k})    \n",
    "    gap = [d.get_gap(verbose=False)['direct_gap'] for d in data]\n",
    "    print(k,gap)\n",
    "    ax[0].plot(ecut,gap,label='k=%s'%k)\n",
    "    ax[0].scatter(ecut,gap)\n",
    "ax[0].legend()\n",
    "ax[1].set_xlabel('energy cutoff (Ry)',size=16)\n",
    "ax[1].set_ylabel('Energy gap at $\\Gamma$ (eV)',size=16)\n",
    "for k in kvalues:\n",
    "    data = study.fetch_results(id={'k':k})    \n",
    "    gap_gamma = [d.get_evals()[0][28]- d.get_evals()[0][27] for d in data]\n",
    "    print(k,gap_gamma)\n",
    "    ax[1].plot(ecut,gap_gamma,label='k=%s'%k)\n",
    "    ax[1].scatter(ecut,gap_gamma)\n",
    "ax[1].legend()"
   ]
  },
  {
   "cell_type": "markdown",
   "id": "d802e420-32cc-45c8-af4b-29816e222217",
   "metadata": {},
   "source": [
    "On the basis of these results we choose"
   ]
  },
  {
   "cell_type": "code",
   "execution_count": 38,
   "id": "953dfe27-6e51-4b39-9ade-b1d831295a50",
   "metadata": {},
   "outputs": [],
   "source": [
    "ecut_conv = 80 # energy cutoff on the wavefunction (Ry)\n",
    "kpoints_conv = [15,15,1]"
   ]
  },
  {
   "cell_type": "code",
   "execution_count": 39,
   "id": "42a03191-b71a-4bb8-9b87-25925c2c42bc",
   "metadata": {},
   "outputs": [],
   "source": [
    "inp.set_energy_cutoff(ecut_conv)\n",
    "inp.set_kpoints(type='automatic',points=kpoints_conv)"
   ]
  },
  {
   "cell_type": "markdown",
   "id": "4cb1a90e-7d9a-42ef-bb7a-cd5d61712246",
   "metadata": {},
   "source": [
    "### Convergence analysis on the spacing between the sheets replica"
   ]
  },
  {
   "cell_type": "markdown",
   "id": "d1b9064f-6cc1-4a68-b97a-d2c06e815ff9",
   "metadata": {},
   "source": [
    "We perform a convergence study on the vacuum distance parameter."
   ]
  },
  {
   "cell_type": "code",
   "execution_count": 41,
   "id": "6dbf0ac9-dede-4285-be1d-ce25af704ad7",
   "metadata": {},
   "outputs": [
    {
     "name": "stdout",
     "output_type": "stream",
     "text": [
      "Initialize a Dataset with 3 parallel tasks\n"
     ]
    }
   ],
   "source": [
    "c_values = [5,10,15,20,25,30] # in a.u.\n",
    "#Sn1 = np.array([0,1./np.sqrt(3.),delta_conv])\n",
    "#Sn2 = np.array([1./2.,1./(2*np.sqrt(3.)),-delta_conv])\n",
    "\n",
    "study = D.Dataset(run_dir=run_dir,num_tasks=3)\n",
    "\n",
    "for cval in c_values:\n",
    "    idd = {'vacuum_value' : cval}\n",
    "    inp.set_prefix(D.name_from_id(idd))\n",
    "    #inp.set_atomic_positions([['Sn',Sn1],['Sn',Sn2]],type='alat')\n",
    "    inp.set_lattice(ibrav=4,celldm1=alat_conv,celldm3=cval/alat_conv)\n",
    "    study.append_run(id=idd,input=inp,runner=code)\n",
    "    \n",
    "study.set_postprocessing_function(PP.pw_parse_data)"
   ]
  },
  {
   "cell_type": "code",
   "execution_count": 45,
   "id": "ad677f9e-4625-4996-9f1a-884772f283db",
   "metadata": {},
   "outputs": [],
   "source": [
    "#study.runs[2]"
   ]
  },
  {
   "cell_type": "code",
   "execution_count": 46,
   "id": "5a7c1842-580d-418a-a909-5c9bf1a48ab8",
   "metadata": {},
   "outputs": [
    {
     "name": "stdout",
     "output_type": "stream",
     "text": [
      "Run the selection [0, 1, 2, 3, 4, 5] with the parallel task_groups [[0, 1, 2], [3, 4, 5]] \n",
      "\n",
      "Run the task [0, 1, 2] \n",
      "delete job_out script: DFT_analysis-ONCV/job_vacuum_value_5.outdelete job_out script:\n",
      " DFT_analysis-ONCV/job_vacuum_value_10.outdelete job_out script:\n",
      " DFT_analysis-ONCV/job_vacuum_value_15.out\n",
      "delete log file: DFT_analysis-ONCV/vacuum_value_5.logdelete log file:\n",
      " delete log file:DFT_analysis-ONCV/vacuum_value_10.log \n",
      "DFT_analysis-ONCV/vacuum_value_15.log\n",
      "delete xml file: /work/dalessandro/2D_ELECTRONIC_OPTICAL_PROPERTIES/Xenes/Stanene/DFT_analysis-ONCV/vacuum_value_5.xml\n",
      "delete xml file: delete xml file:/work/dalessandro/2D_ELECTRONIC_OPTICAL_PROPERTIES/Xenes/Stanene/DFT_analysis-ONCV/vacuum_value_10.xml \n",
      "/work/dalessandro/2D_ELECTRONIC_OPTICAL_PROPERTIES/Xenes/Stanene/DFT_analysis-ONCV/vacuum_value_15.xml\n",
      "delete folder: /work/dalessandro/2D_ELECTRONIC_OPTICAL_PROPERTIES/Xenes/Stanene/DFT_analysis-ONCV/vacuum_value_5.save\n",
      "delete folder: delete folder:/work/dalessandro/2D_ELECTRONIC_OPTICAL_PROPERTIES/Xenes/Stanene/DFT_analysis-ONCV/vacuum_value_10.save \n",
      "/work/dalessandro/2D_ELECTRONIC_OPTICAL_PROPERTIES/Xenes/Stanene/DFT_analysis-ONCV/vacuum_value_15.save\n",
      "run command: mpirun -np 16 pw.x -inp vacuum_value_5.in > vacuum_value_5.log\n",
      "run command: mpirun -np 16 pw.x -inp vacuum_value_15.in > vacuum_value_15.logslurm submit: run command: mpirun -np 16 pw.x -inp vacuum_value_10.in > vacuum_value_10.log \n",
      "\n",
      "cd DFT_analysis-ONCV ; sbatch job_vacuum_value_5.sh\n",
      "slurm submit: slurm submit:   cd DFT_analysis-ONCV ; sbatch job_vacuum_value_15.shcd DFT_analysis-ONCV ; sbatch job_vacuum_value_10.sh\n",
      "\n",
      "computation vacuum_value_5 is running...\n",
      "computation vacuum_value_15 is running...computation vacuum_value_10 is running...\n",
      "\n",
      "computation vacuum_value_5 ended\n",
      "computation vacuum_value_10 ended\n",
      "computation vacuum_value_15 ended\n",
      "Task [0, 1, 2] ended \n",
      " \n",
      "Run the task [3, 4, 5] \n",
      "delete job_out script: DFT_analysis-ONCV/job_vacuum_value_20.outdelete job_out script:\n",
      " DFT_analysis-ONCV/job_vacuum_value_25.out\n",
      "delete job_out script: DFT_analysis-ONCV/job_vacuum_value_30.out\n",
      "delete log file: delete log file:DFT_analysis-ONCV/vacuum_value_20.log \n",
      "DFT_analysis-ONCV/vacuum_value_25.log\n",
      "delete log file: DFT_analysis-ONCV/vacuum_value_30.log\n",
      "run command: mpirun -np 16 pw.x -inp vacuum_value_20.in > vacuum_value_20.log\n",
      "run command: mpirun -np 16 pw.x -inp vacuum_value_25.in > vacuum_value_25.log\n",
      "slurm submit: run command: mpirun -np 16 pw.x -inp vacuum_value_30.in > vacuum_value_30.logslurm submit:  \n",
      " cd DFT_analysis-ONCV ; sbatch job_vacuum_value_20.shcd DFT_analysis-ONCV ; sbatch job_vacuum_value_25.sh\n",
      "slurm submit: \n",
      " cd DFT_analysis-ONCV ; sbatch job_vacuum_value_30.sh\n",
      "computation vacuum_value_20 is running...\n",
      "computation vacuum_value_25 is running...computation vacuum_value_30 is running...\n",
      "\n",
      "computation vacuum_value_20 ended\n",
      "computation vacuum_value_25 ended\n",
      "computation vacuum_value_30 ended\n",
      "Task [3, 4, 5] ended \n",
      " \n"
     ]
    }
   ],
   "source": [
    "results = study.run()"
   ]
  },
  {
   "cell_type": "code",
   "execution_count": 47,
   "id": "ce1b58ad-5841-4dce-b1ff-ed4b885ef5f9",
   "metadata": {},
   "outputs": [
    {
     "name": "stdout",
     "output_type": "stream",
     "text": [
      "[-121.0100060482556, -120.6284463528808, -120.6549670082163, -120.6565017284884, -120.6565606545469, -120.6565615370741]\n"
     ]
    },
    {
     "data": {
      "image/png": "[encoded data removed]",
      "text/plain": [
       "<Figure size 720x504 with 1 Axes>"
      ]
     },
     "metadata": {
      "needs_background": "light"
     },
     "output_type": "display_data"
    }
   ],
   "source": [
    "plt.figure(figsize=(10,7))\n",
    "plt.xlabel('Vacuum distance (a.u.)',size=16)\n",
    "plt.ylabel('Total energy (Ha)',size=16)\n",
    "energy = [r.energy for r in results.values()]\n",
    "plt.plot(c_values,energy)\n",
    "plt.scatter(c_values,energy)\n",
    "print(energy)"
   ]
  },
  {
   "cell_type": "code",
   "execution_count": 48,
   "id": "5a536003-bbd4-42ad-8427-ec15e73f94ef",
   "metadata": {},
   "outputs": [
    {
     "name": "stdout",
     "output_type": "stream",
     "text": [
      "[0.25720399154436535, 0.096695454411865, 0.08885459004827201, 0.0884029439099529, 0.08838578895719862, 0.08838569054395573]\n",
      "[3.782638819375384, 0.6580565592291405, 0.46777593803943285, 0.45239153653968656, 0.450878154762925, 0.45076244019491996]\n"
     ]
    },
    {
     "data": {
      "image/png": "[encoded data removed]",
      "text/plain": [
       "<Figure size 1440x576 with 2 Axes>"
      ]
     },
     "metadata": {
      "needs_background": "light"
     },
     "output_type": "display_data"
    }
   ],
   "source": [
    "fig, ax = plt.subplots(nrows=1,ncols=2,figsize=(20, 8))\n",
    "\n",
    "ax[0].set_xlabel('Vacuum distance (a.u.)',size=16)\n",
    "ax[0].set_ylabel('Energy gap (eV)',size=16)\n",
    "gap = [r.get_gap(verbose=False)['direct_gap'] for r in results.values()]\n",
    "ax[0].plot(c_values,gap)\n",
    "ax[0].scatter(c_values,gap)\n",
    "print(gap)\n",
    "ax[1].set_xlabel('Vacuum distance (a.u.)',size=16)\n",
    "ax[1].set_ylabel('Energy gap at $\\Gamma$ (eV)',size=16)\n",
    "gap_gamma = [r.get_evals()[0][28]- r.get_evals()[0][27] for r in results.values()]\n",
    "ax[1].plot(c_values,gap_gamma)\n",
    "ax[1].scatter(c_values,gap_gamma)\n",
    "print(gap_gamma)"
   ]
  },
  {
   "cell_type": "markdown",
   "id": "8ac1a0bd-c9e0-4569-bb2e-e0285dba52cc",
   "metadata": {},
   "source": [
    "On the basis of this analysis we choose c = 25 a.u. as the converged vacuum spacing"
   ]
  },
  {
   "cell_type": "markdown",
   "id": "eedac460-3e50-4c17-ab51-97b79cc8a119",
   "metadata": {},
   "source": [
    "### Converged ground states"
   ]
  },
  {
   "cell_type": "markdown",
   "id": "ec4e3056-2ea1-4fa7-846e-93acda4c0f42",
   "metadata": {},
   "source": [
    "Finally we perform a last scf calculation with converged parameters"
   ]
  },
  {
   "cell_type": "code",
   "execution_count": 103,
   "id": "4366efd6-eb1a-465c-a916-26cae83019be",
   "metadata": {},
   "outputs": [
    {
     "data": {
      "text/plain": [
       "{'control': {'calculation': \"'scf'\",\n",
       "  'verbosity': \"'high'\",\n",
       "  'prefix': \"'pwscf'\",\n",
       "  'outdir': \"'./'\",\n",
       "  'pseudo_dir': \"'../pseudos'\"},\n",
       " 'system': {'force_symmorphic': '.true.',\n",
       "  'nbnd': 30,\n",
       "  'lspinorb': '.true.',\n",
       "  'noncolin': '.true.',\n",
       "  'ntyp': '1',\n",
       "  'nat': '2',\n",
       "  'ibrav': 4,\n",
       "  'celldm(1)': 8.71966,\n",
       "  'celldm(3)': 2.86708426704711,\n",
       "  'ecutwfc': 80},\n",
       " 'electrons': {'diago_full_acc': '.false.', 'conv_thr': 1e-06},\n",
       " 'ions': {},\n",
       " 'cell': {},\n",
       " 'atomic_species': {'Sn': [118.71, 'Sn_ONCV_PBE_FR-1.1.upf']},\n",
       " 'atomic_positions': {'type': 'alat',\n",
       "  'values': [['Sn', array([0.        , 0.57735027, 0.090514  ])],\n",
       "   ['Sn', array([ 0.5       ,  0.28867513, -0.090514  ])]]},\n",
       " 'kpoints': {'type': 'automatic', 'values': ([15, 15, 1], [0.0, 0.0, 0.0])},\n",
       " 'cell_parameters': {}}"
      ]
     },
     "execution_count": 103,
     "metadata": {},
     "output_type": "execute_result"
    }
   ],
   "source": [
    "run_dir = 'DFT_analysis-ONCV'\n",
    "pseudo_dir = '../pseudos'\n",
    "Sn_pseudo = 'Sn_ONCV_PBE_FR-1.1.upf'\n",
    "\n",
    "alat_conv = 8.71966 # in a.u. (Bohr)\n",
    "delta_conv = 0.090514 # in units of alat\n",
    "c_conv = 25.0 # vacuum distance in a.u. \n",
    "\n",
    "ecut_conv = 80 # energy cutoff on the wavefunction (Ry)\n",
    "kpoints_conv = [15,15,1]\n",
    "\n",
    "Sn1 = np.array([0,1./np.sqrt(3.),delta_conv])\n",
    "Sn2 = np.array([1./2.,1./(2*np.sqrt(3.)),-delta_conv])\n",
    "\n",
    "inp = I.PwInput()\n",
    "inp.set_scf(force_symmorphic=True,conv_thr=1e-6)\n",
    "inp.set_num_bnds(30)\n",
    "inp.set_pseudo_dir(pseudo_dir=pseudo_dir)\n",
    "inp.set_spinorbit()\n",
    "inp.add_atom(atom='Sn',pseudo_name=Sn_pseudo,mass=118.71)\n",
    "inp.set_atoms_number(2)\n",
    "inp.set_atomic_positions([['Sn',Sn1],['Sn',Sn2]],type='alat')\n",
    "inp.set_lattice(ibrav=4,celldm1=alat_conv,celldm3=c_conv/alat_conv)\n",
    "inp.set_energy_cutoff(ecut_conv)\n",
    "inp.set_kpoints(type='automatic',points=kpoints_conv)\n",
    "inp"
   ]
  },
  {
   "cell_type": "code",
   "execution_count": 104,
   "id": "822399be-b953-4b4e-807a-c212d0ecf04e",
   "metadata": {},
   "outputs": [
    {
     "name": "stdout",
     "output_type": "stream",
     "text": [
      "Initialize a Dataset with 1 parallel tasks\n"
     ]
    }
   ],
   "source": [
    "study = D.Dataset(run_dir=run_dir,num_tasks=1)\n",
    "\n",
    "idd = 'gs_converged'\n",
    "inp.set_prefix(D.name_from_id(idd))\n",
    "study.append_run(id=idd,input=inp,runner=code)    \n",
    "study.set_postprocessing_function(PP.pw_parse_data)"
   ]
  },
  {
   "cell_type": "code",
   "execution_count": 105,
   "id": "0618edae-9570-4e1f-ab38-05052a85c959",
   "metadata": {},
   "outputs": [
    {
     "name": "stdout",
     "output_type": "stream",
     "text": [
      "Run the selection [0] with the parallel task_groups [[0]] \n",
      "\n",
      "Run the task [0] \n",
      "Skip the run of gs_converged\n",
      "Task [0] ended \n",
      " \n"
     ]
    }
   ],
   "source": [
    "results = study.run()"
   ]
  },
  {
   "cell_type": "code",
   "execution_count": 107,
   "id": "8df2cd14-1afd-4d39-839f-d4b69a77f70a",
   "metadata": {},
   "outputs": [
    {
     "name": "stdout",
     "output_type": "stream",
     "text": [
      "Direct gap system\n",
      "=================\n",
      "Gap : 0.08838578895719862 eV\n"
     ]
    },
    {
     "data": {
      "text/plain": [
       "{'gap': 0.08838578895719862,\n",
       " 'direct_gap': 0.08838578895719862,\n",
       " 'position_cbm': 26,\n",
       " 'positon_vbm': 26,\n",
       " 'positon_direct_gap': 26}"
      ]
     },
     "execution_count": 107,
     "metadata": {},
     "output_type": "execute_result"
    }
   ],
   "source": [
    "results[0].get_gap()"
   ]
  },
  {
   "cell_type": "markdown",
   "id": "cbbc5536-4299-451b-8eb5-c700b0522e69",
   "metadata": {},
   "source": [
    "Gap at $\\Gamma$"
   ]
  },
  {
   "cell_type": "code",
   "execution_count": 108,
   "id": "ea5a72d9-d6ed-465c-b232-0915778e3cf5",
   "metadata": {},
   "outputs": [
    {
     "data": {
      "text/plain": [
       "0.450878154762925"
      ]
     },
     "execution_count": 108,
     "metadata": {},
     "output_type": "execute_result"
    }
   ],
   "source": [
    "results[0].get_evals()[0][28]- results[0].get_evals()[0][27]"
   ]
  },
  {
   "cell_type": "markdown",
   "id": "7a40c6d7-6100-4726-8fe1-19ba7a0a8d5a",
   "metadata": {
    "tags": []
   },
   "source": [
    "## Band structure on high symmetry line"
   ]
  },
  {
   "cell_type": "markdown",
   "id": "250dd198-94f7-46ec-a230-42fc44af2785",
   "metadata": {},
   "source": [
    "Now we perform the bands computation specifying the kpoints on a path. \n",
    "\n",
    "To define the path we write the coordinates of the high symmetry points (using the tpiba_b type of\n",
    "pw) and we make usage of the function build_kpath"
   ]
  },
  {
   "cell_type": "code",
   "execution_count": 63,
   "id": "26d5511e-5bf5-44ba-8cf9-a4e6b1e67a05",
   "metadata": {},
   "outputs": [],
   "source": [
    "bands_prefix = 'bands'\n",
    "G = [0.,0.,0.]\n",
    "Kp = [1./3.,1./np.sqrt(3),0.]\n",
    "Mp = [0.,1./np.sqrt(3),0.]\n",
    "high_sym = {'G':G,'K':Kp,'M':Mp} # useful to label the high-sym point on the path"
   ]
  },
  {
   "cell_type": "code",
   "execution_count": 64,
   "id": "186c72ef-7870-4dae-9695-65eca270d9d6",
   "metadata": {},
   "outputs": [
    {
     "data": {
      "text/plain": [
       "[[0.0, 0.0, 0.0, 30],\n",
       " [0.0, 0.5773502691896258, 0.0, 30],\n",
       " [0.3333333333333333, 0.5773502691896258, 0.0, 30],\n",
       " [0.0, 0.0, 0.0, 0]]"
      ]
     },
     "execution_count": 64,
     "metadata": {},
     "output_type": "execute_result"
    }
   ],
   "source": [
    "klist = Tools.build_pw_kpath(G,Mp,Kp,G,numstep=30)\n",
    "klist"
   ]
  },
  {
   "cell_type": "code",
   "execution_count": 65,
   "id": "8d78fdf4-bb8e-4870-b689-1098287820b0",
   "metadata": {},
   "outputs": [
    {
     "data": {
      "text/plain": [
       "{'control': {'calculation': \"'bands'\",\n",
       "  'verbosity': \"'high'\",\n",
       "  'prefix': \"'bands'\",\n",
       "  'outdir': \"'./'\",\n",
       "  'pseudo_dir': \"'../pseudos'\"},\n",
       " 'system': {'force_symmorphic': '.true.',\n",
       "  'nbnd': 32,\n",
       "  'lspinorb': '.true.',\n",
       "  'noncolin': '.true.',\n",
       "  'ntyp': '1',\n",
       "  'nat': '2',\n",
       "  'ibrav': 4,\n",
       "  'celldm(1)': 8.71966,\n",
       "  'celldm(3)': 2.86708426704711,\n",
       "  'ecutwfc': 80},\n",
       " 'electrons': {'diago_full_acc': '.false.', 'conv_thr': 1e-06},\n",
       " 'ions': {},\n",
       " 'cell': {},\n",
       " 'atomic_species': {'Sn': [118.71, 'Sn_ONCV_PBE_FR-1.1.upf']},\n",
       " 'atomic_positions': {'type': 'alat',\n",
       "  'values': [['Sn', array([0.        , 0.57735027, 0.090514  ])],\n",
       "   ['Sn', array([ 0.5       ,  0.28867513, -0.090514  ])]]},\n",
       " 'kpoints': {'type': 'tpiba_b',\n",
       "  'values': [[0.0, 0.0, 0.0, 30],\n",
       "   [0.0, 0.5773502691896258, 0.0, 30],\n",
       "   [0.3333333333333333, 0.5773502691896258, 0.0, 30],\n",
       "   [0.0, 0.0, 0.0, 0]]},\n",
       " 'cell_parameters': {}}"
      ]
     },
     "execution_count": 65,
     "metadata": {},
     "output_type": "execute_result"
    }
   ],
   "source": [
    "inp.set_bands(32,force_symmorphic=True,conv_thr=1e-6)\n",
    "inp.set_prefix(bands_prefix)\n",
    "inp.set_kpoints(type='tpiba_b',klist=klist)\n",
    "inp"
   ]
  },
  {
   "cell_type": "code",
   "execution_count": 66,
   "id": "6f0a3071-f4e8-49fe-afff-bc053c48a59b",
   "metadata": {},
   "outputs": [
    {
     "name": "stdout",
     "output_type": "stream",
     "text": [
      "copy source_dir DFT_analysis-ONCV/gs_converged.save in the /work/dalessandro/2D_ELECTRONIC_OPTICAL_PROPERTIES/Xenes/Stanene/DFT_analysis-ONCV/bands.save\n",
      "run command: mpirun -np 16 pw.x -inp bands.in > bands.log\n",
      "slurm submit:  cd DFT_analysis-ONCV ; sbatch job_bands.sh\n",
      "computation bands is running...\n",
      "computation bands ended\n"
     ]
    }
   ],
   "source": [
    "results = code.run(input=inp,run_dir=run_dir,name=bands_prefix,source_dir='DFT_analysis-ONCV/gs_converged.save')"
   ]
  },
  {
   "cell_type": "markdown",
   "id": "5eca70ed-2c6e-41c8-ab52-c718df220ff2",
   "metadata": {},
   "source": [
    "Once that the computation is over we can create an instance of PwBands"
   ]
  },
  {
   "cell_type": "code",
   "execution_count": 68,
   "id": "679622fa-de05-4ca9-a7ed-c80391560026",
   "metadata": {},
   "outputs": [],
   "source": [
    "bands = U.BandStructure.from_Pw(results,high_sym)"
   ]
  },
  {
   "cell_type": "code",
   "execution_count": 69,
   "id": "bab12460-03b2-4cf4-8e1b-0d4f2e5a3295",
   "metadata": {},
   "outputs": [
    {
     "data": {
      "text/plain": [
       "(['$\\\\Gamma$', '$\\\\Gamma$', 'K', 'M'],\n",
       " [0.0, 1.5773502657018026, 0.9106835999999987, 0.57735027])"
      ]
     },
     "execution_count": 69,
     "metadata": {},
     "output_type": "execute_result"
    }
   ],
   "source": [
    "bands.get_high_sym_positions()"
   ]
  },
  {
   "cell_type": "code",
   "execution_count": 70,
   "id": "9f68511c-1743-4525-bc56-afc2a5d52542",
   "metadata": {},
   "outputs": [
    {
     "data": {
      "image/png": "[encoded data removed]",
      "text/plain": [
       "<Figure size 720x576 with 1 Axes>"
      ]
     },
     "metadata": {
      "needs_background": "light"
     },
     "output_type": "display_data"
    }
   ],
   "source": [
    "label_size = 20\n",
    "\n",
    "fig, ax = plt.subplots(figsize=(10, 8))\n",
    "#ax.set_ylim(-5,7)\n",
    "bands.plot(plt,selection=[i for i in range(24,32)])\n",
    "ax.hlines(0.,0.,1.57,linestyles='-',color='gray',linewidth=1)\n",
    "ax.set_ylabel('Bands structure (eV)',size=label_size)\n",
    "ax.tick_params(axis='both', which='major', labelsize=label_size)\n",
    "\n",
    "#plt.savefig(fname='Plot/band_structure.eps',format='eps',bbox_inches = \"tight\")"
   ]
  },
  {
   "cell_type": "markdown",
   "id": "4d60af1e-94a8-454b-b847-e61c87836acf",
   "metadata": {
    "tags": []
   },
   "source": [
    "## NSCF computations on regular grids"
   ]
  },
  {
   "cell_type": "markdown",
   "id": "5e957914-c88b-4fcf-94a9-7a34e0ac84a9",
   "metadata": {},
   "source": [
    "We set up the nscf computations on regular grids."
   ]
  },
  {
   "cell_type": "code",
   "execution_count": 50,
   "id": "2d482de1-2847-41af-846b-b3bd71e86147",
   "metadata": {},
   "outputs": [],
   "source": [
    "Gamma = np.array([0.,0.])\n",
    "K = np.array([2./3.,0])\n",
    "M = np.array([1./2.,1./(2*np.sqrt(3))])\n",
    "Kp = np.array([1./3.,1./np.sqrt(3)])\n",
    "Mp = np.array([0.,1./np.sqrt(3)])"
   ]
  },
  {
   "cell_type": "code",
   "execution_count": 70,
   "id": "5872c364-96ad-4047-a87c-f372c8551916",
   "metadata": {},
   "outputs": [
    {
     "data": {
      "text/plain": [
       "{'control': {'calculation': \"'nscf'\",\n",
       "  'verbosity': \"'high'\",\n",
       "  'prefix': \"'kpoints_72-nbnds_30'\",\n",
       "  'outdir': \"'./'\",\n",
       "  'pseudo_dir': \"'../pseudos'\"},\n",
       " 'system': {'force_symmorphic': '.true.',\n",
       "  'nbnd': 500,\n",
       "  'lspinorb': '.true.',\n",
       "  'noncolin': '.true.',\n",
       "  'ntyp': '1',\n",
       "  'nat': '2',\n",
       "  'ibrav': 4,\n",
       "  'celldm(1)': 8.71966,\n",
       "  'celldm(3)': 2.86708426704711,\n",
       "  'ecutwfc': 80},\n",
       " 'electrons': {'diago_full_acc': '.false.', 'conv_thr': 1e-06},\n",
       " 'ions': {},\n",
       " 'cell': {},\n",
       " 'atomic_species': {'Sn': [118.71, 'Sn_ONCV_PBE_FR-1.1.upf']},\n",
       " 'atomic_positions': {'type': 'alat',\n",
       "  'values': [['Sn', array([0.        , 0.57735027, 0.090514  ])],\n",
       "   ['Sn', array([ 0.5       ,  0.28867513, -0.090514  ])]]},\n",
       " 'kpoints': {'type': 'automatic', 'values': ([72, 72, 1], [0.0, 0.0, 0.0])},\n",
       " 'cell_parameters': {}}"
      ]
     },
     "execution_count": 70,
     "metadata": {},
     "output_type": "execute_result"
    }
   ],
   "source": [
    "nbnds = 500 #30\n",
    "inp.set_nscf(nbnds,force_symmorphic=True,conv_thr=1e-6)\n",
    "inp"
   ]
  },
  {
   "cell_type": "code",
   "execution_count": 71,
   "id": "6158de2a-15db-446f-9a9f-bcdc184a4c70",
   "metadata": {},
   "outputs": [],
   "source": [
    "kvalues = [18] #[18,30,42,60,72]"
   ]
  },
  {
   "cell_type": "code",
   "execution_count": 72,
   "id": "e38422cb-1e04-46cf-b202-2829c55938fa",
   "metadata": {},
   "outputs": [
    {
     "name": "stdout",
     "output_type": "stream",
     "text": [
      "Initialize a Dataset with 2 parallel tasks\n"
     ]
    }
   ],
   "source": [
    "study = D.Dataset(run_dir=run_dir,num_tasks=2)\n",
    "study.set_postprocessing_function(PP.pw_parse_data)\n",
    "\n",
    "for k in kvalues:\n",
    "    idd = {'kpoints':k,'nbnds':nbnds}\n",
    "    inp.set_prefix(D.name_from_id(idd))\n",
    "    inp.set_kpoints(points=[k,k,1])\n",
    "    study.append_run(id=idd,input=inp,runner=code,source_dir='DFT_analysis-ONCV/gs_converged.save')"
   ]
  },
  {
   "cell_type": "code",
   "execution_count": 74,
   "id": "cef5f9a1-ea58-4b33-b719-2fbfca2da5c0",
   "metadata": {},
   "outputs": [],
   "source": [
    "#study.runs[0]"
   ]
  },
  {
   "cell_type": "code",
   "execution_count": null,
   "id": "2936d7bf-43ae-4b8d-9cf0-99382f9fe33f",
   "metadata": {},
   "outputs": [
    {
     "name": "stdout",
     "output_type": "stream",
     "text": [
      "Run the selection [0] with the parallel task_groups [[0]] \n",
      "\n",
      "Run the task [0] \n",
      "copy source_dir DFT_analysis-ONCV/gs_converged.save in the /work/dalessandro/2D_ELECTRONIC_OPTICAL_PROPERTIES/Xenes/Stanene/DFT_analysis-ONCV/kpoints_18-nbnds_500.save\n",
      "run command: mpirun -np 16 pw.x -inp kpoints_18-nbnds_500.in > kpoints_18-nbnds_500.log\n",
      "slurm submit:  cd DFT_analysis-ONCV ; sbatch job_kpoints_18-nbnds_500.sh\n",
      "computation kpoints_18-nbnds_500 is running...\n"
     ]
    }
   ],
   "source": [
    "results = study.run()"
   ]
  },
  {
   "cell_type": "code",
   "execution_count": 62,
   "id": "f8aa9450-b099-425d-a330-757c7e80bc4a",
   "metadata": {},
   "outputs": [
    {
     "name": "stdout",
     "output_type": "stream",
     "text": [
      "Direct gap system\n",
      "=================\n",
      "Gap : 0.08838303683896637 eV\n"
     ]
    },
    {
     "data": {
      "text/plain": [
       "{'gap': 0.08838303683896637,\n",
       " 'direct_gap': 0.08838303683896637,\n",
       " 'position_cbm': 36,\n",
       " 'positon_vbm': 36,\n",
       " 'positon_direct_gap': 36}"
      ]
     },
     "execution_count": 62,
     "metadata": {},
     "output_type": "execute_result"
    }
   ],
   "source": [
    "results[0].get_gap()"
   ]
  },
  {
   "cell_type": "code",
   "execution_count": 68,
   "id": "c5665eb9-1a6c-404c-ac7e-3be7afb20091",
   "metadata": {},
   "outputs": [],
   "source": [
    "kp = results[4].kpoints # cartesian coordinates in units of 2\\pi/alat"
   ]
  },
  {
   "cell_type": "code",
   "execution_count": 69,
   "id": "f0627ce8-d57f-4eec-811a-7d42ea42f12a",
   "metadata": {},
   "outputs": [
    {
     "name": "stdout",
     "output_type": "stream",
     "text": [
      "number of kpoints = 469\n"
     ]
    },
    {
     "data": {
      "text/plain": [
       "<matplotlib.collections.PathCollection at 0x7fa2995ea400>"
      ]
     },
     "execution_count": 69,
     "metadata": {},
     "output_type": "execute_result"
    },
    {
     "data": {
      "image/png": "[encoded data removed]",
      "text/plain": [
       "<Figure size 432x288 with 1 Axes>"
      ]
     },
     "metadata": {
      "needs_background": "light"
     },
     "output_type": "display_data"
    }
   ],
   "source": [
    "BZ = [K, Kp, Mp]\n",
    "print('number of kpoints = %s'%len(kp))\n",
    "plt.plot(*np.column_stack(BZ),color='black')\n",
    "IBZ = [Gamma,Kp, Mp,Gamma]\n",
    "plt.plot(*np.column_stack(IBZ),color='red')\n",
    "plt.scatter(kp[:,0],kp[:,1],c='blue')"
   ]
  },
  {
   "cell_type": "code",
   "execution_count": null,
   "id": "41a5caf7-45c2-4507-8948-aee084102b1e",
   "metadata": {},
   "outputs": [],
   "source": []
  },
  {
   "cell_type": "code",
   "execution_count": null,
   "id": "c689f475-525a-40b9-bb47-bff9ea343570",
   "metadata": {},
   "outputs": [],
   "source": []
  },
  {
   "cell_type": "code",
   "execution_count": null,
   "id": "7e16f56b-48f4-43ba-b9dc-2ffd51bb28ec",
   "metadata": {},
   "outputs": [],
   "source": []
  },
  {
   "cell_type": "code",
   "execution_count": null,
   "id": "1a5b711c-9a10-4ede-8ae0-c7acca5508e1",
   "metadata": {},
   "outputs": [],
   "source": []
  }
 ],
 "metadata": {
  "kernelspec": {
   "display_name": "Python 3",
   "language": "python",
   "name": "python3"
  },
  "language_info": {
   "codemirror_mode": {
    "name": "ipython",
    "version": 3
   },
   "file_extension": ".py",
   "mimetype": "text/x-python",
   "name": "python",
   "nbconvert_exporter": "python",
   "pygments_lexer": "ipython3",
   "version": "3.6.8"
  }
 },
 "nbformat": 4,
 "nbformat_minor": 5
}

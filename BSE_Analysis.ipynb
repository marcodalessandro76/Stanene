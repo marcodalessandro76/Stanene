{
 "cells": [
  {
   "cell_type": "code",
   "execution_count": 1,
   "metadata": {},
   "outputs": [],
   "source": [
    "# useful to autoreload the module without restarting the kernel\n",
    "%load_ext autoreload\n",
    "%autoreload 2"
   ]
  },
  {
   "cell_type": "code",
   "execution_count": 2,
   "metadata": {},
   "outputs": [],
   "source": [
    "from mppi import InputFiles as I, Calculators as C, Datasets as D, Parsers as P, Utilities as U\n",
    "from mppi.Calculators import Tools\n",
    "from mppi.Datasets import PostProcessing as PP\n",
    "import matplotlib.pyplot as plt\n",
    "import numpy as np\n",
    "import os"
   ]
  },
  {
   "cell_type": "code",
   "execution_count": null,
   "metadata": {},
   "outputs": [],
   "source": [
    "# RunRules for local computations\n",
    "mpi = 4\n",
    "omp = 2\n",
    "\n",
    "rr = C.RunRules(omp_num_threads=omp,mpi=mpi)\n",
    "code = C.QeCalculator(rr)\n",
    "#code.global_options()"
   ]
  },
  {
   "cell_type": "code",
   "execution_count": null,
   "metadata": {},
   "outputs": [],
   "source": [
    "# RunRules for ismhpc\n",
    "# The product of ntasks_per_node*cpus_per_task is equal to 32. \n",
    "# Many mpi are needed for better performances\n",
    "nodes = 1\n",
    "ntasks_per_node = 32 #16\n",
    "cpus_per_task = 1 #2\n",
    "omp_num_threads = 1 #2\n",
    "\n",
    "ntasks = nodes*ntasks_per_node\n",
    "\n",
    "rr = C.RunRules(scheduler='slurm',partition='all12h', #'all12h',\n",
    "                memory='125000',\n",
    "                nodes=nodes,ntasks_per_node=ntasks_per_node,\n",
    "                cpus_per_task=cpus_per_task,\n",
    "                omp_num_threads=omp_num_threads)\n",
    "code = C.YamboCalculator(rr,activate_BeeOND=True) #,reformat=False,clean_restart=False,skip=False,fatlog=True)\n",
    "code.global_options()"
   ]
  },
  {
   "cell_type": "code",
   "execution_count": 27,
   "metadata": {},
   "outputs": [
    {
     "name": "stdout",
     "output_type": "stream",
     "text": [
      "Initialize a Yambo calculator with scheduler slurm\n"
     ]
    },
    {
     "data": {
      "text/plain": [
       "{'scheduler': 'slurm',\n",
       " 'nodes': 8,\n",
       " 'ntasks_per_node': 4,\n",
       " 'cpus_per_task': 32,\n",
       " 'omp_num_threads': 8,\n",
       " 'gpus_per_node': 4,\n",
       " 'memory': '120GB',\n",
       " 'time': '23:59:00',\n",
       " 'partition': 'm100_usr_prod',\n",
       " 'account': 'IscrC_PrExIn',\n",
       " 'qos': None,\n",
       " 'map_by': 'socket',\n",
       " 'pe': 8,\n",
       " 'rank_by': 'core',\n",
       " 'executable': 'yambo',\n",
       " 'skip': True,\n",
       " 'clean_restart': True,\n",
       " 'dry_run': False,\n",
       " 'wait_end_run': True,\n",
       " 'activate_BeeOND': False,\n",
       " 'verbose': True,\n",
       " 'fatlog': False}"
      ]
     },
     "execution_count": 27,
     "metadata": {},
     "output_type": "execute_result"
    }
   ],
   "source": [
    "# RunRules for m100\n",
    "nodes = 8 # 16\n",
    "ntasks_per_node = 4\n",
    "cpus_per_task=32\n",
    "omp_num_threads=8\n",
    "gpus_per_node=4\n",
    "pe=8\n",
    "\n",
    "ntasks = nodes*ntasks_per_node\n",
    "\n",
    "rr = C.RunRules(scheduler='slurm',partition='m100_usr_prod',\n",
    "                account='IscrC_PrExIn',\n",
    "                memory='240GB',time='23:59:00',\n",
    "                nodes=nodes,ntasks_per_node=ntasks_per_node,\n",
    "                cpus_per_task=cpus_per_task,omp_num_threads=omp_num_threads,\n",
    "                gpus_per_node=gpus_per_node,pe=pe,\n",
    "                map_by='socket',rank_by='core')\n",
    "code = C.YamboCalculator(rr)\n",
    "code.global_options()"
   ]
  },
  {
   "cell_type": "markdown",
   "metadata": {
    "tags": []
   },
   "source": [
    "# BSE analysis for Stanene monolayer"
   ]
  },
  {
   "cell_type": "markdown",
   "metadata": {},
   "source": [
    "We compute the absorption spectrum of the monolayer Stanene within the BSE framework.\n",
    "\n",
    "The aim of this analysis is to compute the binding energy of the first exciton and to identify\n",
    "the converged values of the relevant parameters."
   ]
  },
  {
   "cell_type": "markdown",
   "metadata": {},
   "source": [
    "First we build and init the run directories and perform link of the ndb database computed\n",
    "in the GW analysis"
   ]
  },
  {
   "cell_type": "code",
   "execution_count": 7,
   "metadata": {},
   "outputs": [
    {
     "name": "stdout",
     "output_type": "stream",
     "text": [
      "SAVE folder DFT_analysis/kpoints_72-nbnds_500.save/SAVE already present. No operations performed.\n",
      "SAVE folder already present in BSE_analysis/kpoints_72-nbnds_500. No operations performed.\n"
     ]
    }
   ],
   "source": [
    "kpoints = [72] #[18,30]\n",
    "\n",
    "for k in kpoints:\n",
    "    source_dir = 'DFT_analysis/kpoints_%s-nbnds_500.save'%k\n",
    "    run_dir = 'BSE_analysis/kpoints_%s-nbnds_500'%k\n",
    "    Tools.init_yambo_run_dir(Tools.make_p2y(source_dir),run_dir=run_dir)"
   ]
  },
  {
   "cell_type": "markdown",
   "metadata": {},
   "source": [
    "We create a link of the folders with the ndb_em1d and with the ndb_rim_cutoff databases created in the _GW_analysis_ in the _BSE_analysis_ folder"
   ]
  },
  {
   "cell_type": "code",
   "execution_count": 11,
   "metadata": {},
   "outputs": [],
   "source": [
    "def find_ndbs(path):\n",
    "    ndbs =  []\n",
    "    files = os.listdir(path)\n",
    "    for f in files:\n",
    "        if 'ndb_em1d' in f or 'ndb_rim' in f : ndbs.append(os.path.abspath(os.path.join(path,f)))\n",
    "    return ndbs\n",
    "\n",
    "def make_link(ndbs,dest):\n",
    "    abs_dest = os.path.abspath(dest)\n",
    "    for ndb in ndbs:\n",
    "        ndb_name = ndb.split('/')[-1]\n",
    "        target = os.path.join(abs_dest,ndb_name)\n",
    "        if not os.path.isdir(target):\n",
    "            print(ndb,target)\n",
    "            os.symlink(ndb,target,target_is_directory=True)"
   ]
  },
  {
   "cell_type": "code",
   "execution_count": 12,
   "metadata": {},
   "outputs": [
    {
     "name": "stdout",
     "output_type": "stream",
     "text": [
      "/m100_work/IscrC_PrExIn/Stanene/GW_analysis/kpoints_72-nbnds_500/ndb_em1d-ngsblkxp_8.0-bndsrnxp_500 /m100_work/IscrC_PrExIn/Stanene/BSE_analysis/kpoints_72-nbnds_500/ndb_em1d-ngsblkxp_8.0-bndsrnxp_500\n",
      "/m100_work/IscrC_PrExIn/Stanene/GW_analysis/kpoints_72-nbnds_500/ndb_rim_cutoff /m100_work/IscrC_PrExIn/Stanene/BSE_analysis/kpoints_72-nbnds_500/ndb_rim_cutoff\n"
     ]
    }
   ],
   "source": [
    "for k in kpoints:\n",
    "    ndbs = find_ndbs('GW_analysis/kpoints_%s-nbnds_500/'%k)\n",
    "    make_link(ndbs,'BSE_analysis/kpoints_%s-nbnds_500/'%k)"
   ]
  },
  {
   "cell_type": "markdown",
   "metadata": {
    "tags": []
   },
   "source": [
    "## BSE convergence analysis"
   ]
  },
  {
   "cell_type": "markdown",
   "metadata": {},
   "source": [
    "We test the optimal BSE parameters by constructing the absorption spectrum. \n",
    "In this way we analyze the effects of the relevant parameters of a BSE calculation\n",
    "and we study the convergence w.r.t to the $k$-points sampling.\n",
    "\n",
    "The analysis is performed on-top of the DFT computations using a scissor to reproduce the \n",
    "GW gap"
   ]
  },
  {
   "cell_type": "code",
   "execution_count": 28,
   "metadata": {},
   "outputs": [
    {
     "name": "stdout",
     "output_type": "stream",
     "text": [
      "scissor 0.09899999999999999\n"
     ]
    }
   ],
   "source": [
    "dft_gap = 0.077\n",
    "gw_gap = 0.176 #\n",
    "scissor = gw_gap-dft_gap # eV\n",
    "print('scissor',scissor)\n",
    "kpoints = [18,30,72]"
   ]
  },
  {
   "cell_type": "markdown",
   "metadata": {},
   "source": [
    "We perform this analysis in the 18x18x1 grid using the slepc solver and we are\n",
    "interested in the first excitonic energy.\n",
    "\n",
    "We have analyzed the convergence of the exciton energy w.r.t the BSENGBlk value and the\n",
    "number of BSEBands. The values reported below ensure convergence."
   ]
  },
  {
   "cell_type": "code",
   "execution_count": 29,
   "metadata": {},
   "outputs": [
    {
     "name": "stdout",
     "output_type": "stream",
     "text": [
      "Initialize a Dataset with 1 parallel tasks\n"
     ]
    }
   ],
   "source": [
    "k = kpoints[2]\n",
    "run_dir = 'BSE_analysis/kpoints_%s-nbnds_500/'%k\n",
    "\n",
    "RandGvec = 200\n",
    "Randqpts = 5e6\n",
    "RandGvecW = 10\n",
    "EXXRLvcs = 60. # Ha\n",
    "EXXRLVcs_units = 'Ha'\n",
    "\n",
    "BSENGBlk = 3.0 # Ha  value of the BSENGBlk variable (it can be reduced w.r.t the NGsBlkXs!)\n",
    "EXXRLvcs = 60. # Ha use this value for the BSENGexx variable\n",
    "FFTGvecs = 30. # Ha\n",
    "elec_field = [1.,0.,0.]\n",
    "BSEBands = [25,30] #,[27,30],[25,32]]\n",
    "BEnRange = [-0.5,1] # eV\n",
    "BEnSteps = 1000\n",
    "BSSNEig = 20 # number of excitonic eigenvalues\n",
    "damping = [0.03,0.03] # eV\n",
    "\n",
    "study = D.Dataset(num_tasks=1,verbose=True,skip=True)\n",
    "study.set_postprocessing_function(PP.yambo_parse_data)\n",
    "\n",
    "#inp = I.YamboInput('yambo -r -o b -k sex -y s',folder=run_dir)\n",
    "inp = I.YamboInput('mpirun -np 1 yambo -r -o b -k sex -y s',folder=run_dir)\n",
    "inp.activate_RIM_W()   \n",
    "inp.set_scalar_variables(CUTGeo='slab z')\n",
    "inp.set_array_variables(RandQpts=Randqpts)\n",
    "inp.set_array_variables(units='RL',RandGvec=RandGvec,RandGvecW=RandGvecW)\n",
    "inp.set_array_variables(units='Ha',BSENGexx=EXXRLvcs,BSENGBlk=BSENGBlk,FFTGvecs=FFTGvecs)\n",
    "inp.set_array_variables(BLongDir=elec_field,KfnQP_E=[scissor,1.,1.])\n",
    "inp.set_array_variables(BSEBands=BSEBands,BEnSteps=BEnSteps,BSSNEig=BSSNEig)\n",
    "inp.set_array_variables(units='eV',BEnRange=BEnRange,BDmRange=damping)\n",
    "inp.set_scalar_variables(BSEprop= 'abs esrt')\n",
    "#inp.set_scalar_variables(DBsIOoff='BS') # turn off the I/O of the BSE kernel\n",
    "inp.set_scalar_variables(BS_CPU='32.1.1',BS_ROLEs= 'k.eh.t')     \n",
    "#inp['variables']['BS_ROLEs'] = 'k.eh.t' \n",
    "#inp['variables']['BS_CPU'] = '4.8.1' # 2 nodes ismhpc and 8 nodes m100\n",
    "#inp['variables']['BS_CPU'] = '1.8.1' # 2 nodes m100\n",
    "idd = 'bse_slepc_test'\n",
    "study.append_run(id=idd,input=inp,runner=code,run_dir=run_dir,\n",
    "    jobname=[idd,'ndb_em1d-ngsblkxp_8.0-bndsrnxp_500','ndb_rim_cutoff','ndb_dipoles'],reformat=False)"
   ]
  },
  {
   "cell_type": "code",
   "execution_count": 30,
   "metadata": {},
   "outputs": [
    {
     "data": {
      "text/plain": [
       "{'label': 'Dataset',\n",
       " 'run_dir': 'BSE_analysis/kpoints_72-nbnds_500/',\n",
       " 'num_tasks': 1,\n",
       " 'verbose': True,\n",
       " 'skip': True,\n",
       " 'input': {'args': 'mpirun -np 1 yambo -r -o b -k sex -y s',\n",
       "  'folder': 'BSE_analysis/kpoints_72-nbnds_500/',\n",
       "  'filename': 'yambo.in',\n",
       "  'arguments': ['rim_cut',\n",
       "   'bse',\n",
       "   'optics',\n",
       "   'bss',\n",
       "   'WRbsWF',\n",
       "   'photolum',\n",
       "   'RIM_W'],\n",
       "  'variables': {'DIP_Threads': [0.0, ''],\n",
       "   'X_Threads': [0.0, ''],\n",
       "   'K_Threads': [0.0, ''],\n",
       "   'RandQpts': [5000000.0, ''],\n",
       "   'RandGvec': [200, 'RL'],\n",
       "   'CUTRadius': [0.0, ''],\n",
       "   'CUTCylLen': [0.0, ''],\n",
       "   'CUTwsGvec': [0.7, ''],\n",
       "   'BSENGexx': [60.0, 'Ha'],\n",
       "   'BSENGBlk': [3.0, 'Ha'],\n",
       "   'BEnSteps': [1000, ''],\n",
       "   'BSSNEig': [20, ''],\n",
       "   'BSSEnTarget': [0.0, 'eV'],\n",
       "   'BSSSlepcMaxIt': [0.0, ''],\n",
       "   'CUTGeo': 'slab z',\n",
       "   'BSKmod': 'SEX',\n",
       "   'BSEmod': 'resonant',\n",
       "   'BSSmod': 's',\n",
       "   'BSEprop': 'abs esrt',\n",
       "   'BSEdips': 'none',\n",
       "   'CUTBox': [[0.0, 0.0, 0.0], ''],\n",
       "   'BSEQptR': [[1, 1], ''],\n",
       "   'BSEBands': [[25, 30], ''],\n",
       "   'BEnRange': [[-0.5, 1], 'eV'],\n",
       "   'BDmRange': [[0.03, 0.03], 'eV'],\n",
       "   'BLongDir': [[1.0, 0.0, 0.0], ''],\n",
       "   'RandGvecW': [10, 'RL'],\n",
       "   'FFTGvecs': [30.0, 'Ha'],\n",
       "   'KfnQP_E': [[0.09899999999999999, 1.0, 1.0], ''],\n",
       "   'BS_CPU': '32.1.1',\n",
       "   'BS_ROLEs': 'k.eh.t'}},\n",
       " 'jobname': ['bse_slepc_test',\n",
       "  'ndb_em1d-ngsblkxp_8.0-bndsrnxp_500',\n",
       "  'ndb_rim_cutoff',\n",
       "  'ndb_dipoles'],\n",
       " 'reformat': False,\n",
       " 'name': 'bse_slepc_test'}"
      ]
     },
     "execution_count": 30,
     "metadata": {},
     "output_type": "execute_result"
    }
   ],
   "source": [
    "study.runs[0]"
   ]
  },
  {
   "cell_type": "code",
   "execution_count": null,
   "metadata": {},
   "outputs": [
    {
     "name": "stdout",
     "output_type": "stream",
     "text": [
      "Run the selection [0] with the parallel task_groups [[0]] \n",
      "\n",
      "Run the task [0] \n",
      "run command: mpirun -np 32 --map-by socket:PE=8 --rank-by core yambo -F bse_slepc_test.in -J \"bse_slepc_test,ndb_em1d-ngsblkxp_8.0-bndsrnxp_500,ndb_rim_cutoff,ndb_dipoles\" -C bse_slepc_test\n",
      "slurm submit:  cd BSE_analysis/kpoints_72-nbnds_500/ ; sbatch job_bse_slepc_test.sh\n",
      "computation bse_slepc_test is running...\n",
      "Submitted batch job 8937144\n"
     ]
    }
   ],
   "source": [
    "results = study.run()"
   ]
  },
  {
   "cell_type": "markdown",
   "metadata": {},
   "source": [
    "Result for the 72x72x1"
   ]
  },
  {
   "cell_type": "code",
   "execution_count": 32,
   "metadata": {},
   "outputs": [
    {
     "data": {
      "text/plain": [
       "array([0.098791, 0.163815, 0.166006, 0.16756 , 0.169357, 0.172309])"
      ]
     },
     "execution_count": 32,
     "metadata": {},
     "output_type": "execute_result"
    }
   ],
   "source": [
    "exc_eng = results[0].data['Esort_q1_slepc_bse']['energy']\n",
    "exc_eng"
   ]
  },
  {
   "cell_type": "code",
   "execution_count": 33,
   "metadata": {},
   "outputs": [
    {
     "data": {
      "text/plain": [
       "0.07720899999999999"
      ]
     },
     "execution_count": 33,
     "metadata": {},
     "output_type": "execute_result"
    }
   ],
   "source": [
    "bind_eng = gw_gap-exc_eng[0]\n",
    "bind_eng"
   ]
  },
  {
   "cell_type": "code",
   "execution_count": 35,
   "metadata": {},
   "outputs": [
    {
     "data": {
      "text/plain": [
       "<matplotlib.legend.Legend at 0x7fff675128b0>"
      ]
     },
     "execution_count": 35,
     "metadata": {},
     "output_type": "execute_result"
    },
    {
     "data": {
      "image/png": "[encoded data removed]",
      "text/plain": [
       "<Figure size 720x576 with 1 Axes>"
      ]
     },
     "metadata": {
      "needs_background": "light"
     },
     "output_type": "display_data"
    }
   ],
   "source": [
    "fig, ax = plt.subplots(figsize=(10, 8))\n",
    "\n",
    "data = results[0].data['eps_q1_slepc_bse']\n",
    "energy = data['energy']\n",
    "eps_im = data['eps_imag']\n",
    "eps_o_im = data['eps_o_imag']\n",
    "ax.plot(energy,eps_im,label='bse') \n",
    "ax.plot(energy,eps_o_im,label='ip') \n",
    "ax.vlines(gw_gap,-1,10,linestyles='--',color='red',linewidth=2)\n",
    "#ax.set_xlim(1.5,4)\n",
    "ax.set_ylim(-1e-4,5e-3)\n",
    "ax.set_ylabel('Abs spectrum',size=20)\n",
    "ax.set_xlabel('energy (eV)',size=20)\n",
    "ax.legend(fontsize=14)"
   ]
  },
  {
   "cell_type": "markdown",
   "metadata": {},
   "source": [
    "Result for the 30x30x1"
   ]
  },
  {
   "cell_type": "code",
   "execution_count": 20,
   "metadata": {},
   "outputs": [
    {
     "data": {
      "text/plain": [
       "array([0.099427, 0.100832, 0.294652, 0.320013, 0.331203, 0.332561,\n",
       "       0.336927])"
      ]
     },
     "execution_count": 20,
     "metadata": {},
     "output_type": "execute_result"
    }
   ],
   "source": [
    "exc_eng = results[0].data['Esort_q1_slepc_bse']['energy']\n",
    "exc_eng"
   ]
  },
  {
   "cell_type": "code",
   "execution_count": 21,
   "metadata": {},
   "outputs": [
    {
     "data": {
      "text/plain": [
       "0.07657299999999999"
      ]
     },
     "execution_count": 21,
     "metadata": {},
     "output_type": "execute_result"
    }
   ],
   "source": [
    "bind_eng = gw_gap-exc_eng[0]\n",
    "bind_eng"
   ]
  },
  {
   "cell_type": "code",
   "execution_count": 24,
   "metadata": {},
   "outputs": [
    {
     "data": {
      "text/plain": [
       "<matplotlib.legend.Legend at 0x7f27860e0240>"
      ]
     },
     "execution_count": 24,
     "metadata": {},
     "output_type": "execute_result"
    },
    {
     "data": {
      "image/png": "[encoded data removed]",
      "text/plain": [
       "<Figure size 720x576 with 1 Axes>"
      ]
     },
     "metadata": {
      "needs_background": "light"
     },
     "output_type": "display_data"
    }
   ],
   "source": [
    "fig, ax = plt.subplots(figsize=(10, 8))\n",
    "\n",
    "data = results[0].data['eps_q1_slepc_bse']\n",
    "energy = data['energy']\n",
    "eps_im = data['eps_imag']\n",
    "eps_o_im = data['eps_o_imag']\n",
    "ax.plot(energy,eps_im,label='bse') \n",
    "ax.plot(energy,eps_o_im,label='ip') \n",
    "ax.vlines(gw_gap,-1,10,linestyles='--',color='red',linewidth=2)\n",
    "#ax.set_xlim(1.5,4)\n",
    "ax.set_ylim(-1e-4,2e-2)\n",
    "ax.set_ylabel('Abs spectrum',size=20)\n",
    "ax.set_xlabel('energy (eV)',size=20)\n",
    "ax.legend(fontsize=14)"
   ]
  },
  {
   "cell_type": "markdown",
   "metadata": {},
   "source": [
    "Result for the 18x18x1"
   ]
  },
  {
   "cell_type": "code",
   "execution_count": 17,
   "metadata": {},
   "outputs": [
    {
     "data": {
      "text/plain": [
       "array([0.117597, 0.12094 , 0.313112, 0.314991, 0.519655, 0.549074,\n",
       "       0.557604])"
      ]
     },
     "execution_count": 17,
     "metadata": {},
     "output_type": "execute_result"
    }
   ],
   "source": [
    "exc_eng = results[0].data['Esort_q1_slepc_bse']['energy']\n",
    "exc_eng"
   ]
  },
  {
   "cell_type": "code",
   "execution_count": 9,
   "metadata": {},
   "outputs": [
    {
     "data": {
      "text/plain": [
       "array([0.117597, 0.12094 , 0.313112, 0.314991, 0.519655, 0.549073,\n",
       "       0.557604])"
      ]
     },
     "execution_count": 9,
     "metadata": {},
     "output_type": "execute_result"
    }
   ],
   "source": [
    "exc_eng = results[0].data['Esort_q1_slepc_bse']['energy']\n",
    "exc_eng"
   ]
  },
  {
   "cell_type": "code",
   "execution_count": 10,
   "metadata": {},
   "outputs": [
    {
     "data": {
      "text/plain": [
       "0.058403"
      ]
     },
     "execution_count": 10,
     "metadata": {},
     "output_type": "execute_result"
    }
   ],
   "source": [
    "bind_eng = gw_gap-exc_eng[0]\n",
    "bind_eng"
   ]
  },
  {
   "cell_type": "code",
   "execution_count": 19,
   "metadata": {},
   "outputs": [
    {
     "data": {
      "text/plain": [
       "<matplotlib.legend.Legend at 0x7fc66bf3c390>"
      ]
     },
     "execution_count": 19,
     "metadata": {},
     "output_type": "execute_result"
    },
    {
     "data": {
      "image/png": "[encoded data removed]",
      "text/plain": [
       "<Figure size 720x576 with 1 Axes>"
      ]
     },
     "metadata": {
      "needs_background": "light"
     },
     "output_type": "display_data"
    }
   ],
   "source": [
    "fig, ax = plt.subplots(figsize=(10, 8))\n",
    "\n",
    "data = results[0].data['eps_q1_slepc_bse']\n",
    "energy = data['energy']\n",
    "eps_im = data['eps_imag']\n",
    "eps_o_im = data['eps_o_imag']\n",
    "ax.plot(energy,eps_im,label='bse') \n",
    "ax.plot(energy,eps_o_im,label='ip') \n",
    "ax.vlines(gw_gap,-1,10,linestyles='--',color='red',linewidth=2)\n",
    "#ax.set_xlim(1.5,4)\n",
    "ax.set_ylim(-1e-4,5e-2)\n",
    "ax.set_ylabel('Abs spectrum',size=20)\n",
    "ax.set_xlabel('energy (eV)',size=20)\n",
    "ax.legend(fontsize=14)"
   ]
  },
  {
   "cell_type": "markdown",
   "metadata": {},
   "source": [
    "Now we test the convergence of the excitonic energy w.r.t the k-points sampling"
   ]
  },
  {
   "cell_type": "code",
   "execution_count": null,
   "metadata": {},
   "outputs": [],
   "source": []
  },
  {
   "cell_type": "code",
   "execution_count": null,
   "metadata": {},
   "outputs": [],
   "source": []
  },
  {
   "cell_type": "code",
   "execution_count": null,
   "metadata": {},
   "outputs": [],
   "source": []
  },
  {
   "cell_type": "code",
   "execution_count": null,
   "metadata": {},
   "outputs": [],
   "source": []
  },
  {
   "cell_type": "code",
   "execution_count": null,
   "metadata": {},
   "outputs": [],
   "source": []
  },
  {
   "cell_type": "code",
   "execution_count": null,
   "metadata": {},
   "outputs": [],
   "source": []
  },
  {
   "cell_type": "code",
   "execution_count": null,
   "metadata": {},
   "outputs": [],
   "source": []
  }
 ],
 "metadata": {
  "kernelspec": {
   "display_name": "Python 3 (ipykernel)",
   "language": "python",
   "name": "python3"
  },
  "language_info": {
   "codemirror_mode": {
    "name": "ipython",
    "version": 3
   },
   "file_extension": ".py",
   "mimetype": "text/x-python",
   "name": "python",
   "nbconvert_exporter": "python",
   "pygments_lexer": "ipython3",
   "version": "3.8.2"
  }
 },
 "nbformat": 4,
 "nbformat_minor": 4
}

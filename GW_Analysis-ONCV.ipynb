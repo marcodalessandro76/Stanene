{
 "cells": [
  {
   "cell_type": "code",
   "execution_count": 1,
   "metadata": {},
   "outputs": [],
   "source": [
    "# useful to autoreload the module without restarting the kernel\n",
    "%load_ext autoreload\n",
    "%autoreload 2"
   ]
  },
  {
   "cell_type": "code",
   "execution_count": 2,
   "metadata": {},
   "outputs": [],
   "source": [
    "from mppi import InputFiles as I, Calculators as C, Datasets as D, Parsers as P, Utilities as U\n",
    "from mppi.Calculators import Tools\n",
    "from mppi.Datasets import PostProcessing as PP\n",
    "import matplotlib.pyplot as plt\n",
    "import numpy as np\n",
    "import os"
   ]
  },
  {
   "cell_type": "code",
   "execution_count": 15,
   "metadata": {},
   "outputs": [
    {
     "name": "stdout",
     "output_type": "stream",
     "text": [
      "rsync -rDzv --exclude={'*_fragments*','*_fragments_*','*wfc*','*.dat','.ipynb_checkpoints'} -n -e ssh m100:/m100/home/userexternal/mdaless1/work/Xenes/Stanene/GW_analysis '/m100_work/IscrC_PrExIn/Stanene/GW_analysis'\n"
     ]
    }
   ],
   "source": [
    "# sync the GW folder from m100 to the ismhpc\n",
    "dry_run = True\n",
    "rsync_str = \"rsync -rDzv --exclude={'*_fragment*','*_fragments_*','*wfc*','*.dat','.ipynb_checkpoints'} \"\n",
    "if dry_run: rsync_str += '-n '\n",
    "ssh_str = '-e ssh m100:/m100/home/userexternal/mdaless1/work/Xenes/Stanene/GW_analysis '\n",
    "dest_path = 'GW_analysis'\n",
    "dest_path = os.path.abspath(dest_path)\n",
    "dest_path = \"'%s'\"%dest_path\n",
    "command = rsync_str+ssh_str+dest_path\n",
    "print(command)"
   ]
  },
  {
   "cell_type": "code",
   "execution_count": null,
   "metadata": {},
   "outputs": [],
   "source": [
    "# RunRules for local computations\n",
    "mpi = 4\n",
    "omp = 2\n",
    "\n",
    "rr = C.RunRules(omp_num_threads=omp,mpi=mpi)\n",
    "code = C.QeCalculator(rr)\n",
    "#code.global_options()"
   ]
  },
  {
   "cell_type": "code",
   "execution_count": 37,
   "metadata": {},
   "outputs": [
    {
     "name": "stdout",
     "output_type": "stream",
     "text": [
      "Initialize a Yambo calculator with scheduler slurm\n"
     ]
    },
    {
     "data": {
      "text/plain": [
       "{'scheduler': 'slurm',\n",
       " 'nodes': 2,\n",
       " 'ntasks_per_node': 32,\n",
       " 'cpus_per_task': 1,\n",
       " 'omp_num_threads': 1,\n",
       " 'gpus_per_node': None,\n",
       " 'memory': '125000',\n",
       " 'time': None,\n",
       " 'partition': 'slownodes',\n",
       " 'account': None,\n",
       " 'qos': None,\n",
       " 'map_by': None,\n",
       " 'pe': 1,\n",
       " 'rank_by': None,\n",
       " 'executable': 'yambo',\n",
       " 'skip': True,\n",
       " 'clean_restart': True,\n",
       " 'dry_run': False,\n",
       " 'wait_end_run': True,\n",
       " 'activate_BeeOND': True,\n",
       " 'verbose': True,\n",
       " 'fatlog': False}"
      ]
     },
     "execution_count": 37,
     "metadata": {},
     "output_type": "execute_result"
    }
   ],
   "source": [
    "# RunRules for ismhpc\n",
    "# The product of ntasks_per_node*cpus_per_task is equal to 32. \n",
    "# Many mpi are needed for better performances\n",
    "nodes = 2\n",
    "ntasks_per_node = 32 #16\n",
    "cpus_per_task = 1 #2\n",
    "omp_num_threads = 1 #2\n",
    "\n",
    "ntasks = nodes*ntasks_per_node\n",
    "\n",
    "rr = C.RunRules(scheduler='slurm',partition='slownodes',\n",
    "                memory='125000',\n",
    "                nodes=nodes,ntasks_per_node=ntasks_per_node,\n",
    "                cpus_per_task=cpus_per_task,\n",
    "                omp_num_threads=omp_num_threads)\n",
    "code = C.YamboCalculator(rr,activate_BeeOND=True) #,reformat=False,clean_restart=False,skip=False,fatlog=True)\n",
    "code.global_options()"
   ]
  },
  {
   "cell_type": "code",
   "execution_count": null,
   "metadata": {},
   "outputs": [],
   "source": [
    "# RunRules for m100\n",
    "nodes = 8 # 16\n",
    "ntasks_per_node = 4\n",
    "cpus_per_task=32\n",
    "omp_num_threads=8\n",
    "gpus_per_node=4\n",
    "pe=8\n",
    "\n",
    "ntasks = nodes*ntasks_per_node\n",
    "\n",
    "rr = C.RunRules(scheduler='slurm',partition='m100_usr_prod',\n",
    "                account='IscrC_PrExIn',\n",
    "                memory='240GB',time='23:59:00',\n",
    "                nodes=nodes,ntasks_per_node=ntasks_per_node,\n",
    "                cpus_per_task=cpus_per_task,omp_num_threads=omp_num_threads,\n",
    "                gpus_per_node=gpus_per_node,pe=pe,\n",
    "                map_by='socket',rank_by='core')\n",
    "code = C.YamboCalculator(rr)\n",
    "code.global_options()"
   ]
  },
  {
   "cell_type": "markdown",
   "metadata": {
    "tags": []
   },
   "source": [
    "# GW convergence analysis for Stanene monolayer"
   ]
  },
  {
   "cell_type": "markdown",
   "metadata": {},
   "source": [
    "We perform a convergence study for the GW runlevel"
   ]
  },
  {
   "cell_type": "markdown",
   "metadata": {},
   "source": [
    "## HF Analysis"
   ]
  },
  {
   "cell_type": "markdown",
   "metadata": {},
   "source": [
    "At this stage we do not repeat the convergence tests on the rim and Coulomb cutoff and we directly set\n",
    "the values of the converged parameters as\n",
    "\n",
    "* RandGVec = 200\n",
    "* RandQPpts = 5000000"
   ]
  },
  {
   "cell_type": "markdown",
   "metadata": {
    "tags": []
   },
   "source": [
    "### HF convergence analysis for the cutoff in the exchange term"
   ]
  },
  {
   "cell_type": "markdown",
   "metadata": {},
   "source": [
    "We study the convergence of the HF calculations in terms of the cutoff in the exchange term.\n",
    "\n",
    "This analysis is performed with a 18x18x1 k-points sampling using the converged results for RIM and Coulomb cutoff.\n",
    "\n",
    "__Note that we apply the cutoff on the EXXRLvcs variable while the VXCRLvcs is left to its DFT value__"
   ]
  },
  {
   "cell_type": "code",
   "execution_count": 4,
   "metadata": {},
   "outputs": [
    {
     "name": "stdout",
     "output_type": "stream",
     "text": [
      "SAVE folder GW_analysis-ONCV/kpoints_18-nbnds_30/SAVE already present. No operations performed.\n"
     ]
    }
   ],
   "source": [
    "input_dir = 'DFT_analysis-ONCV/kpoints_18-nbnds_30.save'\n",
    "run_dir = 'GW_analysis-ONCV/kpoints_18-nbnds_30'\n",
    "\n",
    "Tools.init_yambo_dir(yambo_dir=run_dir,input_dir=input_dir)"
   ]
  },
  {
   "cell_type": "markdown",
   "metadata": {},
   "source": [
    "We the define the input variables commmon to all the runs"
   ]
  },
  {
   "cell_type": "code",
   "execution_count": 5,
   "metadata": {},
   "outputs": [
    {
     "data": {
      "text/plain": [
       "{'args': 'yambo -r -x -V all',\n",
       " 'folder': 'GW_analysis-ONCV/kpoints_18-nbnds_30',\n",
       " 'filename': 'yambo.in',\n",
       " 'arguments': ['rim_cut', 'HF_and_locXC'],\n",
       " 'variables': {'StdoHash': [40.0, ''],\n",
       "  'Nelectro': [28.0, ''],\n",
       "  'ElecTemp': [0.0, 'eV'],\n",
       "  'BoseTemp': [-1.0, 'eV'],\n",
       "  'OccTresh': [1e-05, ''],\n",
       "  'NLogCPUs': [0.0, ''],\n",
       "  'MEM_tresh': [51200.0, 'Kb'],\n",
       "  'FFTGvecs': [23133.0, 'RL'],\n",
       "  'SE_Threads': [0.0, ''],\n",
       "  'RandQpts': [5000000.0, ''],\n",
       "  'RandGvec': [200, 'RL'],\n",
       "  'IDEm1Ref': [0.0, ''],\n",
       "  'CUTRadius': [0.0, ''],\n",
       "  'CUTCylLen': [0.0, ''],\n",
       "  'CUTwsGvec': [0.7, ''],\n",
       "  'EXXRLvcs': [159161.0, 'RL'],\n",
       "  'VXCRLvcs': [159161.0, 'RL'],\n",
       "  'DBsIOoff': 'none',\n",
       "  'DBsFRAGpm': 'none',\n",
       "  'PAR_def_mode': 'balanced',\n",
       "  'CUTGeo': 'slab z',\n",
       "  'Em1Anys': [[0.0, 0.0, 0.0], ''],\n",
       "  'CUTBox': [[0.0, 0.0, 0.0], ''],\n",
       "  'QPkrange': [[1, 37, 28, 29], ''],\n",
       "  'QPerange': [[1, 37, 0.0, '-1.000000'], '']}}"
      ]
     },
     "execution_count": 5,
     "metadata": {},
     "output_type": "execute_result"
    }
   ],
   "source": [
    "start_band,stop_band = 28,29 # bands range for the computation of the HF corrections\n",
    "Gamma_index, K_index = 1, 37\n",
    "RandGvec = 200\n",
    "Randqpts = 5e6\n",
    "\n",
    "EXXRLVcs_units = 'Ha'\n",
    "\n",
    "inp = I.YamboInput(args='yambo -r -x -V all',folder=run_dir)\n",
    "inp.set_scalar_variables(CUTGeo='slab z')\n",
    "inp.set_bandRange(start_band,stop_band)\n",
    "inp.set_array_variables(RandQpts=Randqpts)\n",
    "inp.set_array_variables(units='RL',RandGvec=RandGvec)\n",
    "inp"
   ]
  },
  {
   "cell_type": "markdown",
   "metadata": {},
   "source": [
    "We perform a convergence run on the EXXRLvcs parameter"
   ]
  },
  {
   "cell_type": "code",
   "execution_count": 6,
   "metadata": {},
   "outputs": [
    {
     "name": "stdout",
     "output_type": "stream",
     "text": [
      "Initialize a Dataset with 2 parallel tasks\n"
     ]
    }
   ],
   "source": [
    "study = D.Dataset(run_dir=run_dir,num_tasks=2,verbose=True)\n",
    "study.set_postprocessing_function(PP.yambo_parse_data)\n",
    "\n",
    "EXXRLvcs = [10.,20.,30.,40.,50.,60.,70.,80.,90.] # Ha\n",
    "\n",
    "# append runs for the Gamma point\n",
    "for exxrlvcs in EXXRLvcs:\n",
    "    idd = 'hf-G-exxrlvcs_%s'%exxrlvcs\n",
    "    inp.set_kRange(Gamma_index,Gamma_index)\n",
    "    inp.set_array_variables(units=EXXRLVcs_units,EXXRLvcs=exxrlvcs)\n",
    "    study.append_run(id=idd,input=inp,runner=code,jobname =idd)\n",
    "\n",
    "# append runs for the K point\n",
    "for exxrlvcs in EXXRLvcs:\n",
    "    idd = 'hf-K-exxrlvcs_%s'%exxrlvcs\n",
    "    inp.set_kRange(K_index,K_index)\n",
    "    inp.set_array_variables(units=EXXRLVcs_units,EXXRLvcs=exxrlvcs)\n",
    "    study.append_run(id=idd,input=inp,runner=code,jobname =idd)"
   ]
  },
  {
   "cell_type": "code",
   "execution_count": 7,
   "metadata": {},
   "outputs": [],
   "source": [
    "#study.runs[0]"
   ]
  },
  {
   "cell_type": "code",
   "execution_count": 9,
   "metadata": {},
   "outputs": [
    {
     "name": "stdout",
     "output_type": "stream",
     "text": [
      "Run the selection [0, 1, 2, 3, 4, 5, 6, 7, 8, 9, 10, 11, 12, 13, 14, 15, 16, 17] with the parallel task_groups [[0, 1], [2, 3], [4, 5], [6, 7], [8, 9], [10, 11], [12, 13], [14, 15], [16, 17]] \n",
      "\n",
      "Run the task [0, 1] \n",
      "Skip the run of hf-G-exxrlvcs_10.0Skip the run of\n",
      " hf-G-exxrlvcs_20.0\n",
      "Task [0, 1] ended \n",
      " \n",
      "Run the task [2, 3] \n",
      "Skip the run of hf-G-exxrlvcs_30.0Skip the run of\n",
      " hf-G-exxrlvcs_40.0\n",
      "Task [2, 3] ended \n",
      " \n",
      "Run the task [4, 5] \n",
      "Skip the run of hf-G-exxrlvcs_50.0Skip the run of\n",
      " hf-G-exxrlvcs_60.0\n",
      "Task [4, 5] ended \n",
      " \n",
      "Run the task [6, 7] \n",
      "Skip the run of hf-G-exxrlvcs_70.0Skip the run of\n",
      " hf-G-exxrlvcs_80.0\n",
      "Task [6, 7] ended \n",
      " \n",
      "Run the task [8, 9] \n",
      "Skip the run of hf-G-exxrlvcs_90.0\n",
      "Skip the run of hf-K-exxrlvcs_10.0\n",
      "Task [8, 9] ended \n",
      " \n",
      "Run the task [10, 11] \n",
      "Skip the run of hf-K-exxrlvcs_20.0Skip the run of\n",
      " hf-K-exxrlvcs_30.0\n",
      "Task [10, 11] ended \n",
      " \n",
      "Run the task [12, 13] \n",
      "Skip the run of hf-K-exxrlvcs_40.0\n",
      "Skip the run of hf-K-exxrlvcs_50.0\n",
      "Task [12, 13] ended \n",
      " \n",
      "Run the task [14, 15] \n",
      "Skip the run of hf-K-exxrlvcs_60.0\n",
      "Skip the run of hf-K-exxrlvcs_70.0\n",
      "Task [14, 15] ended \n",
      " \n",
      "Run the task [16, 17] \n",
      "Skip the run of hf-K-exxrlvcs_80.0Skip the run of\n",
      " hf-K-exxrlvcs_90.0\n",
      "Task [16, 17] ended \n",
      " \n"
     ]
    }
   ],
   "source": [
    "results = study.run()"
   ]
  },
  {
   "cell_type": "markdown",
   "metadata": {},
   "source": [
    "We plot the values of the gap (both at $\\Gamma$ and at $K$) point"
   ]
  },
  {
   "cell_type": "code",
   "execution_count": 10,
   "metadata": {},
   "outputs": [],
   "source": [
    "results_G, results_K = study.fetch_results(id='-G-'),study.fetch_results(id='-K-')\n",
    "gap_G = [r.data.get_gap(k_full=Gamma_index,band_full=start_band,verbose=False) for r in results_G]\n",
    "gap_K = [r.data.get_gap(k_full=K_index,band_full=start_band,verbose=False) for r in results_K]\n",
    "#gap_G,gap_K"
   ]
  },
  {
   "cell_type": "code",
   "execution_count": 11,
   "metadata": {},
   "outputs": [
    {
     "data": {
      "image/png": "[encoded data removed]",
      "text/plain": [
       "<Figure size 864x360 with 2 Axes>"
      ]
     },
     "metadata": {
      "needs_background": "light"
     },
     "output_type": "display_data"
    }
   ],
   "source": [
    "fig, axes = plt.subplots(nrows=1, ncols=2, figsize=(12, 5))\n",
    "axes[0].plot(EXXRLvcs,gap_G)\n",
    "axes[0].scatter(EXXRLvcs,gap_G)\n",
    "axes[0].set_title('Gap at Gamma',size=14)\n",
    "axes[0].set_xlabel('EXXRLvcs (Ha)',size=14)\n",
    "axes[1].plot(EXXRLvcs, gap_K)\n",
    "axes[1].scatter(EXXRLvcs,gap_K)\n",
    "axes[1].set_title('Gap at K',size=14)\n",
    "axes[1].set_xlabel('EXXRLvcs (Ha)',size=14)\n",
    "fig.tight_layout()"
   ]
  },
  {
   "cell_type": "markdown",
   "metadata": {},
   "source": [
    "On the basis of this analysis we choose the converged value of the cutoff for exchange as\n",
    "\n",
    "EXXRLvcs = 40 Ha"
   ]
  },
  {
   "cell_type": "markdown",
   "metadata": {
    "tags": []
   },
   "source": [
    "### HF Analysis in function of the k-points sampling"
   ]
  },
  {
   "cell_type": "markdown",
   "metadata": {},
   "source": [
    "We test the convergence of the HF gap at $K$ and at the $\\Gamma$ points in funciont of the dimension of the $k$-points sampling.\n",
    "\n",
    "The converged parameters for the RIM and Coulomb cutoff and for the cutoff on the exchange derived in the previous analysis will be used."
   ]
  },
  {
   "cell_type": "code",
   "execution_count": 30,
   "metadata": {},
   "outputs": [],
   "source": [
    "RandQpts = 5000000\n",
    "RandGvec = 200 \n",
    "\n",
    "start_band,stop_band = 28,29 # bands range for the computation of the HF corrections\n",
    "Gamma_index = {18:1,30:1,42:1,60:1,72:1}\n",
    "K_index = {18:37,30:91,42:169,60:331,72:469}\n",
    "\n",
    "EXXRLvcs = 40. # Ha\n",
    "EXXRLVcs_units = 'Ha'"
   ]
  },
  {
   "cell_type": "code",
   "execution_count": 31,
   "metadata": {},
   "outputs": [],
   "source": [
    "kpoints = [18,30,42,60,72]"
   ]
  },
  {
   "cell_type": "code",
   "execution_count": 32,
   "metadata": {},
   "outputs": [
    {
     "name": "stdout",
     "output_type": "stream",
     "text": [
      "Initialize a Dataset with 2 parallel tasks\n",
      "SAVE folder GW_analysis-ONCV/kpoints_18-nbnds_30/SAVE already present. No operations performed.\n",
      "SAVE folder GW_analysis-ONCV/kpoints_30-nbnds_30/SAVE already present. No operations performed.\n",
      "SAVE folder GW_analysis-ONCV/kpoints_42-nbnds_30/SAVE already present. No operations performed.\n",
      "SAVE folder GW_analysis-ONCV/kpoints_60-nbnds_30/SAVE already present. No operations performed.\n",
      "SAVE folder GW_analysis-ONCV/kpoints_72-nbnds_30/SAVE already present. No operations performed.\n"
     ]
    }
   ],
   "source": [
    "study = D.Dataset(num_tasks=2,verbose=True)\n",
    "study.set_postprocessing_function(PP.yambo_parse_data)\n",
    "\n",
    "for k in kpoints:\n",
    "    input_dir = 'DFT_analysis-ONCV/kpoints_%s-nbnds_30.save'%k\n",
    "    run_dir = 'GW_analysis-ONCV/kpoints_%s-nbnds_30'%k\n",
    "    Tools.init_yambo_dir(yambo_dir=run_dir,input_dir=input_dir)\n",
    "    \n",
    "    inp = I.YamboInput(args='yambo -r -x -V all',folder=run_dir)\n",
    "    inp.set_array_variables(units=EXXRLVcs_units,EXXRLvcs=EXXRLvcs) #,VXCRLvcs=EXXRLvcs)\n",
    "    inp.set_bandRange(start_band,stop_band)\n",
    "    inp.set_scalar_variables(CUTGeo='slab z')\n",
    "    inp.set_array_variables(RandQpts=RandQpts)\n",
    "    inp.set_array_variables(units='RL',RandGvec=RandGvec)\n",
    "    inp.set_scalar_variables(SE_ROLEs='q.qp.b',SE_CPU='2.1.16') # for 1 nodes on ismhpc (with 32 mpi and 1 omp per node)\n",
    "    \n",
    "    # append run at G\n",
    "    idd = 'hf-G-kpoints_%s'%k\n",
    "    inp.set_kRange(Gamma_index[k],Gamma_index[k])\n",
    "    study.append_run(id=idd,input=inp,runner=code,run_dir=run_dir,\n",
    "            jobname=[idd,'ndb_rim_cutoff'])\n",
    "    # append run at K\n",
    "    idd = 'hf-K-kpoints_%s'%k\n",
    "    inp.set_kRange(K_index[k],K_index[k])\n",
    "    study.append_run(id=idd,input=inp,runner=code,run_dir=run_dir,\n",
    "            jobname=[idd,'ndb_rim_cutoff'])"
   ]
  },
  {
   "cell_type": "code",
   "execution_count": 33,
   "metadata": {},
   "outputs": [],
   "source": [
    "#study.runs[0]"
   ]
  },
  {
   "cell_type": "code",
   "execution_count": 34,
   "metadata": {},
   "outputs": [
    {
     "name": "stdout",
     "output_type": "stream",
     "text": [
      "Run the selection [0, 1, 2, 3, 4, 5, 6, 7, 8, 9] with the parallel task_groups [[0, 1], [2, 3], [4, 5], [6, 7], [8, 9]] \n",
      "\n",
      "Run the task [0, 1] \n",
      "Skip the run of hf-G-kpoints_18\n",
      "Skip the run of hf-K-kpoints_18\n",
      "Task [0, 1] ended \n",
      " \n",
      "Run the task [2, 3] \n",
      "Skip the run of hf-G-kpoints_30\n",
      "Skip the run of hf-K-kpoints_30\n",
      "Task [2, 3] ended \n",
      " \n",
      "Run the task [4, 5] \n",
      "Skip the run of hf-G-kpoints_42\n",
      "Skip the run of hf-K-kpoints_42\n",
      "Task [4, 5] ended \n",
      " \n",
      "Run the task [6, 7] \n",
      "Skip the run of hf-G-kpoints_60Skip the run of\n",
      " hf-K-kpoints_60\n",
      "Task [6, 7] ended \n",
      " \n",
      "Run the task [8, 9] \n",
      "Skip the run of hf-G-kpoints_72\n",
      "delete job_out script: GW_analysis-ONCV/kpoints_72-nbnds_30/job_hf-K-kpoints_72.out\n",
      "delete folder: GW_analysis-ONCV/kpoints_72-nbnds_30/hf-K-kpoints_72\n",
      "run command: mpirun -np 16 yambo -F hf-K-kpoints_72.in -J \"hf-K-kpoints_72,ndb_rim_cutoff\" -C hf-K-kpoints_72\n",
      "slurm submit:  cd GW_analysis-ONCV/kpoints_72-nbnds_30 ; sbatch job_hf-K-kpoints_72.sh\n",
      "computation hf-K-kpoints_72 is running...\n",
      "computation hf-K-kpoints_72 ended\n",
      "Run performed in 07m-13s\n",
      "Task [8, 9] ended \n",
      " \n"
     ]
    }
   ],
   "source": [
    "results = study.run()"
   ]
  },
  {
   "cell_type": "code",
   "execution_count": 35,
   "metadata": {},
   "outputs": [
    {
     "data": {
      "text/plain": [
       "([3.924426, 3.869248, 3.86092, 3.860386, 3.860988],\n",
       " [1.058447, 0.906915, 0.858323, 0.8339890000000001, 0.828608])"
      ]
     },
     "execution_count": 35,
     "metadata": {},
     "output_type": "execute_result"
    }
   ],
   "source": [
    "results_G, results_K = study.fetch_results(id='-G-'),study.fetch_results(id='-K-')\n",
    "gap_G, gap_K = [],[]\n",
    "for ind,k in enumerate(kpoints):\n",
    "    gap_G.append(results_G[ind].data.get_gap(k_full=Gamma_index[k],band_full=start_band,verbose=False))\n",
    "    gap_K.append(results_K[ind].data.get_gap(k_full=K_index[k],band_full=start_band,verbose=False))\n",
    "gap_G, gap_K"
   ]
  },
  {
   "cell_type": "code",
   "execution_count": 36,
   "metadata": {},
   "outputs": [
    {
     "data": {
      "image/png": "[encoded data removed]",
      "text/plain": [
       "<Figure size 864x360 with 2 Axes>"
      ]
     },
     "metadata": {
      "needs_background": "light"
     },
     "output_type": "display_data"
    }
   ],
   "source": [
    "fig, axes = plt.subplots(nrows=1, ncols=2, figsize=(12, 5))\n",
    "axes[0].plot(kpoints,gap_G)\n",
    "axes[0].scatter(kpoints,gap_G)\n",
    "axes[0].set_title('Gap at Gamma',size=14)\n",
    "axes[0].set_xlabel('k-sampling',size=14)\n",
    "axes[1].plot(kpoints, gap_K)\n",
    "axes[1].scatter(kpoints,gap_K)\n",
    "axes[1].set_title('Gap at K',size=14)\n",
    "axes[1].set_xlabel('k-sampling',size=14)\n",
    "fig.tight_layout()"
   ]
  },
  {
   "cell_type": "markdown",
   "metadata": {},
   "source": [
    "With the 60x60x1 sampling the HF gap both at $\\Gamma$ and at $K$ is converged at\n",
    "the level of 5 meV."
   ]
  },
  {
   "cell_type": "markdown",
   "metadata": {
    "tags": []
   },
   "source": [
    "## Plasmon pole analysis"
   ]
  },
  {
   "cell_type": "markdown",
   "metadata": {},
   "source": [
    "We study the convergence of the gap at $\\Gamma$ and at $K$ using the plasmon pole run level. \n",
    "\n",
    "The aim of this analysis is to find a converged expression for the screening (that will be used also in the BSE calculations)\n",
    "and to test the RIM_W."
   ]
  },
  {
   "cell_type": "markdown",
   "metadata": {
    "tags": []
   },
   "source": [
    "### Convergence analysis of the screening"
   ]
  },
  {
   "cell_type": "markdown",
   "metadata": {},
   "source": [
    "We use the 18x18x1 k-points sampling and perform a convergence analysis in the BndsRnXp and GbndRnge parameters\n",
    "needed to compute the screening function.\n",
    "\n",
    "We perform this analysis using the RIM_W with RandGvecW=10."
   ]
  },
  {
   "cell_type": "code",
   "execution_count": 11,
   "metadata": {},
   "outputs": [
    {
     "name": "stdout",
     "output_type": "stream",
     "text": [
      "SAVE folder GW_analysis-ONCV/kpoints_18-nbnds_500/SAVE already present. No operations performed.\n"
     ]
    }
   ],
   "source": [
    "input_dir = 'DFT_analysis-ONCV/kpoints_18-nbnds_500.save'\n",
    "run_dir = 'GW_analysis-ONCV/kpoints_18-nbnds_500'\n",
    "Tools.init_yambo_dir(yambo_dir=run_dir,input_dir=input_dir)"
   ]
  },
  {
   "cell_type": "markdown",
   "metadata": {},
   "source": [
    "We the define the input variables common to all the runs"
   ]
  },
  {
   "cell_type": "code",
   "execution_count": 38,
   "metadata": {},
   "outputs": [
    {
     "name": "stdout",
     "output_type": "stream",
     "text": [
      "32 2\n"
     ]
    }
   ],
   "source": [
    "ntasks_c = 32 #16\n",
    "ntasks_v = int(ntasks/ntasks_c)\n",
    "print(ntasks_c,ntasks_v)\n",
    "\n",
    "start_band,stop_band = 28,29\n",
    "Gamma_index, K_index = 1, 37\n",
    "RandGvec = 200\n",
    "RandGvecW = 10\n",
    "Randqpts = 5e6\n",
    "\n",
    "EXXRLvcs = 40. # Ha\n",
    "EXXRLVcs_units = 'Ha'\n",
    "\n",
    "inp = I.YamboInput(args='yambo -r -k hartee -dyson n -gw0 p -V all',folder=run_dir)\n",
    "inp.set_extendOut()\n",
    "inp.activate_RIM_W()\n",
    "inp.set_array_variables(units=EXXRLVcs_units,EXXRLvcs=EXXRLvcs) \n",
    "inp.set_bandRange(start_band,stop_band)\n",
    "inp.set_scalar_variables(CUTGeo='slab z')\n",
    "inp.set_array_variables(RandQpts=Randqpts)\n",
    "inp.set_array_variables(units='RL',RandGvec=RandGvec,RandGvecW=RandGvecW)\n",
    "inp.set_scalar_variables(SE_ROLEs='q.qp.b',SE_CPU='2.2.16') # for 2 nodes on ismhpc (with 32 mpi and 1 omp per node)\n",
    "inp.set_scalar_variables(X_and_IO_ROLEs='q.g.k.c.v',X_and_IO_CPU='1.1.1.%s.%s'%(ntasks_c,ntasks_v))\n",
    "inp.set_scalar_variables(DIP_ROLEs='k.c.v',DIP_CPU='1.%s.%s'%(ntasks_c,ntasks_v))\n",
    "#inp"
   ]
  },
  {
   "cell_type": "markdown",
   "metadata": {},
   "source": [
    "First we run over NGsBlkXp"
   ]
  },
  {
   "cell_type": "code",
   "execution_count": 43,
   "metadata": {},
   "outputs": [
    {
     "name": "stdout",
     "output_type": "stream",
     "text": [
      "Initialize a Dataset with 4 parallel tasks\n"
     ]
    }
   ],
   "source": [
    "NGsBlkXp = [4.0,6.0,8.0,10.] # Ha G size of the response function\n",
    "NGsBlkXp_units = 'Ha'\n",
    "BndsRnXp  = [1,300] # Bands in the response function\n",
    "GbndRnge = [1,300]  # Bands in the Sigma_c\n",
    "\n",
    "inp.set_array_variables(BndsRnXp=BndsRnXp,GbndRnge=GbndRnge)\n",
    "\n",
    "study = D.Dataset(num_tasks=4,verbose=True)\n",
    "study.set_postprocessing_function(PP.yambo_parse_data)\n",
    "\n",
    "for ngsblkxp in NGsBlkXp:\n",
    "    inp.set_array_variables(units=NGsBlkXp_units,NGsBlkXp=ngsblkxp)\n",
    "    # append run at G\n",
    "    idd = 'pp-G-ngsblkxp_%s-bndsrnxp_%s-gbndrnge_%s'%(ngsblkxp,BndsRnXp[1],GbndRnge[1])\n",
    "    inp.set_kRange(Gamma_index,Gamma_index)\n",
    "    study.append_run(id=idd,input=inp,runner=code,run_dir=run_dir,\n",
    "            jobname=[idd,'ndb_rim_cutoff','ndb_hf_G','ndb_dipoles-nbnds_500',\n",
    "                     'ndb_em1d-ngsblkxp_%s-bndsrnxp_%s'%(ngsblkxp,BndsRnXp[1])],reformat=False)\n",
    "    # append run at K\n",
    "    idd = 'pp-K-ngsblkxp_%s-bndsrnxp_%s-gbndrnge_%s'%(ngsblkxp,BndsRnXp[1],GbndRnge[1])\n",
    "    inp.set_kRange(K_index,K_index)\n",
    "    study.append_run(id=idd,input=inp,runner=code,run_dir=run_dir,\n",
    "            jobname=[idd,'ndb_rim_cutoff','ndb_hf_K','ndb_dipoles-nbnds_500',\n",
    "                     'ndb_em1d-ngsblkxp_%s-bndsrnxp_%s'%(ngsblkxp,BndsRnXp[1])],reformat=False)"
   ]
  },
  {
   "cell_type": "code",
   "execution_count": 44,
   "metadata": {},
   "outputs": [],
   "source": [
    "#study.runs[6]"
   ]
  },
  {
   "cell_type": "code",
   "execution_count": 45,
   "metadata": {},
   "outputs": [
    {
     "name": "stdout",
     "output_type": "stream",
     "text": [
      "Run the selection [0, 1, 2, 3, 4, 5, 6, 7] with the parallel task_groups [[0, 1, 2, 3], [4, 5, 6, 7]] \n",
      "\n",
      "Run the task [0, 1, 2, 3] \n",
      "Skip the run of pp-G-ngsblkxp_4.0-bndsrnxp_300-gbndrnge_300Skip the run of\n",
      " pp-K-ngsblkxp_4.0-bndsrnxp_300-gbndrnge_300\n",
      "Skip the run of pp-K-ngsblkxp_6.0-bndsrnxp_300-gbndrnge_300Skip the run of\n",
      " pp-G-ngsblkxp_6.0-bndsrnxp_300-gbndrnge_300\n",
      "Task [0, 1, 2, 3] ended \n",
      " \n",
      "Run the task [4, 5, 6, 7] \n",
      "Skip the run of pp-G-ngsblkxp_8.0-bndsrnxp_300-gbndrnge_300\n",
      "Skip the run of pp-K-ngsblkxp_8.0-bndsrnxp_300-gbndrnge_300\n",
      "Skip the run of pp-G-ngsblkxp_10.0-bndsrnxp_300-gbndrnge_300\n",
      "run command: mpirun -np 64 yambo -F pp-K-ngsblkxp_10.0-bndsrnxp_300-gbndrnge_300.in -J \"pp-K-ngsblkxp_10.0-bndsrnxp_300-gbndrnge_300,ndb_rim_cutoff,ndb_hf_K,ndb_dipoles-nbnds_500,ndb_em1d-ngsblkxp_10.0-bndsrnxp_300\" -C pp-K-ngsblkxp_10.0-bndsrnxp_300-gbndrnge_300\n",
      "slurm submit:  cd GW_analysis-ONCV/kpoints_18-nbnds_500 ; sbatch job_pp-K-ngsblkxp_10.0-bndsrnxp_300-gbndrnge_300.sh\n",
      "computation pp-K-ngsblkxp_10.0-bndsrnxp_300-gbndrnge_300 is running...\n",
      "computation pp-K-ngsblkxp_10.0-bndsrnxp_300-gbndrnge_300 ended\n",
      "Run performed in 20m-14s\n",
      "Task [4, 5, 6, 7] ended \n",
      " \n"
     ]
    }
   ],
   "source": [
    "results = study.run()"
   ]
  },
  {
   "cell_type": "code",
   "execution_count": 46,
   "metadata": {},
   "outputs": [
    {
     "data": {
      "text/plain": [
       "([0.799132, 0.800351, 0.797613, 0.795936],\n",
       " [0.176307, 0.17599200000000004, 0.17595700000000003, 0.175966])"
      ]
     },
     "execution_count": 46,
     "metadata": {},
     "output_type": "execute_result"
    }
   ],
   "source": [
    "results_G, results_K = study.fetch_results(id='-G-'),study.fetch_results(id='-K-')\n",
    "gap_G = [r.data.get_gap(k_full=Gamma_index,band_full=start_band,verbose=False) for r in results_G]\n",
    "gap_K = [r.data.get_gap(k_full=K_index,band_full=start_band,verbose=False) for r in results_K]\n",
    "gap_G,gap_K"
   ]
  },
  {
   "cell_type": "code",
   "execution_count": 47,
   "metadata": {},
   "outputs": [
    {
     "data": {
      "image/png": "[encoded data removed]",
      "text/plain": [
       "<Figure size 864x360 with 2 Axes>"
      ]
     },
     "metadata": {
      "needs_background": "light"
     },
     "output_type": "display_data"
    }
   ],
   "source": [
    "fig, axes = plt.subplots(nrows=1, ncols=2, figsize=(12, 5))\n",
    "axes[0].plot(NGsBlkXp,gap_G)\n",
    "axes[0].scatter(NGsBlkXp,gap_G)\n",
    "axes[0].set_title('Gap at Gamma',size=14)\n",
    "axes[0].set_xlabel('NGsBlkXp (Ha)',size=14)\n",
    "axes[1].plot(NGsBlkXp, gap_K)\n",
    "axes[1].scatter(NGsBlkXp,gap_K)\n",
    "axes[1].set_xlabel('NGsBlkXp (Ha)',size=14)\n",
    "axes[1].set_title('Gap at K',size=14)\n",
    "fig.tight_layout()"
   ]
  },
  {
   "cell_type": "markdown",
   "metadata": {},
   "source": [
    "We choose the value NGsBlkXp = 8 Ha that ensures convergence at the level of 1 meV (or better) for\n",
    "both the $\\Gamma$ and the K points."
   ]
  },
  {
   "cell_type": "markdown",
   "metadata": {},
   "source": [
    "Next, we perform a convergence analysis on the number of bands. Here we choose to analyze the combined \n",
    "effect of the BndsRnXp and of the GbndRnge parameters. So we iterate over both the parameters."
   ]
  },
  {
   "cell_type": "code",
   "execution_count": 56,
   "metadata": {},
   "outputs": [
    {
     "name": "stdout",
     "output_type": "stream",
     "text": [
      "Initialize a Dataset with 1 parallel tasks\n"
     ]
    }
   ],
   "source": [
    "NGsBlkXp = 8.0 # Ha G size of the response function\n",
    "NGsBlkXp_units = 'Ha'\n",
    "Bands  = [[1,300],[1,400],[1,500]] # Bands in the response function and in the Sigma_c\n",
    "\n",
    "inp.set_array_variables(units=NGsBlkXp_units,NGsBlkXp=NGsBlkXp)\n",
    "\n",
    "study = D.Dataset(num_tasks=1,verbose=True)\n",
    "study.set_postprocessing_function(PP.yambo_parse_data)\n",
    "\n",
    "for bands in Bands:\n",
    "    inp.set_array_variables(BndsRnXp=bands)\n",
    "    inp.set_array_variables(GbndRnge=bands)\n",
    "    # append run at G\n",
    "    idd = 'pp-G-ngsblkxp_%s-bndsrnxp_%s-gbndrnge_%s'%(NGsBlkXp,bands[1],bands[1])\n",
    "    inp.set_kRange(Gamma_index,Gamma_index)\n",
    "    study.append_run(id=idd,input=inp,runner=code,run_dir=run_dir,\n",
    "            jobname=[idd,'ndb_rim_cutoff','ndb_hf_G','ndb_dipoles-nbnds_500',\n",
    "                     'ndb_em1d-ngsblkxp_%s-bndsrnxp_%s'%(NGsBlkXp,bands[1])],reformat=False) \n",
    "    # append run at K\n",
    "    idd = 'pp-K-ngsblkxp_%s-bndsrnxp_%s-gbndrnge_%s'%(NGsBlkXp,bands[1],bands[1])\n",
    "    inp.set_kRange(K_index,K_index)\n",
    "    study.append_run(id=idd,input=inp,runner=code,run_dir=run_dir,\n",
    "            jobname=[idd,'ndb_rim_cutoff','ndb_hf_K','ndb_dipoles-nbnds_500',\n",
    "                     'ndb_em1d-ngsblkxp_%s-bndsrnxp_%s'%(NGsBlkXp,bands[1])],reformat=False) "
   ]
  },
  {
   "cell_type": "code",
   "execution_count": 54,
   "metadata": {},
   "outputs": [],
   "source": [
    "#study.runs[2]"
   ]
  },
  {
   "cell_type": "code",
   "execution_count": 57,
   "metadata": {},
   "outputs": [
    {
     "name": "stdout",
     "output_type": "stream",
     "text": [
      "Run the selection [0, 1, 2, 3, 4, 5] with the parallel task_groups [[0], [1], [2], [3], [4], [5]] \n",
      "\n",
      "Run the task [0] \n",
      "Skip the run of pp-G-ngsblkxp_8.0-bndsrnxp_300-gbndrnge_300\n",
      "Task [0] ended \n",
      " \n",
      "Run the task [1] \n",
      "Skip the run of pp-K-ngsblkxp_8.0-bndsrnxp_300-gbndrnge_300\n",
      "Task [1] ended \n",
      " \n",
      "Run the task [2] \n",
      "Skip the run of pp-G-ngsblkxp_8.0-bndsrnxp_400-gbndrnge_400\n",
      "Task [2] ended \n",
      " \n",
      "Run the task [3] \n",
      "run command: mpirun -np 64 yambo -F pp-K-ngsblkxp_8.0-bndsrnxp_400-gbndrnge_400.in -J \"pp-K-ngsblkxp_8.0-bndsrnxp_400-gbndrnge_400,ndb_rim_cutoff,ndb_hf_K,ndb_dipoles-nbnds_500,ndb_em1d-ngsblkxp_8.0-bndsrnxp_400\" -C pp-K-ngsblkxp_8.0-bndsrnxp_400-gbndrnge_400\n",
      "slurm submit:  cd GW_analysis-ONCV/kpoints_18-nbnds_500 ; sbatch job_pp-K-ngsblkxp_8.0-bndsrnxp_400-gbndrnge_400.sh\n",
      "computation pp-K-ngsblkxp_8.0-bndsrnxp_400-gbndrnge_400 is running...\n",
      "computation pp-K-ngsblkxp_8.0-bndsrnxp_400-gbndrnge_400 ended\n",
      "Run performed in 14m-54s\n",
      "Task [3] ended \n",
      " \n",
      "Run the task [4] \n",
      "Skip the run of pp-G-ngsblkxp_8.0-bndsrnxp_500-gbndrnge_500\n",
      "Task [4] ended \n",
      " \n",
      "Run the task [5] \n",
      "run command: mpirun -np 64 yambo -F pp-K-ngsblkxp_8.0-bndsrnxp_500-gbndrnge_500.in -J \"pp-K-ngsblkxp_8.0-bndsrnxp_500-gbndrnge_500,ndb_rim_cutoff,ndb_hf_K,ndb_dipoles-nbnds_500,ndb_em1d-ngsblkxp_8.0-bndsrnxp_500\" -C pp-K-ngsblkxp_8.0-bndsrnxp_500-gbndrnge_500\n",
      "slurm submit:  cd GW_analysis-ONCV/kpoints_18-nbnds_500 ; sbatch job_pp-K-ngsblkxp_8.0-bndsrnxp_500-gbndrnge_500.sh\n",
      "computation pp-K-ngsblkxp_8.0-bndsrnxp_500-gbndrnge_500 is running...\n",
      "computation pp-K-ngsblkxp_8.0-bndsrnxp_500-gbndrnge_500 ended\n",
      "Run performed in 18m-35s\n",
      "Task [5] ended \n",
      " \n"
     ]
    }
   ],
   "source": [
    "results = study.run()"
   ]
  },
  {
   "cell_type": "code",
   "execution_count": 58,
   "metadata": {},
   "outputs": [
    {
     "data": {
      "text/plain": [
       "([0.797613, 0.792634, 0.789345],\n",
       " [0.17595700000000003, 0.18112499999999998, 0.18471400000000004])"
      ]
     },
     "execution_count": 58,
     "metadata": {},
     "output_type": "execute_result"
    }
   ],
   "source": [
    "results_G, results_K = study.fetch_results(id='-G-'),study.fetch_results(id='-K-')\n",
    "gap_G = [r.data.get_gap(k_full=Gamma_index,band_full=start_band,verbose=False) for r in results_G]\n",
    "gap_K = [r.data.get_gap(k_full=K_index,band_full=start_band,verbose=False) for r in results_K]\n",
    "gap_G,gap_K"
   ]
  },
  {
   "cell_type": "code",
   "execution_count": 59,
   "metadata": {},
   "outputs": [
    {
     "data": {
      "image/png": "[encoded data removed]",
      "text/plain": [
       "<Figure size 864x360 with 2 Axes>"
      ]
     },
     "metadata": {
      "needs_background": "light"
     },
     "output_type": "display_data"
    }
   ],
   "source": [
    "x_vals = [x[1] for x in Bands]\n",
    "\n",
    "fig, axes = plt.subplots(nrows=1, ncols=2, figsize=(12, 5))\n",
    "axes[0].plot(x_vals,gap_G)\n",
    "axes[0].scatter(x_vals,gap_G)\n",
    "axes[0].set_title('Gap at Gamma',size=14)\n",
    "axes[0].set_xlabel('Bands',size=14)\n",
    "axes[1].plot(x_vals, gap_K)\n",
    "axes[1].scatter(x_vals,gap_K)\n",
    "axes[1].set_xlabel('Bands',size=14)\n",
    "axes[1].set_title('Gap at K',size=14)\n",
    "fig.tight_layout()"
   ]
  },
  {
   "cell_type": "markdown",
   "metadata": {},
   "source": [
    "On the basis of this analysis we conclude that NGsBlkXp = 8 Ha, BndsRnXp = GbndRnge = 500 seems to ensure\n",
    " convergence within 5 meV."
   ]
  },
  {
   "cell_type": "code",
   "execution_count": null,
   "metadata": {},
   "outputs": [],
   "source": []
  },
  {
   "cell_type": "code",
   "execution_count": null,
   "metadata": {},
   "outputs": [],
   "source": []
  },
  {
   "cell_type": "code",
   "execution_count": null,
   "metadata": {},
   "outputs": [],
   "source": [
    "##########################################################################################"
   ]
  },
  {
   "cell_type": "markdown",
   "metadata": {
    "tags": []
   },
   "source": [
    "### PP Analysis in function of the k-points sampling"
   ]
  },
  {
   "cell_type": "markdown",
   "metadata": {},
   "source": [
    "We test the convergence of the PP gap at $K$ and at the $\\Gamma$ points in function of the dimension of the $k$-points sampling.\n",
    "\n",
    "Note that this analysis is performed without the BG terminator, since we have understood that usage of this terminator is not useful and may lead to erroneous results at $\\Gamma$. "
   ]
  },
  {
   "cell_type": "code",
   "execution_count": 4,
   "metadata": {},
   "outputs": [],
   "source": [
    "kpoints = [18,30,42,60,72]"
   ]
  },
  {
   "cell_type": "code",
   "execution_count": 5,
   "metadata": {},
   "outputs": [
    {
     "name": "stdout",
     "output_type": "stream",
     "text": [
      "16 2\n",
      "Initialize a Dataset with 1 parallel tasks\n",
      "Build the r_setup in the yambo_dir path GW_analysis/kpoints_72-nbnds_500\n"
     ]
    }
   ],
   "source": [
    "ntasks_c = 16\n",
    "ntasks_v = int(ntasks/ntasks_c)\n",
    "print(ntasks_c,ntasks_v)\n",
    "\n",
    "start_band,stop_band = 28,29\n",
    "Gamma_index = {18:1,30:1,42:1,60:1,72:1}\n",
    "K_index = {18:37,30:91,42:169,60:331,72:469}\n",
    "RandGvec = 200\n",
    "Randqpts = 5e6\n",
    "RandGvecW = 10\n",
    "EXXRLvcs = 60. # Ha\n",
    "EXXRLVcs_units = 'Ha'\n",
    "NGsBlkXp = 8.0 # Ha G size of the response function\n",
    "NGsBlkXp_units = 'Ha'\n",
    "BndsRnXp  = [1,500]# Bands in the response function\n",
    "GbndRnge = [1,500] # Bands in the Sigma_c\n",
    "\n",
    "study = D.Dataset(num_tasks=4,verbose=True)\n",
    "study.set_postprocessing_function(PP.yambo_parse_data)\n",
    "\n",
    "for k in kpoints:\n",
    "    input_dir = 'DFT_analysis/kpoints_%s-nbnds_500.save'%k\n",
    "    run_dir = 'GW_analysis/kpoints_%s-nbnds_500'%k\n",
    "    #Tools.init_yambo_dir(yambo_dir=run_dir,input_dir=input_dir)\n",
    "    Tools.build_r_setup(yambo_dir=run_dir)\n",
    "    #Tools.init_yambo_dir(yambo_dir=run_dir,input_dir=input_dir,\n",
    "    #        p2y_command='mpirun -np 1 p2y',yambo_command='mpirun -np 1 yambo')\n",
    "\n",
    "    inp = I.YamboInput(args='mpirun -np 1 yambo -r -k hartee -dyson n -gw0 p -V all',folder=run_dir)\n",
    "    inp.set_extendOut()\n",
    "    inp.activate_RIM_W()\n",
    "    inp.set_array_variables(units=EXXRLVcs_units,EXXRLvcs=EXXRLvcs,VXCRLvcs=EXXRLvcs)\n",
    "    inp.set_bandRange(start_band,stop_band)\n",
    "    inp.set_scalar_variables(CUTGeo='slab z')\n",
    "    inp.set_array_variables(RandQpts=Randqpts)\n",
    "    inp.set_array_variables(units='RL',RandGvec=RandGvec,RandGvecW=RandGvecW)\n",
    "    inp.set_bandRange(start_band,stop_band)\n",
    "    inp.set_array_variables(units=NGsBlkXp_units,NGsBlkXp=NGsBlkXp)\n",
    "    inp.set_array_variables(BndsRnXp=BndsRnXp,GbndRnge=GbndRnge)\n",
    "    #inp.set_scalar_variables(SE_ROLEs='q.qp.b',SE_CPU='2.2.16') # for 2 nodes on ismhpc (with 32 mpi and 1 omp per node)\n",
    "    inp.set_scalar_variables(SE_ROLEs='q.qp.b',SE_CPU='2.1.16') # for 8 nodes on m100\n",
    "    inp.set_scalar_variables(X_and_IO_ROLEs='q.g.k.c.v',X_and_IO_CPU='1.1.1.%s.%s'%(ntasks_c,ntasks_v))\n",
    "    inp.set_scalar_variables(DIP_ROLEs='k.c.v',DIP_CPU='1.%s.%s'%(ntasks_c,ntasks_v))\n",
    "    \n",
    "    # append run at G\n",
    "    inp.set_kRange(Gamma_index[k],Gamma_index[k])\n",
    "    idd = 'pp-G-kpoints_%s'%k\n",
    "    jobname = [idd,'ndb_rim_cutoff','ndb_hf_G',\n",
    "               'ndb_em1d-ngsblkxp_%s-bndsrnxp_%s'%(NGsBlkXp,BndsRnXp[1]),'ndb_dipoles-nbnds_500']\n",
    "    study.append_run(id=idd,input=inp,runner=code,run_dir=run_dir,jobname=jobname,reformat=False)\n",
    "    # append run at K\n",
    "    inp.set_kRange(K_index[k],K_index[k])\n",
    "    idd = 'pp-K-kpoints_%s'%k\n",
    "    jobname = [idd,'ndb_rim_cutoff','ndb_hf_K',\n",
    "               'ndb_em1d-ngsblkxp_%s-bndsrnxp_%s'%(NGsBlkXp,BndsRnXp[1]),'ndb_dipoles-nbnds_500']\n",
    "    study.append_run(id=idd,input=inp,runner=code,run_dir=run_dir,jobname=jobname,reformat=False)"
   ]
  },
  {
   "cell_type": "code",
   "execution_count": 6,
   "metadata": {},
   "outputs": [
    {
     "data": {
      "text/plain": [
       "['pp-G-kpoints_18',\n",
       " 'pp-K-kpoints_18',\n",
       " 'pp-G-kpoints_30',\n",
       " 'pp-K-kpoints_30',\n",
       " 'pp-G-kpoints_42',\n",
       " 'pp-K-kpoints_42',\n",
       " 'pp-G-kpoints_60',\n",
       " 'pp-K-kpoints_60',\n",
       " 'pp-G-kpoints_72',\n",
       " 'pp-K-kpoints_72']"
      ]
     },
     "execution_count": 6,
     "metadata": {},
     "output_type": "execute_result"
    }
   ],
   "source": [
    "study.ids"
   ]
  },
  {
   "cell_type": "code",
   "execution_count": 7,
   "metadata": {},
   "outputs": [],
   "source": [
    "#study.runs[1]"
   ]
  },
  {
   "cell_type": "code",
   "execution_count": 8,
   "metadata": {},
   "outputs": [
    {
     "name": "stdout",
     "output_type": "stream",
     "text": [
      "Run the selection [0, 1, 2, 3, 4, 5, 6, 7, 8, 9] with the parallel task_groups [[0], [1], [2], [3], [4], [5], [6], [7], [8], [9]] \n",
      "\n",
      "Run the task [0] \n",
      "Skip the run of pp-G-kpoints_18\n",
      "Task [0] ended \n",
      " \n",
      "Run the task [1] \n",
      "Skip the run of pp-K-kpoints_18\n",
      "Task [1] ended \n",
      " \n",
      "Run the task [2] \n",
      "Skip the run of pp-G-kpoints_30\n",
      "Task [2] ended \n",
      " \n",
      "Run the task [3] \n",
      "Skip the run of pp-K-kpoints_30\n",
      "Task [3] ended \n",
      " \n",
      "Run the task [4] \n",
      "Skip the run of pp-G-kpoints_42\n",
      "Task [4] ended \n",
      " \n",
      "Run the task [5] \n",
      "Skip the run of pp-K-kpoints_42\n",
      "Task [5] ended \n",
      " \n",
      "Run the task [6] \n",
      "Skip the run of pp-G-kpoints_60\n",
      "Task [6] ended \n",
      " \n",
      "Run the task [7] \n",
      "Skip the run of pp-K-kpoints_60\n",
      "Task [7] ended \n",
      " \n",
      "Run the task [8] \n",
      "Skip the run of pp-G-kpoints_72\n",
      "Task [8] ended \n",
      " \n",
      "Run the task [9] \n",
      "Skip the run of pp-K-kpoints_72\n",
      "Task [9] ended \n",
      " \n"
     ]
    }
   ],
   "source": [
    "results = study.run()"
   ]
  },
  {
   "cell_type": "code",
   "execution_count": 9,
   "metadata": {},
   "outputs": [
    {
     "data": {
      "text/plain": [
       "([0.5761360000000001,\n",
       "  0.60735,\n",
       "  0.6211709999999999,\n",
       "  0.6250579999999999,\n",
       "  0.630469],\n",
       " [0.20417100000000005,\n",
       "  0.183747,\n",
       "  0.17919300000000005,\n",
       "  0.173921,\n",
       "  0.17568399999999995])"
      ]
     },
     "execution_count": 9,
     "metadata": {},
     "output_type": "execute_result"
    }
   ],
   "source": [
    "results_G, results_K = study.fetch_results(id='-G-'),study.fetch_results(id='-K-')\n",
    "gap_G,gap_K = [],[]\n",
    "for ind,k in enumerate(kpoints):\n",
    "    gap_G.append(results_G[ind].data.get_gap(k_full=Gamma_index[k],band_full=start_band,verbose=False))\n",
    "    gap_K.append(results_K[ind].data.get_gap(k_full=K_index[k],band_full=start_band,verbose=False))\n",
    "gap_G,gap_K"
   ]
  },
  {
   "cell_type": "code",
   "execution_count": 10,
   "metadata": {},
   "outputs": [
    {
     "data": {
      "image/png": "[encoded data removed]",
      "text/plain": [
       "<Figure size 864x360 with 2 Axes>"
      ]
     },
     "metadata": {
      "needs_background": "light"
     },
     "output_type": "display_data"
    }
   ],
   "source": [
    "fig, axes = plt.subplots(nrows=1, ncols=2, figsize=(12, 5))\n",
    "axes[0].plot(kpoints,gap_G)\n",
    "axes[0].scatter(kpoints,gap_G)\n",
    "axes[0].set_title('Gap at Gamma',size=14)\n",
    "axes[0].set_xlabel('k-sampling',size=14)\n",
    "axes[1].plot(kpoints, gap_K)\n",
    "axes[1].scatter(kpoints,gap_K)\n",
    "axes[1].set_xlabel('k-sampling',size=14)\n",
    "axes[1].set_title('Gap at K',size=14)\n",
    "fig.tight_layout()"
   ]
  },
  {
   "cell_type": "markdown",
   "metadata": {},
   "source": [
    "We conclude that the value\n",
    "$$\n",
    "E_{gap} = 176 meV\n",
    "$$\n",
    "is the best estimate of the gap of the Stanene at K"
   ]
  },
  {
   "cell_type": "markdown",
   "metadata": {
    "tags": []
   },
   "source": [
    "## Quasi-particle band structure"
   ]
  },
  {
   "cell_type": "markdown",
   "metadata": {},
   "source": [
    "We use the convergence test performed above to computed the GW correction in the whole BZ. \n",
    "In this way we can compute the quasi-particle correction of the band structure.\n",
    "\n",
    "At this level of the analysis we perform these computations for the 30x30x1 $k$-points samplings."
   ]
  },
  {
   "cell_type": "code",
   "execution_count": 60,
   "metadata": {},
   "outputs": [],
   "source": [
    "kpoints = 18\n",
    "run_dir = 'GW_analysis-ONCV/kpoints_%s-nbnds_500'%kpoints"
   ]
  },
  {
   "cell_type": "code",
   "execution_count": 61,
   "metadata": {},
   "outputs": [
    {
     "name": "stdout",
     "output_type": "stream",
     "text": [
      "32 2\n"
     ]
    },
    {
     "data": {
      "text/plain": [
       "{'args': 'mpirun -np 1 yambo -r -k hartee -dyson n -gw0 p -V all',\n",
       " 'folder': 'GW_analysis-ONCV/kpoints_18-nbnds_500',\n",
       " 'filename': 'yambo.in',\n",
       " 'arguments': ['rim_cut',\n",
       "  'em1d',\n",
       "  'gw0',\n",
       "  'HF_and_locXC',\n",
       "  'ppa',\n",
       "  'ExtendOut',\n",
       "  'RIM_W'],\n",
       " 'variables': {'StdoHash': [40.0, ''],\n",
       "  'Nelectro': [28.0, ''],\n",
       "  'ElecTemp': [0.0, 'eV'],\n",
       "  'BoseTemp': [-1.0, 'eV'],\n",
       "  'OccTresh': [1e-05, ''],\n",
       "  'NLogCPUs': [0.0, ''],\n",
       "  'MEM_tresh': [668283.0, 'Kb'],\n",
       "  'FFTGvecs': [23133.0, 'RL'],\n",
       "  'X_and_IO_nCPU_LinAlg_INV': [-1.0, ''],\n",
       "  'X_Threads': [0.0, ''],\n",
       "  'DIP_Threads': [0.0, ''],\n",
       "  'SE_Threads': [0.0, ''],\n",
       "  'RandQpts': [5000000.0, ''],\n",
       "  'RandGvec': [200, 'RL'],\n",
       "  'IDEm1Ref': [0.0, ''],\n",
       "  'CUTRadius': [0.0, ''],\n",
       "  'CUTCylLen': [0.0, ''],\n",
       "  'CUTwsGvec': [0.7, ''],\n",
       "  'EXXRLvcs': [40.0, 'Ha'],\n",
       "  'VXCRLvcs': [40.0, 'Ha'],\n",
       "  'XfnQP_INTERP_NN': [1.0, ''],\n",
       "  'XfnQP_INTERP_shells': [20.0, ''],\n",
       "  'XfnQP_Wv_E': [0.0, 'eV'],\n",
       "  'XfnQP_Wv_dos': [0.0, 'eV'],\n",
       "  'XfnQP_Wc_E': [0.0, 'eV'],\n",
       "  'XfnQP_Wc_dos': [0.0, 'eV'],\n",
       "  'NGsBlkXp': [8.0, 'Ha'],\n",
       "  'CGrdSpXp': [100.0, ''],\n",
       "  'PPAPntXp': [27.21138, 'eV'],\n",
       "  'XTermEn': [40.0, 'eV'],\n",
       "  'GfnQP_INTERP_NN': [1.0, ''],\n",
       "  'GfnQP_INTERP_shells': [20.0, ''],\n",
       "  'GfnQP_Wv_E': [0.0, 'eV'],\n",
       "  'GfnQP_Wv_dos': [0.0, 'eV'],\n",
       "  'GfnQP_Wc_E': [0.0, 'eV'],\n",
       "  'GfnQP_Wc_dos': [0.0, 'eV'],\n",
       "  'BoseCut': [0.1, ''],\n",
       "  'GDamping': [0.1, 'eV'],\n",
       "  'dScStep': [0.1, 'eV'],\n",
       "  'GTermEn': [40.81708, 'eV'],\n",
       "  'GWoIter': [0.0, ''],\n",
       "  'GWIter': [0.0, ''],\n",
       "  'SCEtresh': [0.01, 'eV'],\n",
       "  'DBsIOoff': 'none',\n",
       "  'DBsFRAGpm': 'none',\n",
       "  'PAR_def_mode': 'balanced',\n",
       "  'CUTGeo': 'slab z',\n",
       "  'Chimod': 'HARTREE',\n",
       "  'ChiLinAlgMod': 'LIN_SYS',\n",
       "  'XfnQPdb': 'none',\n",
       "  'XfnQP_DbGd_INTERP_mode': 'NN',\n",
       "  'XTermKind': 'none',\n",
       "  'kind': 'BG',\n",
       "  'GfnQPdb': 'none',\n",
       "  'GfnQP_DbGd_INTERP_mode': 'NN',\n",
       "  'GTermKind': 'none',\n",
       "  'DysSolver': 'n',\n",
       "  'XfnQP_Z': [(1+0j), ''],\n",
       "  'GfnQP_Z': [(1+0j), ''],\n",
       "  'Em1Anys': [[0.0, 0.0, 0.0], ''],\n",
       "  'CUTBox': [[0.0, 0.0, 0.0], ''],\n",
       "  'XfnQP_E': [[0.0, 1.0, 1.0], ''],\n",
       "  'XfnQP_Wv': [[0.0, 0.0, 0.0], ''],\n",
       "  'XfnQP_Wc': [[0.0, 0.0, 0.0], ''],\n",
       "  'QpntsRXp': [[1, 37], ''],\n",
       "  'BndsRnXp': [[1, 500], ''],\n",
       "  'EhEngyXp': [['-1.000000', '-1.000000'], 'eV'],\n",
       "  'LongDrXp': [[1.0, 0.0, 0.0], ''],\n",
       "  'GfnQP_E': [[0.0, 1.0, 1.0], ''],\n",
       "  'GfnQP_Wv': [[0.0, 0.0, 0.0], ''],\n",
       "  'GfnQP_Wc': [[0.0, 0.0, 0.0], ''],\n",
       "  'GbndRnge': [[1, 500], ''],\n",
       "  'QPkrange': [[1, 37, 25, 32], ''],\n",
       "  'QPerange': [[1, 37, 0.0, '-1.000000'], ''],\n",
       "  'RandGvecW': [10, 'RL'],\n",
       "  'SE_ROLEs': 'q.qp.b',\n",
       "  'SE_CPU': '2.2.16',\n",
       "  'X_and_IO_ROLEs': 'q.g.k.c.v',\n",
       "  'X_and_IO_CPU': '1.1.1.32.2',\n",
       "  'DIP_ROLEs': 'k.c.v',\n",
       "  'DIP_CPU': '1.32.2'}}"
      ]
     },
     "execution_count": 61,
     "metadata": {},
     "output_type": "execute_result"
    }
   ],
   "source": [
    "ntasks_c = 32\n",
    "ntasks_v = int(ntasks/ntasks_c)\n",
    "print(ntasks_c,ntasks_v)\n",
    "\n",
    "start_band,stop_band = 25,32\n",
    "RandGvec = 200\n",
    "Randqpts = 5e6\n",
    "RandGvecW = 10\n",
    "EXXRLvcs = 40. # Ha\n",
    "EXXRLVcs_units = 'Ha'\n",
    "NGsBlkXp = 8.0 # Ha G size of the response function\n",
    "NGsBlkXp_units = 'Ha'\n",
    "BndsRnXp  = [1,500]# Bands in the response function\n",
    "GbndRnge = [1,500] # Bands in the Sigma_c\n",
    "\n",
    "inp = I.YamboInput(args='mpirun -np 1 yambo -r -k hartee -dyson n -gw0 p -V all',folder=run_dir)\n",
    "inp.set_extendOut()\n",
    "inp.activate_RIM_W()\n",
    "inp.set_array_variables(units=EXXRLVcs_units,EXXRLvcs=EXXRLvcs,VXCRLvcs=EXXRLvcs)\n",
    "inp.set_bandRange(start_band,stop_band)\n",
    "inp.set_scalar_variables(CUTGeo='slab z')\n",
    "inp.set_array_variables(RandQpts=Randqpts)\n",
    "inp.set_array_variables(units='RL',RandGvec=RandGvec,RandGvecW=RandGvecW)\n",
    "inp.set_bandRange(start_band,stop_band)\n",
    "inp.set_array_variables(units=NGsBlkXp_units,NGsBlkXp=NGsBlkXp)\n",
    "inp.set_array_variables(BndsRnXp=BndsRnXp,GbndRnge=GbndRnge)\n",
    "inp.set_scalar_variables(SE_ROLEs='q.qp.b',SE_CPU='2.2.16') # for 2 nodes on ismhpc (with 32 mpi and 1 omp per node)\n",
    "inp.set_scalar_variables(X_and_IO_ROLEs='q.g.k.c.v',X_and_IO_CPU='1.1.1.%s.%s'%(ntasks_c,ntasks_v))\n",
    "inp.set_scalar_variables(DIP_ROLEs='k.c.v',DIP_CPU='1.%s.%s'%(ntasks_c,ntasks_v))\n",
    "inp"
   ]
  },
  {
   "cell_type": "code",
   "execution_count": null,
   "metadata": {},
   "outputs": [
    {
     "name": "stdout",
     "output_type": "stream",
     "text": [
      "run command: mpirun -np 64 yambo -F pp-allBZ-ngsblkxp_8.0-bndsrnxp_500-gbndrnge_500.in -J \"pp-allBZ-ngsblkxp_8.0-bndsrnxp_500-gbndrnge_500,ndb_rim_cutoff,ndb_em1d-ngsblkxp_8.0-bndsrnxp_500,ndb_dipoles-nbnds_500,ndb_hf_allBZ\" -C pp-allBZ-ngsblkxp_8.0-bndsrnxp_500-gbndrnge_500\n",
      "slurm submit:  cd GW_analysis-ONCV/kpoints_18-nbnds_500 ; sbatch job_pp-allBZ-ngsblkxp_8.0-bndsrnxp_500-gbndrnge_500.sh\n",
      "computation pp-allBZ-ngsblkxp_8.0-bndsrnxp_500-gbndrnge_500 is running...\n"
     ]
    }
   ],
   "source": [
    "idd = 'pp-allBZ-ngsblkxp_%s-bndsrnxp_%s-gbndrnge_%s'%(NGsBlkXp,BndsRnXp[1],GbndRnge[1])\n",
    "jobname = [idd,'ndb_rim_cutoff','ndb_em1d-ngsblkxp_%s-bndsrnxp_%s'%(NGsBlkXp,BndsRnXp[1]),\n",
    "           'ndb_dipoles-nbnds_500','ndb_hf_allBZ']\n",
    "results = code.run(input=inp,run_dir=run_dir,name=idd,jobname=jobname,reformat=False)"
   ]
  },
  {
   "cell_type": "markdown",
   "metadata": {
    "tags": []
   },
   "source": [
    "### Ypp analysis"
   ]
  },
  {
   "cell_type": "markdown",
   "metadata": {},
   "source": [
    "We use the previous results to compute the GW correction of the band structure along a high symmetry path."
   ]
  },
  {
   "cell_type": "code",
   "execution_count": 64,
   "metadata": {},
   "outputs": [
    {
     "name": "stdout",
     "output_type": "stream",
     "text": [
      "Initialize a Yambo calculator with scheduler slurm\n"
     ]
    }
   ],
   "source": [
    "# RunRules for ismhpc\n",
    "# The product of ntasks_per_node*cpus_per_task is equal to 32. \n",
    "# Many mpi are needed for better performances\n",
    "nodes = 1\n",
    "ntasks_per_node = 16\n",
    "cpus_per_task=2\n",
    "omp_num_threads=2\n",
    "\n",
    "ntasks = nodes*ntasks_per_node\n",
    "\n",
    "rr = C.RunRules(scheduler='slurm',partition='all12h', #fastnodes\n",
    "                memory='124000',\n",
    "                nodes=nodes,ntasks_per_node=ntasks_per_node,\n",
    "                cpus_per_task=cpus_per_task,\n",
    "                omp_num_threads=omp_num_threads)\n",
    "ypp_code = C.YamboCalculator(rr,executable='ypp',activate_BeeOND=True) \n",
    "#ypp_code.global_options()"
   ]
  },
  {
   "cell_type": "code",
   "execution_count": 65,
   "metadata": {},
   "outputs": [],
   "source": [
    "ndbQP = 'pp-allBZ-ngsblkxp_8.0-bndsrnxp_500-gbndrnge_500/ndb.QP'"
   ]
  },
  {
   "cell_type": "code",
   "execution_count": 67,
   "metadata": {},
   "outputs": [
    {
     "name": "stdout",
     "output_type": "stream",
     "text": [
      "Initialize a Dataset with 2 parallel tasks\n"
     ]
    }
   ],
   "source": [
    "# with BANDS_kpts\n",
    "\n",
    "band_range = [start_band,stop_band]\n",
    "bands_step = 50\n",
    "\n",
    "# in crystal coordinates\n",
    "G = [0.,0.,0.]\n",
    "Kp = [1./3.,1./3.,0.]\n",
    "Mp = [0.,0.5,0.]\n",
    "high_sym = {'G':G,'K':Kp,'M':Mp} # useful to label the high-sym point on the path\n",
    "path = [G,Mp,Kp,G]\n",
    "\n",
    "study = D.Dataset(run_dir=run_dir,num_tasks=2,verbose=True)\n",
    "\n",
    "inp = I.YamboInput(args='mpirun -np 1 ypp -s b -V qp',folder=run_dir,filename='ypp.in')\n",
    "inp.set_array_variables(BANDS_bands=band_range,BANDS_steps=bands_step,BANDS_kpts=path)\n",
    "#inp.set_array_variables(GfnQP_E=GfnQP_E[k])\n",
    "inp.set_scalar_variables(cooIn='rlu',cooOut='rlu')\n",
    "\n",
    "idd = 'ypp_bands_dft_boltz'\n",
    "inp['variables']['INTERP_mode'] = 'BOLTZ'\n",
    "inp['variables']['INTERP_Shell_Fac'] = [20,'']\n",
    "inp['variables']['GfnQP_DbGd_INTERP_mode'] = 'BOLTZ'\n",
    "inp['variables']['GfnQP_INTERP_shells'] = [20,'']\n",
    "study.append_run(id=idd,input=inp,runner=ypp_code) \n",
    "\n",
    "idd = 'ypp_bands_gw_boltz'\n",
    "inp['variables']['INTERP_mode'] = 'BOLTZ'\n",
    "inp['variables']['INTERP_Shell_Fac'] = [10,'']\n",
    "inp['variables']['GfnQP_DbGd_INTERP_mode'] = 'BOLTZ'\n",
    "inp['variables']['GfnQP_INTERP_shells'] = [10,'']\n",
    "inp['variables']['GfnQPdb']= 'E < %s'%ndbQP\n",
    "study.append_run(id=idd,input=inp,runner=ypp_code)"
   ]
  },
  {
   "cell_type": "code",
   "execution_count": 68,
   "metadata": {},
   "outputs": [],
   "source": [
    "#study.runs[1]"
   ]
  },
  {
   "cell_type": "code",
   "execution_count": 69,
   "metadata": {},
   "outputs": [
    {
     "name": "stdout",
     "output_type": "stream",
     "text": [
      "Run the selection [0, 1] with the parallel task_groups [[0, 1]] \n",
      "\n",
      "Run the task [0, 1] \n",
      "run command: mpirun -np 16 ypp -F ypp_bands_dft_boltz.in -J ypp_bands_dft_boltz -C ypp_bands_dft_boltz\n",
      "slurm submit:  cd GW_analysis-ONCV/kpoints_18-nbnds_500 ; sbatch job_ypp_bands_dft_boltz.sh\n",
      "computation ypp_bands_dft_boltz is running...\n",
      "run command: mpirun -np 16 ypp -F ypp_bands_gw_boltz.in -J ypp_bands_gw_boltz -C ypp_bands_gw_boltz\n",
      "slurm submit:  cd GW_analysis-ONCV/kpoints_18-nbnds_500 ; sbatch job_ypp_bands_gw_boltz.sh\n",
      "computation ypp_bands_gw_boltz is running...\n",
      "computation ypp_bands_gw_boltz ended\n",
      "Run performed in 02s\n",
      "computation ypp_bands_dft_boltz ended\n",
      "Run performed in 05s\n",
      "Task [0, 1] ended \n",
      " \n"
     ]
    }
   ],
   "source": [
    "results = study.run()"
   ]
  },
  {
   "cell_type": "code",
   "execution_count": 75,
   "metadata": {},
   "outputs": [
    {
     "data": {
      "text/plain": [
       "{'output': {'bands_interpolated': 'GW_analysis-ONCV/kpoints_18-nbnds_500/ypp_bands_dft_boltz/o-ypp_bands_dft_boltz.bands_interpolated',\n",
       "  'spin_factors_UP_interpolated': 'GW_analysis-ONCV/kpoints_18-nbnds_500/ypp_bands_dft_boltz/o-ypp_bands_dft_boltz.spin_factors_UP_interpolated',\n",
       "  'spin_factors_DN_interpolated': 'GW_analysis-ONCV/kpoints_18-nbnds_500/ypp_bands_dft_boltz/o-ypp_bands_dft_boltz.spin_factors_DN_interpolated',\n",
       "  'magnetization_x_interpolated': 'GW_analysis-ONCV/kpoints_18-nbnds_500/ypp_bands_dft_boltz/o-ypp_bands_dft_boltz.magnetization_x_interpolated',\n",
       "  'magnetization_y_interpolated': 'GW_analysis-ONCV/kpoints_18-nbnds_500/ypp_bands_dft_boltz/o-ypp_bands_dft_boltz.magnetization_y_interpolated',\n",
       "  'magnetization_z_interpolated': 'GW_analysis-ONCV/kpoints_18-nbnds_500/ypp_bands_dft_boltz/o-ypp_bands_dft_boltz.magnetization_z_interpolated'},\n",
       " 'report': 'GW_analysis-ONCV/kpoints_18-nbnds_500/ypp_bands_dft_boltz/r-ypp_bands_dft_boltz_electrons_bnds',\n",
       " 'dft': 'GW_analysis-ONCV/kpoints_18-nbnds_500/SAVE/ns.db1'}"
      ]
     },
     "execution_count": 75,
     "metadata": {},
     "output_type": "execute_result"
    }
   ],
   "source": [
    "results[0]"
   ]
  },
  {
   "cell_type": "code",
   "execution_count": 76,
   "metadata": {},
   "outputs": [],
   "source": [
    "bands_gw = U.BandStructure.from_Ypp(results[1],high_sym,suffix='bands_interpolated')\n",
    "bands_dft = U.BandStructure.from_Ypp(results[0],high_sym,suffix='bands_interpolated')"
   ]
  },
  {
   "cell_type": "markdown",
   "metadata": {},
   "source": [
    "We show the GW correction for the valence and conduction bands"
   ]
  },
  {
   "cell_type": "code",
   "execution_count": 86,
   "metadata": {},
   "outputs": [
    {
     "data": {
      "text/plain": [
       "Text(0.5, 1.0, 'Stanene GW bands ')"
      ]
     },
     "execution_count": 86,
     "metadata": {},
     "output_type": "execute_result"
    },
    {
     "data": {
      "image/png": "[encoded data removed]",
      "text/plain": [
       "<Figure size 864x648 with 1 Axes>"
      ]
     },
     "metadata": {
      "needs_background": "light"
     },
     "output_type": "display_data"
    }
   ],
   "source": [
    "# Results for the 18x18x1 kpoints sampling \n",
    "\n",
    "fig, ax = plt.subplots(figsize=(12, 9))\n",
    "bands_dft.plot(plt,selection=[2,3,4,5,6,7],linestyle='--',label='dft')\n",
    "bands_gw.plot(plt,selection=[2,3,4,5,6,7],linestyle='-',label='gw')\n",
    "ax.set_ylabel('Energy (eV)',size=16)\n",
    "plt.title('Stanene GW bands ',size=16)"
   ]
  },
  {
   "cell_type": "code",
   "execution_count": null,
   "metadata": {},
   "outputs": [],
   "source": []
  },
  {
   "cell_type": "code",
   "execution_count": null,
   "metadata": {},
   "outputs": [],
   "source": []
  },
  {
   "cell_type": "code",
   "execution_count": null,
   "metadata": {},
   "outputs": [],
   "source": []
  }
 ],
 "metadata": {
  "kernelspec": {
   "display_name": "Python 3",
   "language": "python",
   "name": "python3"
  },
  "language_info": {
   "codemirror_mode": {
    "name": "ipython",
    "version": 3
   },
   "file_extension": ".py",
   "mimetype": "text/x-python",
   "name": "python",
   "nbconvert_exporter": "python",
   "pygments_lexer": "ipython3",
   "version": "3.6.8"
  }
 },
 "nbformat": 4,
 "nbformat_minor": 4
}
